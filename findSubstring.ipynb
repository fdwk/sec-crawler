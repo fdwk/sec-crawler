{
 "cells": [
  {
   "cell_type": "code",
   "execution_count": 1,
   "metadata": {},
   "outputs": [],
   "source": [
    "import os\n",
    "import pandas as pd \n",
    "from tqdm import tqdm\n",
    "import re\n",
    "import codecs"
   ]
  },
  {
   "cell_type": "code",
   "execution_count": 2,
   "metadata": {},
   "outputs": [],
   "source": [
    "def find_purchase_contract(file_path):\n",
    "    with open(file_path, 'r', encoding='utf-8') as file:\n",
    "        text = file.read()\n",
    "        occurrences = text.count(\"purchase agreement\")\n",
    "        return occurrences"
   ]
  },
  {
   "cell_type": "code",
   "execution_count": 3,
   "metadata": {},
   "outputs": [],
   "source": [
    "def generate_directories(start_year, end_year):\n",
    "    directories = []\n",
    "    quarters = [1,2,3,4]\n",
    "    for year in range(start_year, end_year + 1):\n",
    "        for quarter in quarters:\n",
    "            directory = f\"sec-data/data/{year}_{quarter}/10-K\"\n",
    "            directories.append(directory)\n",
    "    return directories\n"
   ]
  },
  {
   "cell_type": "code",
   "execution_count": 4,
   "metadata": {},
   "outputs": [
    {
     "data": {
      "text/plain": [
       "[0, 5, 10, 15]"
      ]
     },
     "execution_count": 4,
     "metadata": {},
     "output_type": "execute_result"
    }
   ],
   "source": [
    "def find_all(a_str, sub):\n",
    "    start = 0\n",
    "    while True:\n",
    "        start = a_str.find(sub, start)\n",
    "        if start == -1: return\n",
    "        yield start\n",
    "        start += len(sub)\n",
    "        \n",
    "list(find_all('spam spam spam spam', 'spam'))"
   ]
  },
  {
   "cell_type": "code",
   "execution_count": 7,
   "metadata": {},
   "outputs": [],
   "source": [
    "def find_purchase_contract_context(file_path):\n",
    "    pattern = re.compile(r'([^\\.]*?purchase agreement[^\\.]*\\.)', re.IGNORECASE)\n",
    "\n",
    "    # Initialize list to store contexts\n",
    "    contexts = []\n",
    "\n",
    "    with codecs.open(file_path, 'r', encoding='utf-8', errors='ignore') as file:\n",
    "        text = file.read()\n",
    "\n",
    "        instances = list(find_all(text, 'purchase agreement'))\n",
    "        if len(instances) == 0:\n",
    "            return contexts\n",
    "\n",
    "        # Find matches in the text\n",
    "        for instance in instances:\n",
    "            start_index = max(0, instance - 500)\n",
    "            end_index = min(len(text), instance + 500)\n",
    "            context = text[start_index:end_index]\n",
    "            contexts.append(context)\n",
    "\n",
    "    return contexts"
   ]
  },
  {
   "cell_type": "code",
   "execution_count": 8,
   "metadata": {},
   "outputs": [
    {
     "data": {
      "text/plain": [
       "[\"rs are\\nstayed pursuant to Section 362 of the Bankruptcy Code)\\n\\n       A.   Appalachian Producer Litigation\\n\\n          1.   Enterprise Energy Corp. et al. v. Columbia Gas Transmission\\nCorp., C. A. No. C2-85-1209, (U. S. Dist. Ct., S. D. Ohio, filed July 26,\\n1985).  See II.C.1. below\\n\\n          2.   Phillips Production Co. v. Columbia Gas Transmission Corp., C.A.\\nNo. 89-0269, (U.S. Dist. Ct., W.D. Pa. filed February 7, 1989).  The complaint\\nas filed contained six separate counts involving ten gas purchase contracts\\nwith Columbia Transmission.  All claims except those relating to Columbia\\nTransmission's invocation of the cost recovery clause were settled and\\ndismissed December 18, 1989, pursuant to agreement of the parties.  Phillips\\ncost recovery claim was stayed by Columbia Transmission's bankruptcy filing.\\n\\n          3.   Columbia Gas Transmission Corp. v. Alamco, Inc. et al., C.A. No.\\n88-C-38-2 (Harrison (W.Va) Cir. Ct. filed January 15, 1988).  Under a 1983\\nrelease agreement, Columbi\",\n",
       " \"rmation of a Columbia Transmission plan of reorganization or closing of\\nthe Columbia Transmission bankruptcy proceeding.\\n\\n       B.   Southwest Producer Litigation (Suits naming Columbia Transmission\\nare stayed as to Columbia Transmission; indemnification agreements will be\\neffective if the contract providing indemnification is not rejected)\\n\\n          1.  Royalty Owners Litigation: The agreements between Columbia\\nTransmission and certain southwest producers effective in 1985 which reformed\\ngas purchase contracts have resulted in a number of lawsuits against the\\nproducers.  Under the agreements, Columbia Transmission has a qualified\\nobligation to indemnify the producers in certain instances against claims by\\ntheir royalty owners.\\n\\n            Certain suits were pending against Amoco Production Company (Amoco)\\nfor which it was seeking indemnification from Columbia Transmission as of the\\ncommencement of Columbia Transmission's proceeding in bankruptcy.  In November\\n1993, Columbia Transmi\",\n",
       " \"fth Circuit.  On August 20, 1991, the Clerk of the Court\\nadvised Columbia Transmission that the case was stayed during the Chapter 11\\nBankruptcy proceedings.\\n\\n          5.   Energy Development Corp. v. Columbia Gas Transmission Corp.,\\nC.A. No. CV91-0960, (U.S. Dist. Ct., W. D., La., division Lafayette/Opelousas,\\nfiled May 13, 1991).  Energy Development Corporation alleges that Columbia\\nTransmission breached the take-or-pay, minimum daily quantity and inequitable\\nwithdrawal provisions of the gas purchase contract between Energy Development\\nCorporation and Columbia Transmission.\\n\\nIV.    Regulatory Matters\\n\\n       A.   Take-or-Pay and Contract Reformation Costs Billed by Pipeline\\nSuppliers\\n\\n          1.   Columbia Gas Transmission Corp., FERC Dkt. No. RP91-41, reversed\\nand remanded Baltimore Gas & Electric Co. v. FERC, 26 F.3d 1129 (D.C. Cir\\n1994).  On June 24, 1994, the Court of Appeals reversed the Federal Energy\\nRegulatory Commission's (FERC) finding that the 1985 PGA Settlement did no\",\n",
       " \" the Bankruptcy Code, allowing\\nthem to continue normal business operations subject to the jurisdiction of the\\nUnited States Bankruptcy Court for the District of Delaware (Bankruptcy Court).\\n\\nEvents Leading to Bankruptcy Filings\\nColumbia Transmission's Chapter 11 filing was precipitated by a combination of\\nevents that adversely affected its physical operations and financial viability.\\nMost notable were federal legislative and regulatory actions, instituted years\\nafter Columbia Transmission's gas purchase contracts were signed, that\\nsignificantly impacted Columbia Transmission's ability to sell the gas it had\\ncontracted to buy and to recover its costs from its customers.  These problems\\nwere exacerbated by record-setting warm weather in 1990 and 1991, which caused\\nspot market prices for gas to plunge and created excess transportation\\ncapacity, thus making an unexpected and persistent oversupply of bargain-priced\\ngas available to Columbia Transmission's customers.  As a result, Columbia\\nT\",\n",
       " \"ured debt owed\\nby Columbia Transmission to the Corporation was $488.3 million at December 31,\\n1994.  In addition to these secured claims, the Corporation has an unsecured\\nclaim against Columbia Transmission of $351 million in installment notes issued\\nprior to 1985 and accrued interest to the petition date.\\n\\n                       Producer Claims Estimation Process\\nAs a result of Columbia Transmission's bankruptcy petition filing in July 1991\\nand its rejection of more than 4,800 above-market gas purchase contracts with\\nproducers, Columbia Transmission had recorded liabilities of approximately one\\nbillion dollars for estimated contract rejection costs.  In addition,\\napproximately $200 million of take-or-pay and other miscellaneous producer\\nclaims had also been recorded.\\n\\n\\n\\n\\n\\n                                       20\\n<PAGE>   21\\nITEM 7.  MANAGEMENT'S DISCUSSION AND ANALYSIS OF FINANCIAL CONDITION AND\\n         RESULTS OF OPERATIONS (Continued)\\n\\n\\nIn 1992, the Bankruptcy Court approved the a\",\n",
       " \"     1,903,948       1,876,265       1,849,662    1,891,845\\n- -------------------------------------------------------------------------------------------------------------\\n\\nDEGREE DAYS                               5,530            5,677           5,507           4,998        4,783\\n- -------------------------------------------------------------------------------------------------------------\\n</TABLE>\\n\\n *  Includes Columbia Gas of New York, Inc. through March 31, 1991.\\n**  Reflects volumes under purchase contracts of less than one year.\\n\\n\\n\\n\\n\\n                                       43\\n<PAGE>   44\\nITEM 7.  MANAGEMENT'S DISCUSSION AND ANALYSIS OF FINANCIAL CONDITION AND\\n         RESULTS OF OPERATIONS (Continued)\\n\\n                             OIL AND GAS OPERATIONS\\n\\nLower energy prices, particularly in the second half of 1994, adversely\\nimpacted operations of the oil and gas segment.  Overall, natural gas prices\\naveraged $2.18 per Mcf in 1994 compared to $2.28 in 1993.  Oil prices also\\ndecli\",\n",
       " '     Intercompany Complaint.\\n\\n                       PRODUCER CLAIMS ESTIMATION PROCESS\\n      Columbia Transmission has recorded liabilities of approximately $1.3\\n      billion to reflect the estimated effects of rejecting its above- market\\n      producer contracts and estimated producer obligations associated with\\n      pricing disputes and take-or-pay obligations for historical periods.\\n      With Bankruptcy Court approval, Columbia Transmission rejected more than\\n      4,800 above-market gas purchase contracts with producers.  The producers\\n      whose gas purchase contracts were rejected filed claims for damages that,\\n      after being adjusted for duplicative and other erroneous claims, are in\\n      excess of $13 billion.  The Bankruptcy Court approved the appointment of\\n      a claims mediator in 1992 to implement a claims estimation procedure\\n      related to the rejected above-market producer contracts and other\\n      producer claims.  On October 13, 1994, the claims mediator i',\n",
       " 'MS ESTIMATION PROCESS\\n      Columbia Transmission has recorded liabilities of approximately $1.3\\n      billion to reflect the estimated effects of rejecting its above- market\\n      producer contracts and estimated producer obligations associated with\\n      pricing disputes and take-or-pay obligations for historical periods.\\n      With Bankruptcy Court approval, Columbia Transmission rejected more than\\n      4,800 above-market gas purchase contracts with producers.  The producers\\n      whose gas purchase contracts were rejected filed claims for damages that,\\n      after being adjusted for duplicative and other erroneous claims, are in\\n      excess of $13 billion.  The Bankruptcy Court approved the appointment of\\n      a claims mediator in 1992 to implement a claims estimation procedure\\n      related to the rejected above-market producer contracts and other\\n      producer claims.  On October 13, 1994, the claims mediator issued his\\n      Initial Report and Recommendation of the Claims Me']"
      ]
     },
     "execution_count": 8,
     "metadata": {},
     "output_type": "execute_result"
    }
   ],
   "source": [
    "file = \"sec-data/data/1995_1/10-K/0000893220-95-000104.txt\"\n",
    "find_purchase_contract_context(file)"
   ]
  },
  {
   "cell_type": "code",
   "execution_count": 10,
   "metadata": {},
   "outputs": [
    {
     "name": "stdout",
     "output_type": "stream",
     "text": [
      "sec-data/data/2005_1/10-K\n"
     ]
    },
    {
     "name": "stderr",
     "output_type": "stream",
     "text": [
      "100%|██████████| 6531/6531 [03:06<00:00, 35.11it/s] \n"
     ]
    },
    {
     "name": "stdout",
     "output_type": "stream",
     "text": [
      "sec-data/data/2005_2/10-K\n"
     ]
    },
    {
     "name": "stderr",
     "output_type": "stream",
     "text": [
      "100%|██████████| 855/855 [00:24<00:00, 35.31it/s]\n"
     ]
    },
    {
     "name": "stdout",
     "output_type": "stream",
     "text": [
      "sec-data/data/2005_3/10-K\n"
     ]
    },
    {
     "name": "stderr",
     "output_type": "stream",
     "text": [
      "100%|██████████| 670/670 [00:19<00:00, 35.18it/s] \n"
     ]
    },
    {
     "name": "stdout",
     "output_type": "stream",
     "text": [
      "sec-data/data/2005_4/10-K\n"
     ]
    },
    {
     "name": "stderr",
     "output_type": "stream",
     "text": [
      "100%|██████████| 535/535 [00:20<00:00, 26.43it/s]\n"
     ]
    }
   ],
   "source": [
    "\n",
    "start_year = 2005\n",
    "end_year = 2005\n",
    "directories = generate_directories(start_year, end_year)\n",
    "\n",
    "\n",
    "csv_path = \"purchase_contract.csv\"\n",
    "if os.path.exists(csv_path):\n",
    "    existing_df = pd.read_csv(csv_path)\n",
    "else:\n",
    "    existing_df = pd.DataFrame()\n",
    "\n",
    "data = []\n",
    "for directory in directories:\n",
    "    print(directory)\n",
    "    file_list = os.listdir(directory)\n",
    "\n",
    "    for filename in tqdm(file_list):\n",
    "        file_path = os.path.join(directory, filename)\n",
    "        \n",
    "        if file_path.endswith(\".txt\"):\n",
    "\n",
    "            contexts = find_purchase_contract_context(file_path)\n",
    "            \n",
    "            if len(contexts) != 0:\n",
    "                for paragraph in contexts:\n",
    "                    data.append({'Directory': directory, 'File': filename, 'Paragraph': paragraph})\n",
    "\n",
    "df = pd.DataFrame(data)\n",
    "\n",
    "combined_df = pd.concat([existing_df, df], ignore_index=True)\n",
    "combined_df.to_csv(csv_path, index=True)\n"
   ]
  },
  {
   "cell_type": "code",
   "execution_count": 29,
   "metadata": {},
   "outputs": [
    {
     "name": "stderr",
     "output_type": "stream",
     "text": [
      "  2%|▏         | 20/1281 [00:00<00:07, 171.16it/s]"
     ]
    },
    {
     "name": "stdout",
     "output_type": "stream",
     "text": [
      "File: 0000950144-95-000704.txt, Occurrences: 3\n",
      "File: 0000950129-95-000094.txt, Occurrences: 1\n",
      "File: 0000102212-95-000012.txt, Occurrences: 1\n"
     ]
    },
    {
     "name": "stderr",
     "output_type": "stream",
     "text": [
      "  4%|▍         | 50/1281 [00:00<00:12, 96.98it/s] "
     ]
    },
    {
     "name": "stdout",
     "output_type": "stream",
     "text": [
      "File: 0000916641-95-000050.txt, Occurrences: 3\n",
      "File: 0000018540-95-000045.txt, Occurrences: 2\n",
      "File: 0000072741-95-000017.txt, Occurrences: 4\n"
     ]
    },
    {
     "name": "stderr",
     "output_type": "stream",
     "text": [
      "  6%|▌         | 75/1281 [00:00<00:11, 103.47it/s]"
     ]
    },
    {
     "name": "stdout",
     "output_type": "stream",
     "text": [
      "File: 0000950134-95-000291.txt, Occurrences: 9\n",
      "File: 0000012400-95-000005.txt, Occurrences: 3\n"
     ]
    },
    {
     "name": "stderr",
     "output_type": "stream",
     "text": [
      "  9%|▊         | 110/1281 [00:01<00:11, 104.22it/s]"
     ]
    },
    {
     "name": "stdout",
     "output_type": "stream",
     "text": [
      "File: 0000014407-95-000003.txt, Occurrences: 2\n",
      "File: 0000017927-95-000007.txt, Occurrences: 3\n",
      "File: 0000018540-95-000041.txt, Occurrences: 2\n",
      "File: 0000018675-95-000007.txt, Occurrences: 1\n",
      "File: 0000018540-95-000042.txt, Occurrences: 2\n"
     ]
    },
    {
     "name": "stderr",
     "output_type": "stream",
     "text": [
      " 10%|█         | 133/1281 [00:01<00:10, 106.20it/s]"
     ]
    },
    {
     "name": "stdout",
     "output_type": "stream",
     "text": [
      "File: 0000018808-95-000005.txt, Occurrences: 1\n",
      "File: 0000950109-95-000991.txt, Occurrences: 1\n",
      "File: 0000201533-95-000029.txt, Occurrences: 4\n",
      "File: 0000065984-95-000008.txt, Occurrences: 2\n"
     ]
    },
    {
     "name": "stderr",
     "output_type": "stream",
     "text": [
      " 12%|█▏        | 155/1281 [00:01<00:12, 90.58it/s] "
     ]
    },
    {
     "name": "stdout",
     "output_type": "stream",
     "text": [
      "File: 0000021271-95-000010.txt, Occurrences: 5\n",
      "File: 0000893220-95-000104.txt, Occurrences: 8\n"
     ]
    },
    {
     "name": "stderr",
     "output_type": "stream",
     "text": [
      " 14%|█▍        | 177/1281 [00:01<00:12, 90.47it/s]"
     ]
    },
    {
     "name": "stdout",
     "output_type": "stream",
     "text": [
      "File: 0000016573-95-000003.txt, Occurrences: 1\n",
      "File: 0000023304-95-000006.txt, Occurrences: 1\n",
      "File: 0000023738-95-000029.txt, Occurrences: 4\n",
      "File: 0000024545-95-000003.txt, Occurrences: 1\n"
     ]
    },
    {
     "name": "stderr",
     "output_type": "stream",
     "text": [
      " 14%|█▍        | 183/1281 [00:01<00:11, 99.39it/s]\n"
     ]
    },
    {
     "ename": "KeyboardInterrupt",
     "evalue": "",
     "output_type": "error",
     "traceback": [
      "\u001b[1;31m---------------------------------------------------------------------------\u001b[0m",
      "\u001b[1;31mKeyboardInterrupt\u001b[0m                         Traceback (most recent call last)",
      "Cell \u001b[1;32mIn[29], line 14\u001b[0m\n\u001b[0;32m     11\u001b[0m \u001b[38;5;66;03m# Check if the file is a text file\u001b[39;00m\n\u001b[0;32m     12\u001b[0m \u001b[38;5;28;01mif\u001b[39;00m file_path\u001b[38;5;241m.\u001b[39mendswith(\u001b[38;5;124m\"\u001b[39m\u001b[38;5;124m.txt\u001b[39m\u001b[38;5;124m\"\u001b[39m):\n\u001b[0;32m     13\u001b[0m     \u001b[38;5;66;03m# Find instances of \"purchase contract\" in the file\u001b[39;00m\n\u001b[1;32m---> 14\u001b[0m     occurrences \u001b[38;5;241m=\u001b[39m \u001b[43mfind_purchase_contract\u001b[49m\u001b[43m(\u001b[49m\u001b[43mfile_path\u001b[49m\u001b[43m)\u001b[49m\n\u001b[0;32m     16\u001b[0m     \u001b[38;5;66;03m# Print the filename and the number of occurrences\u001b[39;00m\n\u001b[0;32m     17\u001b[0m     \u001b[38;5;28;01mif\u001b[39;00m occurrences \u001b[38;5;241m!=\u001b[39m \u001b[38;5;241m0\u001b[39m:\n",
      "Cell \u001b[1;32mIn[28], line 2\u001b[0m, in \u001b[0;36mfind_purchase_contract\u001b[1;34m(file_path)\u001b[0m\n\u001b[0;32m      1\u001b[0m \u001b[38;5;28;01mdef\u001b[39;00m \u001b[38;5;21mfind_purchase_contract\u001b[39m(file_path):\n\u001b[1;32m----> 2\u001b[0m     \u001b[38;5;28;01mwith\u001b[39;00m \u001b[38;5;28;43mopen\u001b[39;49m\u001b[43m(\u001b[49m\u001b[43mfile_path\u001b[49m\u001b[43m,\u001b[49m\u001b[43m \u001b[49m\u001b[38;5;124;43m'\u001b[39;49m\u001b[38;5;124;43mr\u001b[39;49m\u001b[38;5;124;43m'\u001b[39;49m\u001b[43m,\u001b[49m\u001b[43m \u001b[49m\u001b[43mencoding\u001b[49m\u001b[38;5;241;43m=\u001b[39;49m\u001b[38;5;124;43m'\u001b[39;49m\u001b[38;5;124;43mutf-8\u001b[39;49m\u001b[38;5;124;43m'\u001b[39;49m\u001b[43m)\u001b[49m \u001b[38;5;28;01mas\u001b[39;00m file:\n\u001b[0;32m      3\u001b[0m         text \u001b[38;5;241m=\u001b[39m file\u001b[38;5;241m.\u001b[39mread()\n\u001b[0;32m      4\u001b[0m         occurrences \u001b[38;5;241m=\u001b[39m text\u001b[38;5;241m.\u001b[39mcount(\u001b[38;5;124m\"\u001b[39m\u001b[38;5;124mpurchase contract\u001b[39m\u001b[38;5;124m\"\u001b[39m)\n",
      "File \u001b[1;32m~\\AppData\\Roaming\\Python\\Python310\\site-packages\\IPython\\core\\interactiveshell.py:286\u001b[0m, in \u001b[0;36m_modified_open\u001b[1;34m(file, *args, **kwargs)\u001b[0m\n\u001b[0;32m    279\u001b[0m \u001b[38;5;28;01mif\u001b[39;00m file \u001b[38;5;129;01min\u001b[39;00m {\u001b[38;5;241m0\u001b[39m, \u001b[38;5;241m1\u001b[39m, \u001b[38;5;241m2\u001b[39m}:\n\u001b[0;32m    280\u001b[0m     \u001b[38;5;28;01mraise\u001b[39;00m \u001b[38;5;167;01mValueError\u001b[39;00m(\n\u001b[0;32m    281\u001b[0m         \u001b[38;5;124mf\u001b[39m\u001b[38;5;124m\"\u001b[39m\u001b[38;5;124mIPython won\u001b[39m\u001b[38;5;124m'\u001b[39m\u001b[38;5;124mt let you open fd=\u001b[39m\u001b[38;5;132;01m{\u001b[39;00mfile\u001b[38;5;132;01m}\u001b[39;00m\u001b[38;5;124m by default \u001b[39m\u001b[38;5;124m\"\u001b[39m\n\u001b[0;32m    282\u001b[0m         \u001b[38;5;124m\"\u001b[39m\u001b[38;5;124mas it is likely to crash IPython. If you know what you are doing, \u001b[39m\u001b[38;5;124m\"\u001b[39m\n\u001b[0;32m    283\u001b[0m         \u001b[38;5;124m\"\u001b[39m\u001b[38;5;124myou can use builtins\u001b[39m\u001b[38;5;124m'\u001b[39m\u001b[38;5;124m open.\u001b[39m\u001b[38;5;124m\"\u001b[39m\n\u001b[0;32m    284\u001b[0m     )\n\u001b[1;32m--> 286\u001b[0m \u001b[38;5;28;01mreturn\u001b[39;00m io_open(file, \u001b[38;5;241m*\u001b[39margs, \u001b[38;5;241m*\u001b[39m\u001b[38;5;241m*\u001b[39mkwargs)\n",
      "File \u001b[1;32mc:\\Users\\frank\\AppData\\Local\\Programs\\Python\\Python310\\lib\\codecs.py:309\u001b[0m, in \u001b[0;36mBufferedIncrementalDecoder.__init__\u001b[1;34m(self, errors)\u001b[0m\n\u001b[0;32m    303\u001b[0m \u001b[38;5;28;01mclass\u001b[39;00m \u001b[38;5;21;01mBufferedIncrementalDecoder\u001b[39;00m(IncrementalDecoder):\n\u001b[0;32m    304\u001b[0m \u001b[38;5;250m    \u001b[39m\u001b[38;5;124;03m\"\"\"\u001b[39;00m\n\u001b[0;32m    305\u001b[0m \u001b[38;5;124;03m    This subclass of IncrementalDecoder can be used as the baseclass for an\u001b[39;00m\n\u001b[0;32m    306\u001b[0m \u001b[38;5;124;03m    incremental decoder if the decoder must be able to handle incomplete\u001b[39;00m\n\u001b[0;32m    307\u001b[0m \u001b[38;5;124;03m    byte sequences.\u001b[39;00m\n\u001b[0;32m    308\u001b[0m \u001b[38;5;124;03m    \"\"\"\u001b[39;00m\n\u001b[1;32m--> 309\u001b[0m     \u001b[38;5;28;01mdef\u001b[39;00m \u001b[38;5;21m__init__\u001b[39m(\u001b[38;5;28mself\u001b[39m, errors\u001b[38;5;241m=\u001b[39m\u001b[38;5;124m'\u001b[39m\u001b[38;5;124mstrict\u001b[39m\u001b[38;5;124m'\u001b[39m):\n\u001b[0;32m    310\u001b[0m         IncrementalDecoder\u001b[38;5;241m.\u001b[39m\u001b[38;5;21m__init__\u001b[39m(\u001b[38;5;28mself\u001b[39m, errors)\n\u001b[0;32m    311\u001b[0m         \u001b[38;5;66;03m# undecoded input that is kept between calls to decode()\u001b[39;00m\n",
      "\u001b[1;31mKeyboardInterrupt\u001b[0m: "
     ]
    }
   ],
   "source": [
    "\n",
    "data = []\n",
    "\n",
    "for directory in directories:\n",
    "    counter =0\n",
    "\n",
    "    file_list = os.listdir(directory)\n",
    "\n",
    "    for filename in tqdm(file_list):\n",
    "        file_path = os.path.join(directory, filename)\n",
    "        \n",
    "        # Check if the file is a text file\n",
    "        if file_path.endswith(\".txt\"):\n",
    "            # Find instances of \"purchase contract\" in the file\n",
    "            occurrences = find_purchase_contract(file_path)\n",
    "            \n",
    "            # Print the filename and the number of occurrences\n",
    "            if occurrences != 0:\n",
    "                print(f\"File: {filename}, Occurrences: {occurrences}\")\n",
    "                counter += 1\n",
    "                \n",
    "    data.append({'Directory': directory, 'Purchase Contract Mentioned': counter, 'Total Files': len(file_list)})\n",
    "\n",
    "df = pd.DataFrame(data)\n",
    "df.to_csv(\"count_purchase_contract.csv\", index=False)\n"
   ]
  }
 ],
 "metadata": {
  "kernelspec": {
   "display_name": "Python 3",
   "language": "python",
   "name": "python3"
  },
  "language_info": {
   "codemirror_mode": {
    "name": "ipython",
    "version": 3
   },
   "file_extension": ".py",
   "mimetype": "text/x-python",
   "name": "python",
   "nbconvert_exporter": "python",
   "pygments_lexer": "ipython3",
   "version": "3.10.1"
  }
 },
 "nbformat": 4,
 "nbformat_minor": 2
}
