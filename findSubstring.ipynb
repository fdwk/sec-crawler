{
 "cells": [
  {
   "cell_type": "code",
   "execution_count": 1,
   "metadata": {},
   "outputs": [],
   "source": [
    "import os\n",
    "import pandas as pd \n",
    "from tqdm import tqdm\n",
    "import re\n",
    "import codecs"
   ]
  },
  {
   "cell_type": "code",
   "execution_count": 10,
   "metadata": {},
   "outputs": [],
   "source": [
    "def find_total_matches(file_path):\n",
    "    with open(file_path, 'r', encoding='utf-8') as file:\n",
    "        text = file.read()\n",
    "        occurrences = 0\n",
    "        occurrences += text.count(\"purchase agreement\")\n",
    "        occurrences += text.count(\"purchase contract\")\n",
    "        return occurrences"
   ]
  },
  {
   "cell_type": "code",
   "execution_count": 4,
   "metadata": {},
   "outputs": [],
   "source": [
    "def generate_directories(start_year, end_year):\n",
    "    directories = []\n",
    "    quarters = [1,2,3,4]\n",
    "    for year in range(start_year, end_year + 1):\n",
    "        for quarter in quarters:\n",
    "            directory = f\"sec-data/data/{year}_{quarter}/10-K\"\n",
    "            directories.append(directory)\n",
    "    return directories\n"
   ]
  },
  {
   "cell_type": "code",
   "execution_count": 5,
   "metadata": {},
   "outputs": [
    {
     "data": {
      "text/plain": [
       "[0, 5, 10, 15]"
      ]
     },
     "execution_count": 5,
     "metadata": {},
     "output_type": "execute_result"
    }
   ],
   "source": [
    "def find_all(a_str, sub):\n",
    "    start = 0\n",
    "    while True:\n",
    "        start = a_str.find(sub, start)\n",
    "        if start == -1: return\n",
    "        yield start\n",
    "        start += len(sub)\n",
    "        \n",
    "list(find_all('spam spam spam spam', 'spam'))"
   ]
  },
  {
   "cell_type": "code",
   "execution_count": 7,
   "metadata": {},
   "outputs": [],
   "source": [
    "def find_purchase_contract_context(file_path):\n",
    "    pattern = re.compile(r'([^\\.]*?purchase agreement[^\\.]*\\.)', re.IGNORECASE)\n",
    "\n",
    "    # Initialize list to store contexts\n",
    "    contexts = []\n",
    "\n",
    "    with codecs.open(file_path, 'r', encoding='utf-8', errors='ignore') as file:\n",
    "        text = file.read()\n",
    "\n",
    "        instances = list(find_all(text, 'purchase agreement'))\n",
    "        if len(instances) == 0:\n",
    "            return contexts\n",
    "\n",
    "        # Find matches in the text\n",
    "        for instance in instances:\n",
    "            start_index = max(0, instance - 500)\n",
    "            end_index = min(len(text), instance + 500)\n",
    "            context = text[start_index:end_index]\n",
    "            contexts.append(context)\n",
    "\n",
    "    return contexts"
   ]
  },
  {
   "cell_type": "code",
   "execution_count": 17,
   "metadata": {},
   "outputs": [],
   "source": [
    "def find_purchase_all_context(file_path):\n",
    "\n",
    "    # Initialize list to store contexts\n",
    "    contexts = []\n",
    "\n",
    "    with codecs.open(file_path, 'r', encoding='utf-8', errors='ignore') as file:\n",
    "        text = file.read()\n",
    "\n",
    "        instances = list(find_all(text, 'purchase agreement'))\n",
    "        if len(instances) == 0:\n",
    "            return contexts\n",
    "\n",
    "        instances += list(find_all(text, 'purchase contract'))\n",
    "\n",
    "        if len(instances) < 5:\n",
    "            return contexts\n",
    "\n",
    "        # Find matches in the text\n",
    "        for instance in instances:\n",
    "            start_index = max(0, instance - 300)\n",
    "            end_index = min(len(text), instance + 300)\n",
    "            context = text[start_index:end_index]\n",
    "            contexts.append(context)\n",
    "\n",
    "    return contexts"
   ]
  },
  {
   "cell_type": "code",
   "execution_count": 16,
   "metadata": {},
   "outputs": [
    {
     "data": {
      "text/plain": [
       "[]"
      ]
     },
     "execution_count": 16,
     "metadata": {},
     "output_type": "execute_result"
    }
   ],
   "source": [
    "file = \"sec-data/data/1995_1/10-K/0000893220-95-000104.txt\"\n",
    "find_purchase_all_context(file)\n",
    "\n"
   ]
  },
  {
   "cell_type": "code",
   "execution_count": 26,
   "metadata": {},
   "outputs": [
    {
     "name": "stdout",
     "output_type": "stream",
     "text": [
      "sec-data/data/1995_1/10-K\n"
     ]
    },
    {
     "name": "stderr",
     "output_type": "stream",
     "text": [
      "  9%|▉         | 118/1281 [00:18<02:58,  6.52it/s]\n"
     ]
    },
    {
     "ename": "KeyboardInterrupt",
     "evalue": "",
     "output_type": "error",
     "traceback": [
      "\u001b[1;31m---------------------------------------------------------------------------\u001b[0m",
      "\u001b[1;31mKeyboardInterrupt\u001b[0m                         Traceback (most recent call last)",
      "Cell \u001b[1;32mIn[26], line 22\u001b[0m\n\u001b[0;32m     18\u001b[0m file_path \u001b[38;5;241m=\u001b[39m os\u001b[38;5;241m.\u001b[39mpath\u001b[38;5;241m.\u001b[39mjoin(directory, filename)\n\u001b[0;32m     20\u001b[0m \u001b[38;5;28;01mif\u001b[39;00m file_path\u001b[38;5;241m.\u001b[39mendswith(\u001b[38;5;124m\"\u001b[39m\u001b[38;5;124m.txt\u001b[39m\u001b[38;5;124m\"\u001b[39m):\n\u001b[1;32m---> 22\u001b[0m     contexts \u001b[38;5;241m=\u001b[39m \u001b[43mfind_purchase_contract_context\u001b[49m\u001b[43m(\u001b[49m\u001b[43mfile_path\u001b[49m\u001b[43m)\u001b[49m\n\u001b[0;32m     24\u001b[0m     \u001b[38;5;28;01mif\u001b[39;00m \u001b[38;5;28mlen\u001b[39m(contexts) \u001b[38;5;241m!=\u001b[39m \u001b[38;5;241m0\u001b[39m:\n\u001b[0;32m     25\u001b[0m         \u001b[38;5;28;01mfor\u001b[39;00m paragraph \u001b[38;5;129;01min\u001b[39;00m contexts:\n",
      "Cell \u001b[1;32mIn[7], line 7\u001b[0m, in \u001b[0;36mfind_purchase_contract_context\u001b[1;34m(file_path)\u001b[0m\n\u001b[0;32m      4\u001b[0m \u001b[38;5;66;03m# Initialize list to store contexts\u001b[39;00m\n\u001b[0;32m      5\u001b[0m contexts \u001b[38;5;241m=\u001b[39m []\n\u001b[1;32m----> 7\u001b[0m \u001b[38;5;28;01mwith\u001b[39;00m \u001b[43mcodecs\u001b[49m\u001b[38;5;241;43m.\u001b[39;49m\u001b[43mopen\u001b[49m\u001b[43m(\u001b[49m\u001b[43mfile_path\u001b[49m\u001b[43m,\u001b[49m\u001b[43m \u001b[49m\u001b[38;5;124;43m'\u001b[39;49m\u001b[38;5;124;43mr\u001b[39;49m\u001b[38;5;124;43m'\u001b[39;49m\u001b[43m,\u001b[49m\u001b[43m \u001b[49m\u001b[43mencoding\u001b[49m\u001b[38;5;241;43m=\u001b[39;49m\u001b[38;5;124;43m'\u001b[39;49m\u001b[38;5;124;43mutf-8\u001b[39;49m\u001b[38;5;124;43m'\u001b[39;49m\u001b[43m,\u001b[49m\u001b[43m \u001b[49m\u001b[43merrors\u001b[49m\u001b[38;5;241;43m=\u001b[39;49m\u001b[38;5;124;43m'\u001b[39;49m\u001b[38;5;124;43mignore\u001b[39;49m\u001b[38;5;124;43m'\u001b[39;49m\u001b[43m)\u001b[49m \u001b[38;5;28;01mas\u001b[39;00m file:\n\u001b[0;32m      8\u001b[0m     text \u001b[38;5;241m=\u001b[39m file\u001b[38;5;241m.\u001b[39mread()\n\u001b[0;32m     10\u001b[0m     instances \u001b[38;5;241m=\u001b[39m \u001b[38;5;28mlist\u001b[39m(find_all(text, \u001b[38;5;124m'\u001b[39m\u001b[38;5;124mpurchase agreement\u001b[39m\u001b[38;5;124m'\u001b[39m))\n",
      "File \u001b[1;32mc:\\Users\\frank\\AppData\\Local\\Programs\\Python\\Python310\\lib\\codecs.py:905\u001b[0m, in \u001b[0;36mopen\u001b[1;34m(filename, mode, encoding, errors, buffering)\u001b[0m\n\u001b[0;32m    901\u001b[0m \u001b[38;5;28;01mif\u001b[39;00m encoding \u001b[38;5;129;01mis\u001b[39;00m \u001b[38;5;129;01mnot\u001b[39;00m \u001b[38;5;28;01mNone\u001b[39;00m \u001b[38;5;129;01mand\u001b[39;00m \\\n\u001b[0;32m    902\u001b[0m    \u001b[38;5;124m'\u001b[39m\u001b[38;5;124mb\u001b[39m\u001b[38;5;124m'\u001b[39m \u001b[38;5;129;01mnot\u001b[39;00m \u001b[38;5;129;01min\u001b[39;00m mode:\n\u001b[0;32m    903\u001b[0m     \u001b[38;5;66;03m# Force opening of the file in binary mode\u001b[39;00m\n\u001b[0;32m    904\u001b[0m     mode \u001b[38;5;241m=\u001b[39m mode \u001b[38;5;241m+\u001b[39m \u001b[38;5;124m'\u001b[39m\u001b[38;5;124mb\u001b[39m\u001b[38;5;124m'\u001b[39m\n\u001b[1;32m--> 905\u001b[0m file \u001b[38;5;241m=\u001b[39m \u001b[43mbuiltins\u001b[49m\u001b[38;5;241;43m.\u001b[39;49m\u001b[43mopen\u001b[49m\u001b[43m(\u001b[49m\u001b[43mfilename\u001b[49m\u001b[43m,\u001b[49m\u001b[43m \u001b[49m\u001b[43mmode\u001b[49m\u001b[43m,\u001b[49m\u001b[43m \u001b[49m\u001b[43mbuffering\u001b[49m\u001b[43m)\u001b[49m\n\u001b[0;32m    906\u001b[0m \u001b[38;5;28;01mif\u001b[39;00m encoding \u001b[38;5;129;01mis\u001b[39;00m \u001b[38;5;28;01mNone\u001b[39;00m:\n\u001b[0;32m    907\u001b[0m     \u001b[38;5;28;01mreturn\u001b[39;00m file\n",
      "\u001b[1;31mKeyboardInterrupt\u001b[0m: "
     ]
    }
   ],
   "source": [
    "\n",
    "start_year = 1995\n",
    "end_year = 1995\n",
    "directories = generate_directories(start_year, end_year)\n",
    "\n",
    "\n",
    "csv_path = \"combined.csv\"\n",
    "if os.path.exists(csv_path):\n",
    "    existing_df = pd.read_csv(csv_path)\n",
    "else:\n",
    "    existing_df = pd.DataFrame()\n",
    "\n",
    "data = []\n",
    "for directory in directories:\n",
    "    print(directory)\n",
    "    file_list = os.listdir(directory)\n",
    "\n",
    "    for filename in tqdm(file_list):\n",
    "        file_path = os.path.join(directory, filename)\n",
    "        \n",
    "        if file_path.endswith(\".txt\"):\n",
    "\n",
    "            contexts = find_purchase_contract_context(file_path)\n",
    "            \n",
    "            if len(contexts) != 0:\n",
    "                for paragraph in contexts:\n",
    "                    data.append({'Directory': directory, 'File': filename, 'Paragraph': paragraph})\n",
    "\n",
    "df = pd.DataFrame(data)\n",
    "\n",
    "combined_df = pd.concat([existing_df, df], ignore_index=True)\n",
    "combined_df.to_csv(csv_path, index=True)\n"
   ]
  },
  {
   "cell_type": "code",
   "execution_count": 25,
   "metadata": {},
   "outputs": [
    {
     "name": "stderr",
     "output_type": "stream",
     "text": [
      "  0%|          | 1/1281 [00:01<33:34,  1.57s/it]"
     ]
    },
    {
     "name": "stdout",
     "output_type": "stream",
     "text": [
      "File: 0000912057-95-000305.txt, Occurrences: []\n"
     ]
    },
    {
     "name": "stderr",
     "output_type": "stream",
     "text": [
      "  0%|          | 2/1281 [00:02<28:37,  1.34s/it]"
     ]
    },
    {
     "name": "stdout",
     "output_type": "stream",
     "text": [
      "File: 0000100122-95-000007.txt, Occurrences: []\n"
     ]
    },
    {
     "name": "stderr",
     "output_type": "stream",
     "text": [
      "  0%|          | 3/1281 [00:03<27:22,  1.29s/it]"
     ]
    },
    {
     "name": "stdout",
     "output_type": "stream",
     "text": [
      "File: 0000100166-95-000031.txt, Occurrences: ['uch bank being an \"Approved Bank\"), in each case with\\nmaturities of not more than 270 days from the date of\\nacquisition, (iii) commercial paper and variable or fixed rate\\nnotes issued by any Approved Bank (or by the parent company\\nthereof) or any variable rate notes issued by, or guaranteed by\\nany domestic corporation rated A-2 (or the equivalent thereof)\\nor better by S&P or P-2 (or the equivalent thereof) or better by\\nMoody\\'s and maturing within six months of the date of\\nacquisition and (iv) repurchase agreements with a bank or trust\\ncompany (including the Bank) or recognized securities dealer\\nhaving capital and surplus in excess of $500,000,000 for direct\\nobligations issued by or fully guaranteed by the United States\\nof America in which the Borrower shall have a perfected first\\npriority security interest (subject to no other liens or\\nencumbrances) and having, on the date of purchase thereof, a\\nfair market value of at least 100% of the amount of the\\nrepurchase obligations.\\n\\n\\t     \"Cha']\n"
     ]
    },
    {
     "name": "stderr",
     "output_type": "stream",
     "text": [
      "  0%|          | 4/1281 [00:04<19:44,  1.08it/s]"
     ]
    },
    {
     "name": "stdout",
     "output_type": "stream",
     "text": [
      "File: 0000100331-95-000014.txt, Occurrences: []\n"
     ]
    },
    {
     "name": "stderr",
     "output_type": "stream",
     "text": [
      "  0%|          | 5/1281 [00:05<18:34,  1.14it/s]"
     ]
    },
    {
     "name": "stdout",
     "output_type": "stream",
     "text": [
      "File: 0000100517-95-000011.txt, Occurrences: []\n"
     ]
    },
    {
     "name": "stderr",
     "output_type": "stream",
     "text": [
      "  0%|          | 6/1281 [00:05<14:15,  1.49it/s]"
     ]
    },
    {
     "name": "stdout",
     "output_type": "stream",
     "text": [
      "File: 0000950117-95-000071.txt, Occurrences: []\n"
     ]
    },
    {
     "name": "stderr",
     "output_type": "stream",
     "text": [
      "  1%|          | 8/1281 [00:05<08:18,  2.55it/s]"
     ]
    },
    {
     "name": "stdout",
     "output_type": "stream",
     "text": [
      "File: 0000899652-95-000014.txt, Occurrences: []\n",
      "File: 0000950131-95-000606.txt, Occurrences: []\n",
      "File: 0000101001-95-000002.txt, Occurrences: []\n"
     ]
    },
    {
     "name": "stderr",
     "output_type": "stream",
     "text": [
      "  1%|          | 11/1281 [00:06<06:03,  3.49it/s]"
     ]
    },
    {
     "name": "stdout",
     "output_type": "stream",
     "text": [
      "File: 0000101063-95-000004.txt, Occurrences: []\n",
      "File: 0000950144-95-000704.txt, Occurrences: []\n"
     ]
    },
    {
     "name": "stderr",
     "output_type": "stream",
     "text": [
      "  1%|          | 13/1281 [00:06<04:29,  4.71it/s]"
     ]
    },
    {
     "name": "stdout",
     "output_type": "stream",
     "text": [
      "File: 0000101265-95-000008.txt, Occurrences: []\n",
      "File: 0000912057-95-000101.txt, Occurrences: []\n"
     ]
    },
    {
     "name": "stderr",
     "output_type": "stream",
     "text": [
      "  1%|          | 14/1281 [00:06<04:13,  4.99it/s]"
     ]
    },
    {
     "name": "stdout",
     "output_type": "stream",
     "text": [
      "File: 0000950131-95-000699.txt, Occurrences: [' resell agreements..........      13,626      9,888     14,720\\nTrading securities and other.................       3,089      2,914      4,405\\n                                               ---------- ---------- ----------\\n Total interest income.......................  $  323,260 $  283,215 $  253,367\\n                                               ---------- ---------- ----------\\nINTEREST EXPENSE\\nDeposits.....................................  $  106,958 $   99,127 $  103,023\\nFederal funds and repurchase agreements......      25,057     16,155     16,180\\nShort-term debt..............................          33         29      1,036\\nLong-term debt...............................       4,016      4,407      3,547\\n                                               ---------- ---------- ----------\\n Total interest expense......................  $  136,064 $  119,718 $  123,786\\n                                               ---------- ---------- ----------\\nNet interest income.....................', '                    ---------  ----------  ----------\\n Net cash used in investing activities......  $(128,684) $ (159,065) $ (500,441)\\n                                              ---------  ----------  ----------\\nFINANCING ACTIVITIES\\n Net increase in demand and savings depos-\\n  its.......................................  $ 130,852  $  400,373  $  513,271\\n Net decrease in time deposits..............   (167,903)   (131,946)   (133,796)\\n Net increase (decrease) in federal funds\\n  purchased and repurchase agreements.......    175,921    (115,439)    (87,121)\\n Net decrease in short-term debt............       (581)       (689)    (48,964)\\n Proceeds from issuance of long-term debt...         --      25,000          --\\n Repayments of long-term debt...............     (5,199)     (7,801)     (8,695)\\n Cash dividends.............................    (14,669)    (13,064)    (11,042)\\n Purchases of treasury stock................    (13,318)     (4,859)     (1,722)\\n Proceeds from issuance of treasu', '......................     12,756\\nOther...............................................................    140,108\\n                                                                     ----------\\n  Total............................................................. $1,289,293\\n                                                                     ----------\\nFair values of liabilities assumed:\\nDeposits............................................................ $1,062,992\\nFederal funds purchased and repurchase agreements...................     74,984\\nBorrowed funds......................................................      6,103\\nOther...............................................................     19,190\\n                                                                     ----------\\n  Total............................................................. $1,163,269\\n                                                                     ----------\\nFair value of net assets acquired.................', '995. The 7.50% notes that mature\\nin 1997 require annual principal payments of $1,546,000. The senior notes\\ncontain financial covenants relating to the issuance of additional debt,\\npayment of dividends, reacquisition of common stock and maintenance of minimum\\ntangible capital. Under the most restrictive covenant, approximately\\n$90,226,000 was available for the payment of dividends at December 31, 1994.\\n \\n  The Company enters into sales of securities with simultaneous agreements to\\nrepurchase (\"repurchase agreements\"). The amounts received under these\\nagreements represent short-term borrowings and are reflected as a separate item\\nin the consolidated balance sheet. The amount outstanding at December 31, 1994,\\nwas $661,203,000 (with accrued interest payable of $1,591,000). Of that amount,\\n$140,341,000 represented sales of securities in which the securities were\\nobtained under reverse repurchase agreements (\"resell agreements\"). The\\nremainder of $520,862,000 represented sales of U.S. Treasu', '31, 1994.\\n \\n  The Company enters into sales of securities with simultaneous agreements to\\nrepurchase (\"repurchase agreements\"). The amounts received under these\\nagreements represent short-term borrowings and are reflected as a separate item\\nin the consolidated balance sheet. The amount outstanding at December 31, 1994,\\nwas $661,203,000 (with accrued interest payable of $1,591,000). Of that amount,\\n$140,341,000 represented sales of securities in which the securities were\\nobtained under reverse repurchase agreements (\"resell agreements\"). The\\nremainder of $520,862,000 represented sales of U.S. Treasury securities\\nobtained from the Company\\'s securities portfolio. The carrying amounts and\\nmarket values of the securities and the related repurchase liabilities and\\nweighted average interest rates of the repurchase liabilities (grouped by\\nmaturity of the repurchase agreements) were as follows (amounts in thousands):\\n \\n<TABLE>\\n<CAPTION>\\n                                             SECURITIES   ', 'payable of $1,591,000). Of that amount,\\n$140,341,000 represented sales of securities in which the securities were\\nobtained under reverse repurchase agreements (\"resell agreements\"). The\\nremainder of $520,862,000 represented sales of U.S. Treasury securities\\nobtained from the Company\\'s securities portfolio. The carrying amounts and\\nmarket values of the securities and the related repurchase liabilities and\\nweighted average interest rates of the repurchase liabilities (grouped by\\nmaturity of the repurchase agreements) were as follows (amounts in thousands):\\n \\n<TABLE>\\n<CAPTION>\\n                                             SECURITIES                 WEIGHTED\\n                                          -----------------             AVERAGE\\nMATURITY OF THE                           CARRYING  MARKET  REPURCHASE  INTEREST\\nREPURCHASE LIABILITIES                     AMOUNT   VALUE   LIABILITIES   RATE\\n----------------------                    -------- -------- ----------- --------\\n<S>              ', 'unts\\nis the amount payable on demand at December 31, 1994 and 1993. The fair value\\nof fixed-maturity certificates of deposit is estimated by discounting the\\nfuture cash flows using the rates currently offered for deposits of similar\\nremaining maturities.\\n \\n                                      A-21\\n<PAGE>\\n \\n                           UMB FINANCIAL CORPORATION\\n \\n                   NOTES TO FINANCIAL STATEMENTS -- CONTINUED\\n \\n  SHORT-TERM DEBT -- The carrying amounts of federal funds purchased,\\nrepurchase agreements and other short-term debt are reasonable estimates of\\ntheir fair values.\\n \\n  LONG-TERM DEBT -- Rates currently available to the Company for debt with\\nsimilar terms and remaining maturities are used to estimate fair value of\\nexisting debt.\\n \\n  OTHER OFF-BALANCE-SHEET INSTRUMENTS -- The fair value of a loan commitment\\nand a letter of credit is determined based on the fees currently charged to\\nenter into similar agreements, taking into account the remaining terms of the\\nagreemen', 'verage deposits in\\n1994, compared to 45.9% for 1993. Time deposits have decreased as a percentage\\nof total deposits in each of the last four years. Interest rate uncertainties\\nhave caused some customers to avoid investing in products with longer-term\\nmaturities.\\n \\n  Average noninterest-bearing demand deposits represented 28.8% of total\\naverage deposits for 1994, compared to 27.9% for 1993. This change resulted\\nfrom increased balances from custody processing, corporate and trust customers.\\n \\n  Repurchase agreements averaged $498.4 million in 1994, compared to $515.9\\nmillion in 1993. Repurchase agreements are transactions involving investment\\nfunds that are exchanged for securities to repurchase the same or similar\\nissues at an agreed-upon price and date. The Investment Banking Division buys\\nand sells repurchase agreements as principal for nonaffiliated banks. These\\nagreements are reflected on the balance sheet as both an asset (\"resell\\nagreement\") and a corresponding liability (\"repurch', 'entage\\nof total deposits in each of the last four years. Interest rate uncertainties\\nhave caused some customers to avoid investing in products with longer-term\\nmaturities.\\n \\n  Average noninterest-bearing demand deposits represented 28.8% of total\\naverage deposits for 1994, compared to 27.9% for 1993. This change resulted\\nfrom increased balances from custody processing, corporate and trust customers.\\n \\n  Repurchase agreements averaged $498.4 million in 1994, compared to $515.9\\nmillion in 1993. Repurchase agreements are transactions involving investment\\nfunds that are exchanged for securities to repurchase the same or similar\\nissues at an agreed-upon price and date. The Investment Banking Division buys\\nand sells repurchase agreements as principal for nonaffiliated banks. These\\nagreements are reflected on the balance sheet as both an asset (\"resell\\nagreement\") and a corresponding liability (\"repurchase agreement\"), since such\\nfunds are purchased and then sold to approved dealer banks and ', 'presented 28.8% of total\\naverage deposits for 1994, compared to 27.9% for 1993. This change resulted\\nfrom increased balances from custody processing, corporate and trust customers.\\n \\n  Repurchase agreements averaged $498.4 million in 1994, compared to $515.9\\nmillion in 1993. Repurchase agreements are transactions involving investment\\nfunds that are exchanged for securities to repurchase the same or similar\\nissues at an agreed-upon price and date. The Investment Banking Division buys\\nand sells repurchase agreements as principal for nonaffiliated banks. These\\nagreements are reflected on the balance sheet as both an asset (\"resell\\nagreement\") and a corresponding liability (\"repurchase agreement\"), since such\\nfunds are purchased and then sold to approved dealer banks and primary dealers.\\nThe amount of repurchase agreements handled in this manner was $244.7 million\\nat December 31, 1994, compared to $263.2 million one year earlier.\\n \\n  At year-end 1994, the Company had repurchase agreements ', '\\n  Repurchase agreements averaged $498.4 million in 1994, compared to $515.9\\nmillion in 1993. Repurchase agreements are transactions involving investment\\nfunds that are exchanged for securities to repurchase the same or similar\\nissues at an agreed-upon price and date. The Investment Banking Division buys\\nand sells repurchase agreements as principal for nonaffiliated banks. These\\nagreements are reflected on the balance sheet as both an asset (\"resell\\nagreement\") and a corresponding liability (\"repurchase agreement\"), since such\\nfunds are purchased and then sold to approved dealer banks and primary dealers.\\nThe amount of repurchase agreements handled in this manner was $244.7 million\\nat December 31, 1994, compared to $263.2 million one year earlier.\\n \\n  At year-end 1994, the Company had repurchase agreements of $416.5 million for\\nits own funding needs, compared to $335.7 million at December 31, 1993.\\n \\n  The Company\\'s other short-term borrowings consist primarily of U.S. Treasury\\ndemand ', 'ons involving investment\\nfunds that are exchanged for securities to repurchase the same or similar\\nissues at an agreed-upon price and date. The Investment Banking Division buys\\nand sells repurchase agreements as principal for nonaffiliated banks. These\\nagreements are reflected on the balance sheet as both an asset (\"resell\\nagreement\") and a corresponding liability (\"repurchase agreement\"), since such\\nfunds are purchased and then sold to approved dealer banks and primary dealers.\\nThe amount of repurchase agreements handled in this manner was $244.7 million\\nat December 31, 1994, compared to $263.2 million one year earlier.\\n \\n  At year-end 1994, the Company had repurchase agreements of $416.5 million for\\nits own funding needs, compared to $335.7 million at December 31, 1993.\\n \\n  The Company\\'s other short-term borrowings consist primarily of U.S. Treasury\\ndemand notes. These demand notes represent treasury tax deposits remitted to\\nthe Federal Reserve Bank other than daily. The rate paid on', 'on buys\\nand sells repurchase agreements as principal for nonaffiliated banks. These\\nagreements are reflected on the balance sheet as both an asset (\"resell\\nagreement\") and a corresponding liability (\"repurchase agreement\"), since such\\nfunds are purchased and then sold to approved dealer banks and primary dealers.\\nThe amount of repurchase agreements handled in this manner was $244.7 million\\nat December 31, 1994, compared to $263.2 million one year earlier.\\n \\n  At year-end 1994, the Company had repurchase agreements of $416.5 million for\\nits own funding needs, compared to $335.7 million at December 31, 1993.\\n \\n  The Company\\'s other short-term borrowings consist primarily of U.S. Treasury\\ndemand notes. These demand notes represent treasury tax deposits remitted to\\nthe Federal Reserve Bank other than daily. The rate paid on these funds is\\n0.25% below the weekly average federal funds rate.\\n \\n                                      A-37\\n<PAGE>\\n \\n  The Company\\'s long-term borrowings consist of ', '     1992\\n                                    -------------  -------------  -------------\\n                                     AMOUNT  RATE   AMOUNT  RATE   AMOUNT  RATE\\n                                    -------- ----  -------- ----  -------- ----\\n                                                 (IN THOUSANDS)\\n<S>                                 <C>      <C>   <C>      <C>   <C>      <C>\\nAt year-end\\n-----------\\nFederal funds purchased............ $139,800 4.80% $ 26,210 3.03% $131,000 1.95%\\nRepurchase agreements..............  661,203 2.77   598,872 2.91   529,837 2.81\\nOther..............................      872 3.71     1,453 2.76     1,583 2.82\\n                                    --------       --------       --------\\n  Total............................ $801,875 3.13% $626,535 2.91% $662,420 2.64%\\n                                    ========       ========       ========\\nAverage for the year\\n--------------------\\nFederal funds purchased............ $166,084 4.04% $ 65,184 2.99% $ 3', 'ments..............  661,203 2.77   598,872 2.91   529,837 2.81\\nOther..............................      872 3.71     1,453 2.76     1,583 2.82\\n                                    --------       --------       --------\\n  Total............................ $801,875 3.13% $626,535 2.91% $662,420 2.64%\\n                                    ========       ========       ========\\nAverage for the year\\n--------------------\\nFederal funds purchased............ $166,084 4.04% $ 65,184 2.99% $ 36,237 3.20%\\nRepurchase agreements..............  498,415 3.68   515,945 2.75   474,853 3.16\\nOther..............................      994 3.26     1,416 2.08    28,349 3.66\\n                                    --------       --------       --------\\n  Total............................ $665,493 3.77% $582,545 2.78% $539,439 3.19%\\n                                    ========       ========       ========\\nMaximum month-end balance\\n-------------------------\\nFederal funds purchased............ $222,000       $134,000', 's..............  498,415 3.68   515,945 2.75   474,853 3.16\\nOther..............................      994 3.26     1,416 2.08    28,349 3.66\\n                                    --------       --------       --------\\n  Total............................ $665,493 3.77% $582,545 2.78% $539,439 3.19%\\n                                    ========       ========       ========\\nMaximum month-end balance\\n-------------------------\\nFederal funds purchased............ $222,000       $134,000       $131,000\\nRepurchase agreements..............  699,216        598,872        561,831\\nOther..............................    1,975          2,367         62,539\\n                                    --------       --------       --------\\n  Total............................ $923,191       $735,239       $755,370\\n                                    ========       ========       ========\\n</TABLE>\\n \\n                                      A-38\\n<PAGE>\\n \\nCAPITAL\\n \\n  The Company places a significant emphasis on the mai']\n"
     ]
    },
    {
     "name": "stderr",
     "output_type": "stream",
     "text": [
      "  1%|          | 16/1281 [00:07<04:31,  4.67it/s]"
     ]
    },
    {
     "name": "stdout",
     "output_type": "stream",
     "text": [
      "File: 0000950129-95-000094.txt, Occurrences: []\n",
      "File: 0000950149-95-000135.txt, Occurrences: ['t company, USL Capital Corporation, whose assets are available first\\nand foremost to satisfy the claims of its creditors. Beginning in June 1994, the\\nCompany discontinued securitizing additional leases under this arrange-ment to\\nreplace the run-off of principal of the leases initially securitized. See Note 2\\nof Notes to Consolidated Financial Statements on page 26.\\n \\n     On April 30, 1992, the Company securitized and sold approximately $94\\nmillion in principal amount of receivables under lease-purchase agreements with\\nvarious state and local governments. These lease-purchase agreements were\\npurchased by the Company from Ford Credit, for whom they had been managed by the\\n \\n                                       12\\n<PAGE>   13\\n \\nCompany. The Company then immediately transferred them to tax-exempt grantor\\ntrusts, which issued tax-exempt, asset-backed certificates to investors in a\\npublic offering. See Note 2 of Notes to Consolidated Financial Statements on\\npage 26.\\n \\nITEM 2.  PROPERTIES\\n', 'oremost to satisfy the claims of its creditors. Beginning in June 1994, the\\nCompany discontinued securitizing additional leases under this arrange-ment to\\nreplace the run-off of principal of the leases initially securitized. See Note 2\\nof Notes to Consolidated Financial Statements on page 26.\\n \\n     On April 30, 1992, the Company securitized and sold approximately $94\\nmillion in principal amount of receivables under lease-purchase agreements with\\nvarious state and local governments. These lease-purchase agreements were\\npurchased by the Company from Ford Credit, for whom they had been managed by the\\n \\n                                       12\\n<PAGE>   13\\n \\nCompany. The Company then immediately transferred them to tax-exempt grantor\\ntrusts, which issued tax-exempt, asset-backed certificates to investors in a\\npublic offering. See Note 2 of Notes to Consolidated Financial Statements on\\npage 26.\\n \\nITEM 2.  PROPERTIES\\n \\n     The Company owns no significant real property and leases all of its']\n"
     ]
    },
    {
     "name": "stderr",
     "output_type": "stream",
     "text": [
      "  1%|▏         | 18/1281 [00:07<04:07,  5.11it/s]"
     ]
    },
    {
     "name": "stdout",
     "output_type": "stream",
     "text": [
      "File: 0000101829-95-000012.txt, Occurrences: []\n",
      "File: 0000950123-95-000826.txt, Occurrences: [' under limited\\ncircumstances generally applicable to acquisitions of troubled institutions.\\n \\n     FIRREA gives the FDIC as conservator or receiver of a failed depository\\ninstitution express authority to repudiate contracts with such institution which\\nit determines to be burdensome or if such repudiation will promote the orderly\\nadministration of the institution\\'s affairs. Certain \"qualified financial\\ncontracts\", defined to include securities contracts, commodity contracts,\\nforward contracts, repurchase agreements, and swap agreements, are generally\\nexcluded from the repudiation powers of the FDIC. The FDIC is also given\\nauthority to enforce contracts made by a depository institution, notwithstanding\\nany contractual provision providing for termination, default, acceleration, or\\nexercise of rights upon, or solely by reason of, insolvency or the appointment\\nof a conservator or receiver. Insured depository institutions are also\\nprohibited from entering into contracts for goods, products o', 'tment\\nportfolios. These deposits averaged $338.4 million during 1994, an increase of\\n$82.4 million, or 32.2%, compared to 1993. At December 31, 1994, commercial CDs\\ntotaled $371.1 million, an increase of $144.6 million, or 63.8%, compared to the\\nprior year. The cost of commercial CDs increased by 117 basis points during the\\nyear to 4.03%, compared with 2.86% in 1993, and reflected the impact of rising\\ninterest rates.\\n\\nOTHER BORROWED FUNDS\\n\\nOther borrowed funds include Federal funds purchased, repurchase agreements,\\ntreasury tax and loan deposits and other short-term borrowings. These borrowings\\nare generally used to support growth in the loan and investment portfolios.\\nDuring 1994, other borrowed funds increased $614.1 million, or 76.5%, to average\\n$1.4 billion. The cost of borrowed funds increased 105 basis points during the\\nyear to 5.04%, compared with 3.99% in 1993.\\n\\n     Commercial paper, which amounted to $42.2 million at year end, is a funding\\nsource for the non-bank subsidiaries']\n"
     ]
    },
    {
     "name": "stderr",
     "output_type": "stream",
     "text": [
      "  2%|▏         | 20/1281 [00:07<03:32,  5.92it/s]"
     ]
    },
    {
     "name": "stdout",
     "output_type": "stream",
     "text": [
      "File: 0000101830-95-000013.txt, Occurrences: []\n",
      "File: 0000102212-95-000012.txt, Occurrences: [\"eir carrying amounts).  The carrying\\namounts for variable-rate, fixed-term money market accounts and\\ncertificates of deposit approximate their fair values at the\\nreporting date.  Fair values for fixed-rate certificates of\\ndeposit are estimated using a discounted cash flow calculation\\nthat applies interest rates currently being offered on\\ncertificates to a schedule of aggregated expected monthly\\nmaturities on time deposits.\\n\\nShort-term borrowings:  The carrying amounts of securities sold\\nunder repurchase agreements, and other short-term borrowings\\napproximate their fair values.\\n\\nLong-term debt:  The fair values of the Corporation's long-term\\nborrowings (other than deposits) are estimated using discounted\\ncash flow analyses, based on the Corporation's current borrowing\\nrates for similar types of borrowing arrangements.\\n\\n\\n\\nNote 15.  Parent Company Financial Information\\n\\nCondensed financial statements of Univest, Parent Company only, follow:\\n<TABLE>\\nBalance Sheets\\n<CAPTION>\\n               \", 'dly in the fourth quarter of 1994.  Volumes also increased\\npartially due to the assumption of approximately $12 million of\\ndeposits from the acquisition of a bank branch in the second\\nquarter of 1994.  The 1993 expense was 26.48 percent or\\n$4,993,938 less than the $18,858,859 paid in 1992.  The decrease\\nwas due to decreases in both volume and yield.\\n\\nInterest expense - all other, consists of interest paid on short-\\nterm borrowings such as federal funds purchased, the corporate\\nline of credit, repurchase agreements and treasury tax and loan\\ndeposits.  In addition, Union offers an automated cash management\\nchecking account that sweeps funds daily into a repurchase\\nagreement account.  Interest expense increased to $1,294,742 in\\n1994 from $820,459 in 1993, and $865,717 in 1992.  The increase\\nin 1994 was mainly due to increased volume along with increasing\\nyields, especially during third and fourth quarters of 1994.  The\\ndecrease in 1993 was mainly due to lower interest rates on the\\nvarious']\n"
     ]
    },
    {
     "name": "stderr",
     "output_type": "stream",
     "text": [
      "  2%|▏         | 22/1281 [00:08<04:51,  4.32it/s]"
     ]
    },
    {
     "name": "stdout",
     "output_type": "stream",
     "text": [
      "File: 0000889810-95-000002.txt, Occurrences: []\n",
      "File: 0000102729-95-000005.txt, Occurrences: []\n"
     ]
    },
    {
     "name": "stderr",
     "output_type": "stream",
     "text": [
      "  2%|▏         | 24/1281 [00:08<03:36,  5.82it/s]"
     ]
    },
    {
     "name": "stdout",
     "output_type": "stream",
     "text": [
      "File: 0000102420-95-000009.txt, Occurrences: []\n",
      "File: 0000897101-95-000015.txt, Occurrences: []\n"
     ]
    },
    {
     "name": "stderr",
     "output_type": "stream",
     "text": [
      "  2%|▏         | 26/1281 [00:09<03:36,  5.78it/s]"
     ]
    },
    {
     "name": "stdout",
     "output_type": "stream",
     "text": [
      "File: 0000931302-95-000001.txt, Occurrences: []\n",
      "File: 0000898430-95-000356.txt, Occurrences: []\n"
     ]
    },
    {
     "name": "stderr",
     "output_type": "stream",
     "text": [
      "  2%|▏         | 28/1281 [00:09<03:41,  5.65it/s]"
     ]
    },
    {
     "name": "stdout",
     "output_type": "stream",
     "text": [
      "File: 0000103575-95-000011.txt, Occurrences: []\n",
      "File: 0000922423-95-000040.txt, Occurrences: [\"cquisition, Vishay refinanced all of\\nRoederstein's existing bank debt of DM 160,381,000 ($99,062,000).\\nFunds to refinance Roederstein's debt were provided by a DM\\n104,316,000 term loan with a group of banks, $20,000,000 borrowed\\nunder an unsecured credit agreement, and borrowings under an\\nexisting line of credit. \\n\\nEffective January 1, 1992, the Company acquired the worldwide\\ntantalum capacitor and U.S. thick film resistor network\\nbusinesses of Sprague Technologies, Inc.  Under the terms of the\\npurchase agreement, Vishay paid $127,000,000 cash, transferred to\\nSprague real property with a fair value of $4,771,000, and\\nassumed certain liabilities relating to the businesses.  Vishay\\nalso entered into certain ancillary agreements with the seller,\\nincluding one-year sales and distribution agreements under which\\nVishay received fees of $3,325,000 during 1992, which are\\nincluded in other income.  The purchase price was funded\\nprimarily from a $125,000,000 term loan facility.\\n\\nThe acquisitions\"]\n"
     ]
    },
    {
     "name": "stderr",
     "output_type": "stream",
     "text": [
      "  2%|▏         | 30/1281 [00:09<03:44,  5.58it/s]"
     ]
    },
    {
     "name": "stdout",
     "output_type": "stream",
     "text": [
      "File: 0000916641-95-000050.txt, Occurrences: []\n",
      "File: 0000950123-95-000109.txt, Occurrences: []\n"
     ]
    },
    {
     "name": "stderr",
     "output_type": "stream",
     "text": [
      "  2%|▏         | 31/1281 [00:10<03:31,  5.90it/s]"
     ]
    },
    {
     "name": "stdout",
     "output_type": "stream",
     "text": [
      "File: 0000103973-95-000003.txt, Occurrences: []\n"
     ]
    },
    {
     "name": "stderr",
     "output_type": "stream",
     "text": [
      "  2%|▏         | 32/1281 [00:10<05:30,  3.78it/s]"
     ]
    },
    {
     "name": "stdout",
     "output_type": "stream",
     "text": [
      "File: 0000010427-95-000006.txt, Occurrences: []\n"
     ]
    },
    {
     "name": "stderr",
     "output_type": "stream",
     "text": [
      "  3%|▎         | 33/1281 [00:10<06:08,  3.38it/s]"
     ]
    },
    {
     "name": "stdout",
     "output_type": "stream",
     "text": [
      "File: 0000912057-95-001626.txt, Occurrences: [\"      are, at the time of acquisition, rated at least A by\\n                    Standard & Poor's Corporation or Moody's Investors Service,\\n                    Inc.;\\n\\n               (2)  Repurchase Agreements with any domestic bank with debt rated\\n                    'AA' or better by Standard & Poor's Corporation, or any\\n                    foreign bank rated  at least 'AA' by Standard & Poor's\\n                    Corporation and 'Aa' by Moody's Investors Service, Inc.; or\\n                    repurchase agreements with such other Persons on such terms\\n                    as the Company and the Agent shall agree in writing;\\n                    provided the term of all such repurchase agreements is for\\n                    one year or less;\\n\\n               (3)  Direct obligations of the United States of America, or\\n                    Investments in any Person, which Investments are guaranteed\\n                    by the full faith and credit of the United States of\\n                    Ame\", \")  Repurchase Agreements with any domestic bank with debt rated\\n                    'AA' or better by Standard & Poor's Corporation, or any\\n                    foreign bank rated  at least 'AA' by Standard & Poor's\\n                    Corporation and 'Aa' by Moody's Investors Service, Inc.; or\\n                    repurchase agreements with such other Persons on such terms\\n                    as the Company and the Agent shall agree in writing;\\n                    provided the term of all such repurchase agreements is for\\n                    one year or less;\\n\\n               (3)  Direct obligations of the United States of America, or\\n                    Investments in any Person, which Investments are guaranteed\\n                    by the full faith and credit of the United States of\\n                    America;\\n\\n               (4)  Mortgage-backed securities issued by the United States\\n                    Government or an agency or instrumentality thereof, having\\n                    at\", \"nforceability is\\nconsidered in a proceeding in equity or at law.\\n\\n     (e)  NO VIOLATION.  The consummation of the transactions contemplated by\\nthis Agreement and the other Agreement Documents and the fulfillment of the\\nterms hereof will not (i) conflict with, result in any breach of any of the\\nterms and provisions of, or constitute (with or without notice or lapse of time\\nor both) a default under, the articles of incorporation or by-laws of Seller, or\\nany indenture, loan agreement, receivables purchase agreement, mortgage, deed of\\ntrust, or other agreement or instrument to which Seller is a party or by which\\nit or any of its properties is bound, (ii) result in the creation or imposition\\nof any Adverse Claim upon any of Seller's properties pursuant to the terms of\\nany such indenture, loan agreement, receivables purchase agreement, mortgage,\\ndeed of trust, or other agreement or instrument, other than this Agreement and\\nthe Certificate of Assignments, or (iii) violate any law or order, r\", \" constitute (with or without notice or lapse of time\\nor both) a default under, the articles of incorporation or by-laws of Seller, or\\nany indenture, loan agreement, receivables purchase agreement, mortgage, deed of\\ntrust, or other agreement or instrument to which Seller is a party or by which\\nit or any of its properties is bound, (ii) result in the creation or imposition\\nof any Adverse Claim upon any of Seller's properties pursuant to the terms of\\nany such indenture, loan agreement, receivables purchase agreement, mortgage,\\ndeed of trust, or other agreement or instrument, other than this Agreement and\\nthe Certificate of Assignments, or (iii) violate any law or order, rule, or\\nregulation applicable to Seller of any court or of any federal or state\\nregulatory body, administrative agency, or other governmental instrumentality\\nhaving jurisdiction over Seller or any of its properties.\\n\\n     (f)  NO PROCEEDINGS. There are no proceedings or investigations pending, or\\nthreatened, before any co\", \"       are, at the time of acquisition, rated at least A by\\n                    Standard & Poor's Corporation or Moody's Investors Service,\\n                    Inc.;\\n\\n               (2)  Repurchase Agreements with any domestic bank with debt rated\\n                    'AA' or better by Standard & Poor's Corporation, or any\\n                    foreign bank rated at least 'AA' by Standard & Poor's\\n                    Corporation and 'Aa' by Moody's Investors Service, Inc.; or\\n                    repurchase agreements with such other Persons on such terms\\n                    as Seller and Agent shall agree in writing; provided the\\n                    term of all such repurchase agreements is for one year or\\n                    less;\\n\\n               (3)  Direct obligations of the United States of America, or\\n                    Investments in any Person, which Investments are guaranteed\\n                    by the full faith and credit of the United States of\\n                    America;\\n\\n  \", \"        (2)  Repurchase Agreements with any domestic bank with debt rated\\n                    'AA' or better by Standard & Poor's Corporation, or any\\n                    foreign bank rated at least 'AA' by Standard & Poor's\\n                    Corporation and 'Aa' by Moody's Investors Service, Inc.; or\\n                    repurchase agreements with such other Persons on such terms\\n                    as Seller and Agent shall agree in writing; provided the\\n                    term of all such repurchase agreements is for one year or\\n                    less;\\n\\n               (3)  Direct obligations of the United States of America, or\\n                    Investments in any Person, which Investments are guaranteed\\n                    by the full faith and credit of the United States of\\n                    America;\\n\\n               (4)  Mortgage-backed securities issued by the United States\\n                    Government or any agency or instrumentality thereof, having\\n                    a\"]\n"
     ]
    },
    {
     "name": "stderr",
     "output_type": "stream",
     "text": [
      "  3%|▎         | 34/1281 [00:11<08:14,  2.52it/s]"
     ]
    },
    {
     "name": "stdout",
     "output_type": "stream",
     "text": [
      "File: 0000950131-95-000701.txt, Occurrences: []\n"
     ]
    },
    {
     "name": "stderr",
     "output_type": "stream",
     "text": [
      "  3%|▎         | 36/1281 [00:11<06:16,  3.30it/s]"
     ]
    },
    {
     "name": "stdout",
     "output_type": "stream",
     "text": [
      "File: 0000950124-95-000936.txt, Occurrences: ['=======      =======     ========\\n\\n</TABLE>\\n\\nNOTE 20. SUBSEQUENT EVENT.\\n\\nIn January 1995, the Company signed a letter of intent to acquire the plastic\\nfuel tank division of Dyno Industrier AS (Dyno), Oslo, Norway.  The plastic\\nfuel tank division of Dyno supplies plastic fuel tank systems to most European\\nvehicle manufacturers and has operations in France, Spain, Norway, Great\\nBritain, Germany and Belgium.  The acquisition is subject to several\\nconditions, including the execution of a definitive purchase agreement.\\n\\n                                      32\\n</TEXT>\\n</DOCUMENT>\\n<DOCUMENT>\\n<TYPE>EX-21.1\\n<SEQUENCE>7\\n<DESCRIPTION>EXHIBIT 21.1\\n<TEXT>\\n\\n<PAGE>   1\\n                                                                    EXHIBIT 21.1\\n\\n                       SUBSIDIARIES OF WALBRO CORPORATION\\n\\n\\n<TABLE>\\n<CAPTION>\\n        NAME OF SUBSIDIARY                                          JURISDICTION OF INCORPORATION\\n        ------------------                                          ----------']\n",
      "File: 0000950133-95-000180.txt, Occurrences: []\n"
     ]
    },
    {
     "name": "stderr",
     "output_type": "stream",
     "text": [
      "  3%|▎         | 37/1281 [00:12<06:27,  3.21it/s]"
     ]
    },
    {
     "name": "stdout",
     "output_type": "stream",
     "text": [
      "File: 0000104867-95-000002.txt, Occurrences: []\n"
     ]
    },
    {
     "name": "stderr",
     "output_type": "stream",
     "text": [
      "  3%|▎         | 38/1281 [00:12<06:53,  3.00it/s]"
     ]
    },
    {
     "name": "stdout",
     "output_type": "stream",
     "text": [
      "File: 0000950117-95-000057.txt, Occurrences: ['5 had no impact on earnings since all\\nnonequity securities are categorized as \"held-to-maturity\" and,\\naccordingly, continue to be carried at amortized cost.  At December\\n31, 1994 and 1993, respectively, gross unrealized gains were $.4 and\\n$4.3.  Gross unrealized losses were $4.0 at December 31, 1994.  The\\ninvestment securities portfolio was comprised of negotiable\\ncertificates of deposit, Puerto Rico government bonds, guaranteed\\ncollateralized mortgage obligations and Ginnie Mae certificates,\\nrepurchase agreements and short-term U.S. dollar-linked Mexican\\ngovernment bonds.  Equity securities, categorized as \"available-for-\\nsale,\" were immaterial.  \\n\\nThe investment securities (mentioned above) were reported in the\\nfollowing balance sheet categories:\\n\\n<TABLE>\\n<CAPTION>\\n- -------------------------------------------------------------------\\nDecember 31,                             1994                  1993\\n- -------------------------------------------------------------------\\n<S>           ']\n"
     ]
    },
    {
     "name": "stderr",
     "output_type": "stream",
     "text": [
      "  3%|▎         | 39/1281 [00:13<08:21,  2.48it/s]"
     ]
    },
    {
     "name": "stdout",
     "output_type": "stream",
     "text": [
      "File: 0000912057-95-001533.txt, Occurrences: ['7)        (46)        (129)         (56)     (185)\\n     Certificates of deposit                                      (1)         (1)         (2)          (8)          (1)       (9)\\n     Other time deposits                                          (1)          1          --           (1)          --        (1)\\n     Deposits in foreign offices                                  44          --          44           (1)          (2)       (3)\\n  Federal funds purchased and securities\\n     sold under repurchase agreements                             45          25          70           (8)          (4)      (12)\\n  Commercial paper and other short-term borrowings                 1           3           4           (1)          (2)       (3)\\n  Senior debt                                                    (12)         11          (1)          --          (23)      (23)\\n  Subordinated debt                                              (26)         13         (13)           5            5        10', '61          6            112     5.62          6\\n    Deposits in foreign offices                                         925     4.75         44              7       --         --\\n                                                                    -------              ------        -------              ------\\n      Total interest-bearing deposits                                31,802     2.69        854         32,245     2.68        864\\n  Federal funds purchased and securities sold\\n    under repurchase agreements                                       2,223     4.45         99          1,051     2.79         29\\n  Commercial paper and other short-term borrowings                      224     4.25         10            207     2.90          6\\n  Senior debt                                                         1,930     5.29        102          2,174     4.75        103\\n  Subordinated debt                                                   1,510     5.94         90          1,958     5.23', '49    7.89        12       177    8.23        15\\n    Deposits in foreign offices                      43    7.89         3        400    7.76        31       261    8.84        23\\n                                                -------            ------    -------            ------   -------            ------\\n      Total interest-bearing deposits            34,381    3.44     1,183     35,353    5.55     1,963    29,892    6.49     1,941\\n  Federal funds purchased and securities sold\\n    under repurchase agreements                   1,299    3.16        41      3,092    5.50       170     4,522    7.95       359\\n  Commercial paper and other short-term\\n    borrowings                                      252    3.54         9      1,243    6.29        78     2,871    7.90       227\\n  Senior debt                                     2,175    5.77       126      1,681    7.53       126       587    9.02        53\\n  Subordinated debt                               1,872    4.99        93      ', ' ------         ------         ------\\n      Total interest income                                                                    3,765          3,761          4,145\\n                                                                                              ------         ------         ------\\nINTEREST EXPENSE\\nDeposits                                                                                         854            863          1,185\\nFederal funds purchased and securities sold under repurchase agreements                           99             29             41\\nCommercial paper and other short-term borrowings                                                  10              6              9\\nSenior and subordinated debt                                                                     192            206            219\\n                                                                                              ------         ------         ------\\n      Total interest expense', '                                $10,145        $ 9,719\\nInterest-bearing deposits                                                                                    32,187         31,925\\n                                                                                                            -------        -------\\n      Total deposits                                                                                         42,332         41,644\\nFederal funds purchased and securities sold under repurchase agreements                                       3,022          1,079\\nCommercial paper and other short-term borrowings                                                                189            188\\nAcceptances outstanding                                                                                          77             70\\nAccrued interest payable                                                                                         60             63\\nOther liabilities           ', '  77             70          70\\nNonmarketable equity investments                                                        407         618            396         562\\nOther financial assets                                                                   97          97             73          73\\n\\nFINANCIAL LIABILITIES\\nDeposits                                                                            $42,332     $42,354        $41,644     $41,863\\nFederal funds purchased and securities\\nsold under repurchase agreements                                                      3,022       3,022          1,079       1,079\\nCommercial paper and other short-term\\nborrowings                                                                              189         189            188         188\\nAcceptances outstanding                                                                  77          77             70          70\\nSenior debt (2)                                                                   ', \"lue these amounts, the amount included for\\nthese deposits in the previous table is their carrying value at December 31,\\n1994 and 1993. The fair value of certificates of deposit and other time deposits\\nis calculated based on the discounted value of contractual cash flows. The\\ndiscount rate is estimated using the rates currently offered for like deposits\\nwith similar remaining maturities.\\n\\nSHORT-TERM FINANCIAL LIABILITIES\\n\\nThis category includes federal funds purchased and securities sold under\\nrepurchase agreements, commercial paper and other short-term borrowings. The\\ncarrying amount is a reasonable estimate of fair value because of the relatively\\nshort period of time between the origination of the instrument and its expected\\nrealization.\\n\\nSENIOR AND SUBORDINATED DEBT\\n\\nThe fair value of the Company's underwritten senior and subordinated debt is\\nestimated based on the quoted market prices of the instruments. The fair value\\nof the medium-term note programs, which are part of senior debt,\"]\n"
     ]
    },
    {
     "name": "stderr",
     "output_type": "stream",
     "text": [
      "  3%|▎         | 41/1281 [00:13<06:16,  3.30it/s]"
     ]
    },
    {
     "name": "stdout",
     "output_type": "stream",
     "text": [
      "File: 0000950115-95-000063.txt, Occurrences: []\n",
      "File: 0000950150-95-000229.txt, Occurrences: []\n"
     ]
    },
    {
     "name": "stderr",
     "output_type": "stream",
     "text": [
      "  3%|▎         | 42/1281 [00:14<07:39,  2.70it/s]"
     ]
    },
    {
     "name": "stdout",
     "output_type": "stream",
     "text": [
      "File: 0000105982-95-000052.txt, Occurrences: ['fset by strong growth  in  higher-yielding\\nloans, interest bearing time deposits due from banks\\ndeclined  $962 million (71.7%) to an average of $380\\nmillion in 1994. This follows a decline of $886 million\\n(39.8%) in 1993 and an increase of $471 million (26.8%) in\\n1992. The level of the  interbank placement  of funds\\ntypically  expands  and contracts in conjunction  with the\\nliquidity  and  yields  available in the  market  and\\nalternative investments  for  such funds. Federal funds\\nsold and   repurchase agreements averaged $471 million in\\n1994, a decline of $811 million (63.3%). This follows a\\ndecline of 24.9% in 1993 and an increase of 20.0%  in\\n1992.  It  is expected that these  earning assets  will\\nessentially remain flat during 1995.\\n\\nAt December 31, 1994, interest bearing time deposits due\\nfrom banks totaled  $26 million, a substantial decline of\\n$1.1 billion (97.8%) from the level a year earlier. At the\\nsame time, federal funds sold and  repurchase  agreements\\ndropped $439 millio']\n"
     ]
    },
    {
     "name": "stderr",
     "output_type": "stream",
     "text": [
      "  3%|▎         | 43/1281 [00:14<07:06,  2.90it/s]"
     ]
    },
    {
     "name": "stdout",
     "output_type": "stream",
     "text": [
      "File: 0000018540-95-000045.txt, Occurrences: ['ext  two  years  as contractual standards are met.   Additionally,\\n  CSW Development-I, Inc. has entered into a fixed price contract  to\\n  construct   the  Mulberry  thermal  host  facility.   The   maximum\\n  potential  liability  under  this  fixed  price  contract  is   $14\\n  million.  The thermal host facility is expected to be completed  by\\n  the  first quarter of 1995.  CSW has provided additional guarantees\\n  to the project totaling approximately $57 million.\\n\\n  CSWE  has  entered  into a purchase agreement  on  the  Ft.  Lupton\\n  project  to provide $79.5 million of equity upon the occurrence  of\\n  certain events.  As of January 9, 1995, $43 million has been  paid.\\n  CSWE  has  provided three letters of credit to the project totaling\\n  $14.3  million.   During March 1995, CSWE closed permanent  project\\n  financing  on  the  Ft.  Lupton facility  in  the  amount  of  $208\\n  million.\\n\\n  CSWE  has  committed to provide up to $125 million of  construction\\n  financing to the Orange c']\n"
     ]
    },
    {
     "name": "stderr",
     "output_type": "stream",
     "text": [
      "\n"
     ]
    },
    {
     "ename": "KeyboardInterrupt",
     "evalue": "",
     "output_type": "error",
     "traceback": [
      "\u001b[1;31m---------------------------------------------------------------------------\u001b[0m",
      "\u001b[1;31mKeyboardInterrupt\u001b[0m                         Traceback (most recent call last)",
      "Cell \u001b[1;32mIn[25], line 14\u001b[0m\n\u001b[0;32m     11\u001b[0m \u001b[38;5;66;03m# Check if the file is a text file\u001b[39;00m\n\u001b[0;32m     12\u001b[0m \u001b[38;5;28;01mif\u001b[39;00m file_path\u001b[38;5;241m.\u001b[39mendswith(\u001b[38;5;124m\"\u001b[39m\u001b[38;5;124m.txt\u001b[39m\u001b[38;5;124m\"\u001b[39m):\n\u001b[0;32m     13\u001b[0m     \u001b[38;5;66;03m# Find instances of \"purchase contract\" in the file\u001b[39;00m\n\u001b[1;32m---> 14\u001b[0m     occurrences \u001b[38;5;241m=\u001b[39m \u001b[43mfind_purchase_contract_context\u001b[49m\u001b[43m(\u001b[49m\u001b[43mfile_path\u001b[49m\u001b[43m)\u001b[49m\n\u001b[0;32m     16\u001b[0m     \u001b[38;5;66;03m# Print the filename and the number of occurrences\u001b[39;00m\n\u001b[0;32m     17\u001b[0m     \u001b[38;5;28;01mif\u001b[39;00m occurrences \u001b[38;5;241m!=\u001b[39m \u001b[38;5;241m0\u001b[39m:\n",
      "Cell \u001b[1;32mIn[7], line 7\u001b[0m, in \u001b[0;36mfind_purchase_contract_context\u001b[1;34m(file_path)\u001b[0m\n\u001b[0;32m      4\u001b[0m \u001b[38;5;66;03m# Initialize list to store contexts\u001b[39;00m\n\u001b[0;32m      5\u001b[0m contexts \u001b[38;5;241m=\u001b[39m []\n\u001b[1;32m----> 7\u001b[0m \u001b[38;5;28;01mwith\u001b[39;00m \u001b[43mcodecs\u001b[49m\u001b[38;5;241;43m.\u001b[39;49m\u001b[43mopen\u001b[49m\u001b[43m(\u001b[49m\u001b[43mfile_path\u001b[49m\u001b[43m,\u001b[49m\u001b[43m \u001b[49m\u001b[38;5;124;43m'\u001b[39;49m\u001b[38;5;124;43mr\u001b[39;49m\u001b[38;5;124;43m'\u001b[39;49m\u001b[43m,\u001b[49m\u001b[43m \u001b[49m\u001b[43mencoding\u001b[49m\u001b[38;5;241;43m=\u001b[39;49m\u001b[38;5;124;43m'\u001b[39;49m\u001b[38;5;124;43mutf-8\u001b[39;49m\u001b[38;5;124;43m'\u001b[39;49m\u001b[43m,\u001b[49m\u001b[43m \u001b[49m\u001b[43merrors\u001b[49m\u001b[38;5;241;43m=\u001b[39;49m\u001b[38;5;124;43m'\u001b[39;49m\u001b[38;5;124;43mignore\u001b[39;49m\u001b[38;5;124;43m'\u001b[39;49m\u001b[43m)\u001b[49m \u001b[38;5;28;01mas\u001b[39;00m file:\n\u001b[0;32m      8\u001b[0m     text \u001b[38;5;241m=\u001b[39m file\u001b[38;5;241m.\u001b[39mread()\n\u001b[0;32m     10\u001b[0m     instances \u001b[38;5;241m=\u001b[39m \u001b[38;5;28mlist\u001b[39m(find_all(text, \u001b[38;5;124m'\u001b[39m\u001b[38;5;124mpurchase agreement\u001b[39m\u001b[38;5;124m'\u001b[39m))\n",
      "File \u001b[1;32mc:\\Users\\frank\\AppData\\Local\\Programs\\Python\\Python310\\lib\\codecs.py:905\u001b[0m, in \u001b[0;36mopen\u001b[1;34m(filename, mode, encoding, errors, buffering)\u001b[0m\n\u001b[0;32m    901\u001b[0m \u001b[38;5;28;01mif\u001b[39;00m encoding \u001b[38;5;129;01mis\u001b[39;00m \u001b[38;5;129;01mnot\u001b[39;00m \u001b[38;5;28;01mNone\u001b[39;00m \u001b[38;5;129;01mand\u001b[39;00m \\\n\u001b[0;32m    902\u001b[0m    \u001b[38;5;124m'\u001b[39m\u001b[38;5;124mb\u001b[39m\u001b[38;5;124m'\u001b[39m \u001b[38;5;129;01mnot\u001b[39;00m \u001b[38;5;129;01min\u001b[39;00m mode:\n\u001b[0;32m    903\u001b[0m     \u001b[38;5;66;03m# Force opening of the file in binary mode\u001b[39;00m\n\u001b[0;32m    904\u001b[0m     mode \u001b[38;5;241m=\u001b[39m mode \u001b[38;5;241m+\u001b[39m \u001b[38;5;124m'\u001b[39m\u001b[38;5;124mb\u001b[39m\u001b[38;5;124m'\u001b[39m\n\u001b[1;32m--> 905\u001b[0m file \u001b[38;5;241m=\u001b[39m \u001b[43mbuiltins\u001b[49m\u001b[38;5;241;43m.\u001b[39;49m\u001b[43mopen\u001b[49m\u001b[43m(\u001b[49m\u001b[43mfilename\u001b[49m\u001b[43m,\u001b[49m\u001b[43m \u001b[49m\u001b[43mmode\u001b[49m\u001b[43m,\u001b[49m\u001b[43m \u001b[49m\u001b[43mbuffering\u001b[49m\u001b[43m)\u001b[49m\n\u001b[0;32m    906\u001b[0m \u001b[38;5;28;01mif\u001b[39;00m encoding \u001b[38;5;129;01mis\u001b[39;00m \u001b[38;5;28;01mNone\u001b[39;00m:\n\u001b[0;32m    907\u001b[0m     \u001b[38;5;28;01mreturn\u001b[39;00m file\n",
      "\u001b[1;31mKeyboardInterrupt\u001b[0m: "
     ]
    }
   ],
   "source": [
    "\n",
    "data = []\n",
    "\n",
    "for directory in directories:\n",
    "    counter =0\n",
    "\n",
    "    file_list = os.listdir(directory)\n",
    "\n",
    "    for filename in tqdm(file_list):\n",
    "        file_path = os.path.join(directory, filename)\n",
    "        \n",
    "        # Check if the file is a text file\n",
    "        if file_path.endswith(\".txt\"):\n",
    "            # Find instances of \"purchase contract\" in the file\n",
    "            occurrences = find_purchase_contract_context(file_path)\n",
    "            \n",
    "            # Print the filename and the number of occurrences\n",
    "            if occurrences != 0:\n",
    "                print(f\"File: {filename}, Occurrences: {occurrences}\")\n",
    "                counter += 1\n",
    "                \n",
    "    data.append({'Directory': directory, 'Purchase Contract Mentioned': counter, 'Total Files': len(file_list)})\n",
    "\n",
    "df = pd.DataFrame(data)\n",
    "df.to_csv(\"count_purchase_contract.csv\", index=False)\n"
   ]
  },
  {
   "cell_type": "code",
   "execution_count": 14,
   "metadata": {},
   "outputs": [
    {
     "data": {
      "text/plain": [
       "WindowsPath('sec-data/data/2015_1/10-K/html/1315257_0001193125-15-073376.txt')"
      ]
     },
     "execution_count": 14,
     "metadata": {},
     "output_type": "execute_result"
    }
   ],
   "source": [
    "import os\n",
    "from pathlib import Path\n",
    "\n",
    "\n",
    "path = Path(\"sec-data\\data/2015_1/10-K/html\") \n",
    "file = \"edgar/data/1315257/0001193125-15-073376.txt\"\n",
    "a = file.split('/')\n",
    "\n",
    "b = path / f\"{a[-2]}_{a[-1]}\"\n",
    "\n",
    "b"
   ]
  }
 ],
 "metadata": {
  "kernelspec": {
   "display_name": "Python 3",
   "language": "python",
   "name": "python3"
  },
  "language_info": {
   "codemirror_mode": {
    "name": "ipython",
    "version": 3
   },
   "file_extension": ".py",
   "mimetype": "text/x-python",
   "name": "python",
   "nbconvert_exporter": "python",
   "pygments_lexer": "ipython3",
   "version": "3.10.1"
  }
 },
 "nbformat": 4,
 "nbformat_minor": 2
}
