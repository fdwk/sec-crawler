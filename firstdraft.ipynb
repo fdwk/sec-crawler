{
 "cells": [
  {
   "cell_type": "code",
   "execution_count": 3,
   "metadata": {},
   "outputs": [],
   "source": [
    "import warnings\n",
    "warnings.filterwarnings('ignore')"
   ]
  },
  {
   "cell_type": "code",
   "execution_count": 4,
   "metadata": {},
   "outputs": [],
   "source": [
    "from pathlib import Path\n",
    "import pandas as pd\n",
    "\n",
    "from tqdm import tqdm\n",
    "\n",
    "import requests\n",
    "from urllib.request import urlopen\n",
    "from zipfile import ZipFile, BadZipFile\n",
    "from io import BytesIO\n",
    "\n",
    "\n",
    "import json\n",
    "from pprint import pprint\n"
   ]
  },
  {
   "cell_type": "code",
   "execution_count": null,
   "metadata": {},
   "outputs": [],
   "source": [
    "### Iterating\n"
   ]
  },
  {
   "cell_type": "markdown",
   "metadata": {},
   "source": [
    "## Setting up data source\n",
    "The `sec_path` variable will be the parent directory of the data repositories\n",
    "The headers dictionary will contain the identification information of the script user, and is crucial to avoid 403 errors on requests made to EDGAR.\n",
    "\n",
    "The filing periods can be customized to specify the range of the data. \n",
    "\n",
    "*note that this portion of the code will be abstracted into a class and decoupled into reusable methods to improve clarity and user experience*"
   ]
  },
  {
   "cell_type": "code",
   "execution_count": 5,
   "metadata": {},
   "outputs": [
    {
     "data": {
      "text/plain": [
       "[(2000, 1),\n",
       " (2000, 2),\n",
       " (2000, 3),\n",
       " (2000, 4),\n",
       " (2001, 1),\n",
       " (2001, 2),\n",
       " (2001, 3),\n",
       " (2001, 4),\n",
       " (2002, 1),\n",
       " (2002, 2),\n",
       " (2002, 3),\n",
       " (2002, 4),\n",
       " (2003, 1),\n",
       " (2003, 2),\n",
       " (2003, 3),\n",
       " (2003, 4),\n",
       " (2004, 1),\n",
       " (2004, 2),\n",
       " (2004, 3),\n",
       " (2004, 4)]"
      ]
     },
     "execution_count": 5,
     "metadata": {},
     "output_type": "execute_result"
    }
   ],
   "source": [
    "# make data path to store our data\n",
    "sec_path = Path('./sec-data/data')\n",
    "if not sec_path.exists():\n",
    "    sec_path.mkdir(parents=True)\n",
    "# set URLs\n",
    "sec_url = 'https://www.sec.gov'\n",
    "headers = {'User-Agent': \"kahn7770@mylaurier.ca\"}\n",
    "\n",
    "# make the filing periods\n",
    "filing_periods = [(d.year, d.quarter) for d in pd.date_range('2000-01-01', '2023-06-30', freq='Q')]\n",
    "filing_periods[0:20]"
   ]
  },
  {
   "cell_type": "markdown",
   "metadata": {},
   "source": [
    "# Step 1: Retrieving `master.idx`"
   ]
  },
  {
   "cell_type": "code",
   "execution_count": 66,
   "metadata": {},
   "outputs": [
    {
     "name": "stderr",
     "output_type": "stream",
     "text": [
      "  0%|          | 0/94 [00:00<?, ?it/s]"
     ]
    },
    {
     "name": "stdout",
     "output_type": "stream",
     "text": [
      "https://www.sec.gov/Archives/edgar/full-index/2000/QTR1/master.idx sec-data\\data\\2000_1\\source\n"
     ]
    },
    {
     "name": "stderr",
     "output_type": "stream",
     "text": [
      "  1%|          | 1/94 [00:00<00:51,  1.81it/s]"
     ]
    },
    {
     "name": "stdout",
     "output_type": "stream",
     "text": [
      "https://www.sec.gov/Archives/edgar/full-index/2000/QTR2/master.idx sec-data\\data\\2000_2\\source\n"
     ]
    },
    {
     "name": "stderr",
     "output_type": "stream",
     "text": [
      "  2%|▏         | 2/94 [00:01<01:02,  1.48it/s]"
     ]
    },
    {
     "name": "stdout",
     "output_type": "stream",
     "text": [
      "https://www.sec.gov/Archives/edgar/full-index/2000/QTR3/master.idx sec-data\\data\\2000_3\\source\n"
     ]
    },
    {
     "name": "stderr",
     "output_type": "stream",
     "text": [
      "  3%|▎         | 3/94 [00:01<00:52,  1.73it/s]"
     ]
    },
    {
     "name": "stdout",
     "output_type": "stream",
     "text": [
      "https://www.sec.gov/Archives/edgar/full-index/2000/QTR4/master.idx sec-data\\data\\2000_4\\source\n"
     ]
    },
    {
     "name": "stderr",
     "output_type": "stream",
     "text": [
      "  4%|▍         | 4/94 [00:02<00:49,  1.82it/s]"
     ]
    },
    {
     "name": "stdout",
     "output_type": "stream",
     "text": [
      "https://www.sec.gov/Archives/edgar/full-index/2001/QTR1/master.idx sec-data\\data\\2001_1\\source\n"
     ]
    },
    {
     "name": "stderr",
     "output_type": "stream",
     "text": [
      "  5%|▌         | 5/94 [00:03<00:54,  1.63it/s]"
     ]
    },
    {
     "name": "stdout",
     "output_type": "stream",
     "text": [
      "https://www.sec.gov/Archives/edgar/full-index/2001/QTR2/master.idx sec-data\\data\\2001_2\\source\n"
     ]
    },
    {
     "name": "stderr",
     "output_type": "stream",
     "text": [
      "  6%|▋         | 6/94 [00:03<00:56,  1.56it/s]"
     ]
    },
    {
     "name": "stdout",
     "output_type": "stream",
     "text": [
      "https://www.sec.gov/Archives/edgar/full-index/2001/QTR3/master.idx sec-data\\data\\2001_3\\source\n"
     ]
    },
    {
     "name": "stderr",
     "output_type": "stream",
     "text": [
      "  7%|▋         | 7/94 [00:04<00:51,  1.68it/s]"
     ]
    },
    {
     "name": "stdout",
     "output_type": "stream",
     "text": [
      "https://www.sec.gov/Archives/edgar/full-index/2001/QTR4/master.idx sec-data\\data\\2001_4\\source\n"
     ]
    },
    {
     "name": "stderr",
     "output_type": "stream",
     "text": [
      "  9%|▊         | 8/94 [00:04<00:50,  1.69it/s]"
     ]
    },
    {
     "name": "stdout",
     "output_type": "stream",
     "text": [
      "https://www.sec.gov/Archives/edgar/full-index/2002/QTR1/master.idx sec-data\\data\\2002_1\\source\n"
     ]
    },
    {
     "name": "stderr",
     "output_type": "stream",
     "text": [
      " 10%|▉         | 9/94 [00:05<00:53,  1.57it/s]"
     ]
    },
    {
     "name": "stdout",
     "output_type": "stream",
     "text": [
      "https://www.sec.gov/Archives/edgar/full-index/2002/QTR2/master.idx sec-data\\data\\2002_2\\source\n"
     ]
    },
    {
     "name": "stderr",
     "output_type": "stream",
     "text": [
      " 11%|█         | 10/94 [00:06<00:55,  1.51it/s]"
     ]
    },
    {
     "name": "stdout",
     "output_type": "stream",
     "text": [
      "https://www.sec.gov/Archives/edgar/full-index/2002/QTR3/master.idx sec-data\\data\\2002_3\\source\n"
     ]
    },
    {
     "name": "stderr",
     "output_type": "stream",
     "text": [
      " 12%|█▏        | 11/94 [00:06<00:55,  1.49it/s]"
     ]
    },
    {
     "name": "stdout",
     "output_type": "stream",
     "text": [
      "https://www.sec.gov/Archives/edgar/full-index/2002/QTR4/master.idx sec-data\\data\\2002_4\\source\n"
     ]
    },
    {
     "name": "stderr",
     "output_type": "stream",
     "text": [
      " 13%|█▎        | 12/94 [00:07<00:59,  1.39it/s]"
     ]
    },
    {
     "name": "stdout",
     "output_type": "stream",
     "text": [
      "https://www.sec.gov/Archives/edgar/full-index/2003/QTR1/master.idx sec-data\\data\\2003_1\\source\n"
     ]
    },
    {
     "name": "stderr",
     "output_type": "stream",
     "text": [
      " 14%|█▍        | 13/94 [00:08<01:06,  1.21it/s]"
     ]
    },
    {
     "name": "stdout",
     "output_type": "stream",
     "text": [
      "https://www.sec.gov/Archives/edgar/full-index/2003/QTR2/master.idx sec-data\\data\\2003_2\\source\n"
     ]
    },
    {
     "name": "stderr",
     "output_type": "stream",
     "text": [
      " 15%|█▍        | 14/94 [00:09<01:11,  1.12it/s]"
     ]
    },
    {
     "name": "stdout",
     "output_type": "stream",
     "text": [
      "https://www.sec.gov/Archives/edgar/full-index/2003/QTR3/master.idx sec-data\\data\\2003_3\\source\n"
     ]
    },
    {
     "name": "stderr",
     "output_type": "stream",
     "text": [
      " 16%|█▌        | 15/94 [00:10<01:10,  1.12it/s]"
     ]
    },
    {
     "name": "stdout",
     "output_type": "stream",
     "text": [
      "https://www.sec.gov/Archives/edgar/full-index/2003/QTR4/master.idx sec-data\\data\\2003_4\\source\n"
     ]
    },
    {
     "name": "stderr",
     "output_type": "stream",
     "text": [
      " 17%|█▋        | 16/94 [00:11<01:08,  1.15it/s]"
     ]
    },
    {
     "name": "stdout",
     "output_type": "stream",
     "text": [
      "https://www.sec.gov/Archives/edgar/full-index/2004/QTR1/master.idx sec-data\\data\\2004_1\\source\n"
     ]
    },
    {
     "name": "stderr",
     "output_type": "stream",
     "text": [
      " 18%|█▊        | 17/94 [00:12<01:11,  1.07it/s]"
     ]
    },
    {
     "name": "stdout",
     "output_type": "stream",
     "text": [
      "https://www.sec.gov/Archives/edgar/full-index/2004/QTR2/master.idx sec-data\\data\\2004_2\\source\n"
     ]
    },
    {
     "name": "stderr",
     "output_type": "stream",
     "text": [
      " 19%|█▉        | 18/94 [00:13<01:14,  1.02it/s]"
     ]
    },
    {
     "name": "stdout",
     "output_type": "stream",
     "text": [
      "https://www.sec.gov/Archives/edgar/full-index/2004/QTR3/master.idx sec-data\\data\\2004_3\\source\n"
     ]
    },
    {
     "name": "stderr",
     "output_type": "stream",
     "text": [
      " 20%|██        | 19/94 [00:14<01:17,  1.03s/it]"
     ]
    },
    {
     "name": "stdout",
     "output_type": "stream",
     "text": [
      "https://www.sec.gov/Archives/edgar/full-index/2004/QTR4/master.idx sec-data\\data\\2004_4\\source\n"
     ]
    },
    {
     "name": "stderr",
     "output_type": "stream",
     "text": [
      " 21%|██▏       | 20/94 [00:16<01:20,  1.09s/it]"
     ]
    },
    {
     "name": "stdout",
     "output_type": "stream",
     "text": [
      "https://www.sec.gov/Archives/edgar/full-index/2005/QTR1/master.idx sec-data\\data\\2005_1\\source\n"
     ]
    },
    {
     "name": "stderr",
     "output_type": "stream",
     "text": [
      " 22%|██▏       | 21/94 [00:17<01:22,  1.13s/it]"
     ]
    },
    {
     "name": "stdout",
     "output_type": "stream",
     "text": [
      "https://www.sec.gov/Archives/edgar/full-index/2005/QTR2/master.idx sec-data\\data\\2005_2\\source\n"
     ]
    },
    {
     "name": "stderr",
     "output_type": "stream",
     "text": [
      " 23%|██▎       | 22/94 [00:18<01:20,  1.12s/it]"
     ]
    },
    {
     "name": "stdout",
     "output_type": "stream",
     "text": [
      "https://www.sec.gov/Archives/edgar/full-index/2005/QTR3/master.idx sec-data\\data\\2005_3\\source\n"
     ]
    },
    {
     "name": "stderr",
     "output_type": "stream",
     "text": [
      " 24%|██▍       | 23/94 [00:19<01:18,  1.10s/it]"
     ]
    },
    {
     "name": "stdout",
     "output_type": "stream",
     "text": [
      "https://www.sec.gov/Archives/edgar/full-index/2005/QTR4/master.idx sec-data\\data\\2005_4\\source\n"
     ]
    },
    {
     "name": "stderr",
     "output_type": "stream",
     "text": [
      " 26%|██▌       | 24/94 [00:20<01:14,  1.07s/it]"
     ]
    },
    {
     "name": "stdout",
     "output_type": "stream",
     "text": [
      "https://www.sec.gov/Archives/edgar/full-index/2006/QTR1/master.idx sec-data\\data\\2006_1\\source\n"
     ]
    },
    {
     "name": "stderr",
     "output_type": "stream",
     "text": [
      " 27%|██▋       | 25/94 [00:21<01:18,  1.14s/it]"
     ]
    },
    {
     "name": "stdout",
     "output_type": "stream",
     "text": [
      "https://www.sec.gov/Archives/edgar/full-index/2006/QTR2/master.idx sec-data\\data\\2006_2\\source\n"
     ]
    },
    {
     "name": "stderr",
     "output_type": "stream",
     "text": [
      " 28%|██▊       | 26/94 [00:22<01:18,  1.15s/it]"
     ]
    },
    {
     "name": "stdout",
     "output_type": "stream",
     "text": [
      "https://www.sec.gov/Archives/edgar/full-index/2006/QTR3/master.idx sec-data\\data\\2006_3\\source\n"
     ]
    },
    {
     "name": "stderr",
     "output_type": "stream",
     "text": [
      " 29%|██▊       | 27/94 [00:23<01:12,  1.08s/it]"
     ]
    },
    {
     "name": "stdout",
     "output_type": "stream",
     "text": [
      "https://www.sec.gov/Archives/edgar/full-index/2006/QTR4/master.idx sec-data\\data\\2006_4\\source\n"
     ]
    },
    {
     "name": "stderr",
     "output_type": "stream",
     "text": [
      " 30%|██▉       | 28/94 [00:24<01:08,  1.04s/it]"
     ]
    },
    {
     "name": "stdout",
     "output_type": "stream",
     "text": [
      "https://www.sec.gov/Archives/edgar/full-index/2007/QTR1/master.idx sec-data\\data\\2007_1\\source\n"
     ]
    },
    {
     "name": "stderr",
     "output_type": "stream",
     "text": [
      " 31%|███       | 29/94 [00:25<01:09,  1.06s/it]"
     ]
    },
    {
     "name": "stdout",
     "output_type": "stream",
     "text": [
      "https://www.sec.gov/Archives/edgar/full-index/2007/QTR2/master.idx sec-data\\data\\2007_2\\source\n"
     ]
    },
    {
     "name": "stderr",
     "output_type": "stream",
     "text": [
      " 32%|███▏      | 30/94 [00:26<01:07,  1.05s/it]"
     ]
    },
    {
     "name": "stdout",
     "output_type": "stream",
     "text": [
      "https://www.sec.gov/Archives/edgar/full-index/2007/QTR3/master.idx sec-data\\data\\2007_3\\source\n"
     ]
    },
    {
     "name": "stderr",
     "output_type": "stream",
     "text": [
      " 33%|███▎      | 31/94 [00:27<01:04,  1.02s/it]"
     ]
    },
    {
     "name": "stdout",
     "output_type": "stream",
     "text": [
      "https://www.sec.gov/Archives/edgar/full-index/2007/QTR4/master.idx sec-data\\data\\2007_4\\source\n"
     ]
    },
    {
     "name": "stderr",
     "output_type": "stream",
     "text": [
      " 34%|███▍      | 32/94 [00:28<01:01,  1.00it/s]"
     ]
    },
    {
     "name": "stdout",
     "output_type": "stream",
     "text": [
      "https://www.sec.gov/Archives/edgar/full-index/2008/QTR1/master.idx sec-data\\data\\2008_1\\source\n"
     ]
    },
    {
     "name": "stderr",
     "output_type": "stream",
     "text": [
      " 35%|███▌      | 33/94 [00:29<01:02,  1.03s/it]"
     ]
    },
    {
     "name": "stdout",
     "output_type": "stream",
     "text": [
      "https://www.sec.gov/Archives/edgar/full-index/2008/QTR2/master.idx sec-data\\data\\2008_2\\source\n"
     ]
    },
    {
     "name": "stderr",
     "output_type": "stream",
     "text": [
      " 36%|███▌      | 34/94 [00:30<01:00,  1.01s/it]"
     ]
    },
    {
     "name": "stdout",
     "output_type": "stream",
     "text": [
      "https://www.sec.gov/Archives/edgar/full-index/2008/QTR3/master.idx sec-data\\data\\2008_3\\source\n"
     ]
    },
    {
     "name": "stderr",
     "output_type": "stream",
     "text": [
      " 37%|███▋      | 35/94 [00:31<00:56,  1.04it/s]"
     ]
    },
    {
     "name": "stdout",
     "output_type": "stream",
     "text": [
      "https://www.sec.gov/Archives/edgar/full-index/2008/QTR4/master.idx sec-data\\data\\2008_4\\source\n"
     ]
    },
    {
     "name": "stderr",
     "output_type": "stream",
     "text": [
      " 38%|███▊      | 36/94 [00:32<00:54,  1.06it/s]"
     ]
    },
    {
     "name": "stdout",
     "output_type": "stream",
     "text": [
      "https://www.sec.gov/Archives/edgar/full-index/2009/QTR1/master.idx sec-data\\data\\2009_1\\source\n"
     ]
    },
    {
     "name": "stderr",
     "output_type": "stream",
     "text": [
      " 39%|███▉      | 37/94 [00:34<01:05,  1.14s/it]"
     ]
    },
    {
     "name": "stdout",
     "output_type": "stream",
     "text": [
      "https://www.sec.gov/Archives/edgar/full-index/2009/QTR2/master.idx sec-data\\data\\2009_2\\source\n"
     ]
    },
    {
     "name": "stderr",
     "output_type": "stream",
     "text": [
      " 40%|████      | 38/94 [00:35<01:00,  1.09s/it]"
     ]
    },
    {
     "name": "stdout",
     "output_type": "stream",
     "text": [
      "https://www.sec.gov/Archives/edgar/full-index/2009/QTR3/master.idx sec-data\\data\\2009_3\\source\n"
     ]
    },
    {
     "name": "stderr",
     "output_type": "stream",
     "text": [
      " 41%|████▏     | 39/94 [00:36<00:56,  1.02s/it]"
     ]
    },
    {
     "name": "stdout",
     "output_type": "stream",
     "text": [
      "https://www.sec.gov/Archives/edgar/full-index/2009/QTR4/master.idx sec-data\\data\\2009_4\\source\n"
     ]
    },
    {
     "name": "stderr",
     "output_type": "stream",
     "text": [
      " 43%|████▎     | 40/94 [00:36<00:51,  1.05it/s]"
     ]
    },
    {
     "name": "stdout",
     "output_type": "stream",
     "text": [
      "https://www.sec.gov/Archives/edgar/full-index/2010/QTR1/master.idx sec-data\\data\\2010_1\\source\n"
     ]
    },
    {
     "name": "stderr",
     "output_type": "stream",
     "text": [
      " 44%|████▎     | 41/94 [00:37<00:51,  1.02it/s]"
     ]
    },
    {
     "name": "stdout",
     "output_type": "stream",
     "text": [
      "https://www.sec.gov/Archives/edgar/full-index/2010/QTR2/master.idx sec-data\\data\\2010_2\\source\n"
     ]
    },
    {
     "name": "stderr",
     "output_type": "stream",
     "text": [
      " 45%|████▍     | 42/94 [00:38<00:49,  1.04it/s]"
     ]
    },
    {
     "name": "stdout",
     "output_type": "stream",
     "text": [
      "https://www.sec.gov/Archives/edgar/full-index/2010/QTR3/master.idx sec-data\\data\\2010_3\\source\n"
     ]
    },
    {
     "name": "stderr",
     "output_type": "stream",
     "text": [
      " 46%|████▌     | 43/94 [00:39<00:46,  1.09it/s]"
     ]
    },
    {
     "name": "stdout",
     "output_type": "stream",
     "text": [
      "https://www.sec.gov/Archives/edgar/full-index/2010/QTR4/master.idx sec-data\\data\\2010_4\\source\n"
     ]
    },
    {
     "name": "stderr",
     "output_type": "stream",
     "text": [
      " 47%|████▋     | 44/94 [00:40<00:44,  1.12it/s]"
     ]
    },
    {
     "name": "stdout",
     "output_type": "stream",
     "text": [
      "https://www.sec.gov/Archives/edgar/full-index/2011/QTR1/master.idx sec-data\\data\\2011_1\\source\n"
     ]
    },
    {
     "name": "stderr",
     "output_type": "stream",
     "text": [
      " 48%|████▊     | 45/94 [00:41<00:45,  1.08it/s]"
     ]
    },
    {
     "name": "stdout",
     "output_type": "stream",
     "text": [
      "https://www.sec.gov/Archives/edgar/full-index/2011/QTR2/master.idx sec-data\\data\\2011_2\\source\n"
     ]
    },
    {
     "name": "stderr",
     "output_type": "stream",
     "text": [
      " 49%|████▉     | 46/94 [00:42<00:44,  1.09it/s]"
     ]
    },
    {
     "name": "stdout",
     "output_type": "stream",
     "text": [
      "https://www.sec.gov/Archives/edgar/full-index/2011/QTR3/master.idx sec-data\\data\\2011_3\\source\n"
     ]
    },
    {
     "name": "stderr",
     "output_type": "stream",
     "text": [
      " 50%|█████     | 47/94 [00:43<00:41,  1.12it/s]"
     ]
    },
    {
     "name": "stdout",
     "output_type": "stream",
     "text": [
      "https://www.sec.gov/Archives/edgar/full-index/2011/QTR4/master.idx sec-data\\data\\2011_4\\source\n"
     ]
    },
    {
     "name": "stderr",
     "output_type": "stream",
     "text": [
      " 51%|█████     | 48/94 [00:44<00:39,  1.17it/s]"
     ]
    },
    {
     "name": "stdout",
     "output_type": "stream",
     "text": [
      "https://www.sec.gov/Archives/edgar/full-index/2012/QTR1/master.idx sec-data\\data\\2012_1\\source\n"
     ]
    },
    {
     "name": "stderr",
     "output_type": "stream",
     "text": [
      " 52%|█████▏    | 49/94 [00:45<00:40,  1.10it/s]"
     ]
    },
    {
     "name": "stdout",
     "output_type": "stream",
     "text": [
      "https://www.sec.gov/Archives/edgar/full-index/2012/QTR2/master.idx sec-data\\data\\2012_2\\source\n"
     ]
    },
    {
     "name": "stderr",
     "output_type": "stream",
     "text": [
      " 53%|█████▎    | 50/94 [00:45<00:40,  1.10it/s]"
     ]
    },
    {
     "name": "stdout",
     "output_type": "stream",
     "text": [
      "https://www.sec.gov/Archives/edgar/full-index/2012/QTR3/master.idx sec-data\\data\\2012_3\\source\n"
     ]
    },
    {
     "name": "stderr",
     "output_type": "stream",
     "text": [
      " 54%|█████▍    | 51/94 [00:46<00:38,  1.13it/s]"
     ]
    },
    {
     "name": "stdout",
     "output_type": "stream",
     "text": [
      "https://www.sec.gov/Archives/edgar/full-index/2012/QTR4/master.idx sec-data\\data\\2012_4\\source\n"
     ]
    },
    {
     "name": "stderr",
     "output_type": "stream",
     "text": [
      " 55%|█████▌    | 52/94 [00:47<00:36,  1.14it/s]"
     ]
    },
    {
     "name": "stdout",
     "output_type": "stream",
     "text": [
      "https://www.sec.gov/Archives/edgar/full-index/2013/QTR1/master.idx sec-data\\data\\2013_1\\source\n"
     ]
    },
    {
     "name": "stderr",
     "output_type": "stream",
     "text": [
      " 56%|█████▋    | 53/94 [00:48<00:37,  1.10it/s]"
     ]
    },
    {
     "name": "stdout",
     "output_type": "stream",
     "text": [
      "https://www.sec.gov/Archives/edgar/full-index/2013/QTR2/master.idx sec-data\\data\\2013_2\\source\n"
     ]
    },
    {
     "name": "stderr",
     "output_type": "stream",
     "text": [
      " 57%|█████▋    | 54/94 [00:49<00:36,  1.11it/s]"
     ]
    },
    {
     "name": "stdout",
     "output_type": "stream",
     "text": [
      "https://www.sec.gov/Archives/edgar/full-index/2013/QTR3/master.idx sec-data\\data\\2013_3\\source\n"
     ]
    },
    {
     "name": "stderr",
     "output_type": "stream",
     "text": [
      " 59%|█████▊    | 55/94 [00:50<00:33,  1.15it/s]"
     ]
    },
    {
     "name": "stdout",
     "output_type": "stream",
     "text": [
      "https://www.sec.gov/Archives/edgar/full-index/2013/QTR4/master.idx sec-data\\data\\2013_4\\source\n"
     ]
    },
    {
     "name": "stderr",
     "output_type": "stream",
     "text": [
      " 60%|█████▉    | 56/94 [00:51<00:32,  1.17it/s]"
     ]
    },
    {
     "name": "stdout",
     "output_type": "stream",
     "text": [
      "https://www.sec.gov/Archives/edgar/full-index/2014/QTR1/master.idx sec-data\\data\\2014_1\\source\n"
     ]
    },
    {
     "name": "stderr",
     "output_type": "stream",
     "text": [
      " 61%|██████    | 57/94 [00:52<00:33,  1.11it/s]"
     ]
    },
    {
     "name": "stdout",
     "output_type": "stream",
     "text": [
      "https://www.sec.gov/Archives/edgar/full-index/2014/QTR2/master.idx sec-data\\data\\2014_2\\source\n"
     ]
    },
    {
     "name": "stderr",
     "output_type": "stream",
     "text": [
      " 62%|██████▏   | 58/94 [00:53<00:32,  1.12it/s]"
     ]
    },
    {
     "name": "stdout",
     "output_type": "stream",
     "text": [
      "https://www.sec.gov/Archives/edgar/full-index/2014/QTR3/master.idx sec-data\\data\\2014_3\\source\n"
     ]
    },
    {
     "name": "stderr",
     "output_type": "stream",
     "text": [
      " 63%|██████▎   | 59/94 [00:53<00:30,  1.14it/s]"
     ]
    },
    {
     "name": "stdout",
     "output_type": "stream",
     "text": [
      "https://www.sec.gov/Archives/edgar/full-index/2014/QTR4/master.idx sec-data\\data\\2014_4\\source\n"
     ]
    },
    {
     "name": "stderr",
     "output_type": "stream",
     "text": [
      " 64%|██████▍   | 60/94 [00:54<00:29,  1.16it/s]"
     ]
    },
    {
     "name": "stdout",
     "output_type": "stream",
     "text": [
      "https://www.sec.gov/Archives/edgar/full-index/2015/QTR1/master.idx sec-data\\data\\2015_1\\source\n"
     ]
    },
    {
     "name": "stderr",
     "output_type": "stream",
     "text": [
      " 65%|██████▍   | 61/94 [00:55<00:30,  1.07it/s]"
     ]
    },
    {
     "name": "stdout",
     "output_type": "stream",
     "text": [
      "https://www.sec.gov/Archives/edgar/full-index/2015/QTR2/master.idx sec-data\\data\\2015_2\\source\n"
     ]
    },
    {
     "name": "stderr",
     "output_type": "stream",
     "text": [
      " 66%|██████▌   | 62/94 [00:56<00:29,  1.08it/s]"
     ]
    },
    {
     "name": "stdout",
     "output_type": "stream",
     "text": [
      "https://www.sec.gov/Archives/edgar/full-index/2015/QTR3/master.idx sec-data\\data\\2015_3\\source\n"
     ]
    },
    {
     "name": "stderr",
     "output_type": "stream",
     "text": [
      " 67%|██████▋   | 63/94 [00:57<00:27,  1.12it/s]"
     ]
    },
    {
     "name": "stdout",
     "output_type": "stream",
     "text": [
      "https://www.sec.gov/Archives/edgar/full-index/2015/QTR4/master.idx sec-data\\data\\2015_4\\source\n"
     ]
    },
    {
     "name": "stderr",
     "output_type": "stream",
     "text": [
      " 68%|██████▊   | 64/94 [00:58<00:26,  1.12it/s]"
     ]
    },
    {
     "name": "stdout",
     "output_type": "stream",
     "text": [
      "https://www.sec.gov/Archives/edgar/full-index/2016/QTR1/master.idx sec-data\\data\\2016_1\\source\n"
     ]
    },
    {
     "name": "stderr",
     "output_type": "stream",
     "text": [
      " 69%|██████▉   | 65/94 [00:59<00:27,  1.06it/s]"
     ]
    },
    {
     "name": "stdout",
     "output_type": "stream",
     "text": [
      "https://www.sec.gov/Archives/edgar/full-index/2016/QTR2/master.idx sec-data\\data\\2016_2\\source\n"
     ]
    },
    {
     "name": "stderr",
     "output_type": "stream",
     "text": [
      " 70%|███████   | 66/94 [01:00<00:26,  1.06it/s]"
     ]
    },
    {
     "name": "stdout",
     "output_type": "stream",
     "text": [
      "https://www.sec.gov/Archives/edgar/full-index/2016/QTR3/master.idx sec-data\\data\\2016_3\\source\n"
     ]
    },
    {
     "name": "stderr",
     "output_type": "stream",
     "text": [
      " 71%|███████▏  | 67/94 [01:01<00:24,  1.11it/s]"
     ]
    },
    {
     "name": "stdout",
     "output_type": "stream",
     "text": [
      "https://www.sec.gov/Archives/edgar/full-index/2016/QTR4/master.idx sec-data\\data\\2016_4\\source\n"
     ]
    },
    {
     "name": "stderr",
     "output_type": "stream",
     "text": [
      " 72%|███████▏  | 68/94 [01:02<00:23,  1.13it/s]"
     ]
    },
    {
     "name": "stdout",
     "output_type": "stream",
     "text": [
      "https://www.sec.gov/Archives/edgar/full-index/2017/QTR1/master.idx sec-data\\data\\2017_1\\source\n"
     ]
    },
    {
     "name": "stderr",
     "output_type": "stream",
     "text": [
      " 73%|███████▎  | 69/94 [01:03<00:23,  1.08it/s]"
     ]
    },
    {
     "name": "stdout",
     "output_type": "stream",
     "text": [
      "https://www.sec.gov/Archives/edgar/full-index/2017/QTR2/master.idx sec-data\\data\\2017_2\\source\n"
     ]
    },
    {
     "name": "stderr",
     "output_type": "stream",
     "text": [
      " 74%|███████▍  | 70/94 [01:04<00:22,  1.09it/s]"
     ]
    },
    {
     "name": "stdout",
     "output_type": "stream",
     "text": [
      "https://www.sec.gov/Archives/edgar/full-index/2017/QTR3/master.idx sec-data\\data\\2017_3\\source\n"
     ]
    },
    {
     "name": "stderr",
     "output_type": "stream",
     "text": [
      " 76%|███████▌  | 71/94 [01:04<00:20,  1.14it/s]"
     ]
    },
    {
     "name": "stdout",
     "output_type": "stream",
     "text": [
      "https://www.sec.gov/Archives/edgar/full-index/2017/QTR4/master.idx sec-data\\data\\2017_4\\source\n"
     ]
    },
    {
     "name": "stderr",
     "output_type": "stream",
     "text": [
      " 77%|███████▋  | 72/94 [01:05<00:18,  1.18it/s]"
     ]
    },
    {
     "name": "stdout",
     "output_type": "stream",
     "text": [
      "https://www.sec.gov/Archives/edgar/full-index/2018/QTR1/master.idx sec-data\\data\\2018_1\\source\n"
     ]
    },
    {
     "name": "stderr",
     "output_type": "stream",
     "text": [
      " 78%|███████▊  | 73/94 [01:06<00:19,  1.10it/s]"
     ]
    },
    {
     "name": "stdout",
     "output_type": "stream",
     "text": [
      "https://www.sec.gov/Archives/edgar/full-index/2018/QTR2/master.idx sec-data\\data\\2018_2\\source\n"
     ]
    },
    {
     "name": "stderr",
     "output_type": "stream",
     "text": [
      " 79%|███████▊  | 74/94 [01:07<00:18,  1.11it/s]"
     ]
    },
    {
     "name": "stdout",
     "output_type": "stream",
     "text": [
      "https://www.sec.gov/Archives/edgar/full-index/2018/QTR3/master.idx sec-data\\data\\2018_3\\source\n"
     ]
    },
    {
     "name": "stderr",
     "output_type": "stream",
     "text": [
      " 80%|███████▉  | 75/94 [01:08<00:16,  1.12it/s]"
     ]
    },
    {
     "name": "stdout",
     "output_type": "stream",
     "text": [
      "https://www.sec.gov/Archives/edgar/full-index/2018/QTR4/master.idx sec-data\\data\\2018_4\\source\n"
     ]
    },
    {
     "name": "stderr",
     "output_type": "stream",
     "text": [
      " 81%|████████  | 76/94 [01:09<00:15,  1.14it/s]"
     ]
    },
    {
     "name": "stdout",
     "output_type": "stream",
     "text": [
      "https://www.sec.gov/Archives/edgar/full-index/2019/QTR1/master.idx sec-data\\data\\2019_1\\source\n"
     ]
    },
    {
     "name": "stderr",
     "output_type": "stream",
     "text": [
      " 82%|████████▏ | 77/94 [01:10<00:16,  1.06it/s]"
     ]
    },
    {
     "name": "stdout",
     "output_type": "stream",
     "text": [
      "https://www.sec.gov/Archives/edgar/full-index/2019/QTR2/master.idx sec-data\\data\\2019_2\\source\n"
     ]
    },
    {
     "name": "stderr",
     "output_type": "stream",
     "text": [
      " 83%|████████▎ | 78/94 [01:11<00:15,  1.05it/s]"
     ]
    },
    {
     "name": "stdout",
     "output_type": "stream",
     "text": [
      "https://www.sec.gov/Archives/edgar/full-index/2019/QTR3/master.idx sec-data\\data\\2019_3\\source\n"
     ]
    },
    {
     "name": "stderr",
     "output_type": "stream",
     "text": [
      " 84%|████████▍ | 79/94 [01:12<00:14,  1.07it/s]"
     ]
    },
    {
     "name": "stdout",
     "output_type": "stream",
     "text": [
      "https://www.sec.gov/Archives/edgar/full-index/2019/QTR4/master.idx sec-data\\data\\2019_4\\source\n"
     ]
    },
    {
     "name": "stderr",
     "output_type": "stream",
     "text": [
      " 85%|████████▌ | 80/94 [01:12<00:12,  1.12it/s]"
     ]
    },
    {
     "name": "stdout",
     "output_type": "stream",
     "text": [
      "https://www.sec.gov/Archives/edgar/full-index/2020/QTR1/master.idx sec-data\\data\\2020_1\\source\n"
     ]
    },
    {
     "name": "stderr",
     "output_type": "stream",
     "text": [
      " 86%|████████▌ | 81/94 [01:14<00:13,  1.06s/it]"
     ]
    },
    {
     "name": "stdout",
     "output_type": "stream",
     "text": [
      "https://www.sec.gov/Archives/edgar/full-index/2020/QTR2/master.idx sec-data\\data\\2020_2\\source\n"
     ]
    },
    {
     "name": "stderr",
     "output_type": "stream",
     "text": [
      " 87%|████████▋ | 82/94 [01:16<00:15,  1.32s/it]"
     ]
    },
    {
     "name": "stdout",
     "output_type": "stream",
     "text": [
      "https://www.sec.gov/Archives/edgar/full-index/2020/QTR3/master.idx sec-data\\data\\2020_3\\source\n"
     ]
    },
    {
     "name": "stderr",
     "output_type": "stream",
     "text": [
      " 88%|████████▊ | 83/94 [01:17<00:15,  1.41s/it]"
     ]
    },
    {
     "name": "stdout",
     "output_type": "stream",
     "text": [
      "https://www.sec.gov/Archives/edgar/full-index/2020/QTR4/master.idx sec-data\\data\\2020_4\\source\n"
     ]
    },
    {
     "name": "stderr",
     "output_type": "stream",
     "text": [
      " 89%|████████▉ | 84/94 [01:18<00:12,  1.26s/it]"
     ]
    },
    {
     "name": "stdout",
     "output_type": "stream",
     "text": [
      "https://www.sec.gov/Archives/edgar/full-index/2021/QTR1/master.idx sec-data\\data\\2021_1\\source\n"
     ]
    },
    {
     "name": "stderr",
     "output_type": "stream",
     "text": [
      " 90%|█████████ | 85/94 [01:20<00:11,  1.23s/it]"
     ]
    },
    {
     "name": "stdout",
     "output_type": "stream",
     "text": [
      "https://www.sec.gov/Archives/edgar/full-index/2021/QTR2/master.idx sec-data\\data\\2021_2\\source\n"
     ]
    },
    {
     "name": "stderr",
     "output_type": "stream",
     "text": [
      " 91%|█████████▏| 86/94 [01:21<00:09,  1.17s/it]"
     ]
    },
    {
     "name": "stdout",
     "output_type": "stream",
     "text": [
      "https://www.sec.gov/Archives/edgar/full-index/2021/QTR3/master.idx sec-data\\data\\2021_3\\source\n"
     ]
    },
    {
     "name": "stderr",
     "output_type": "stream",
     "text": [
      " 93%|█████████▎| 87/94 [01:21<00:07,  1.09s/it]"
     ]
    },
    {
     "name": "stdout",
     "output_type": "stream",
     "text": [
      "https://www.sec.gov/Archives/edgar/full-index/2021/QTR4/master.idx sec-data\\data\\2021_4\\source\n"
     ]
    },
    {
     "name": "stderr",
     "output_type": "stream",
     "text": [
      " 94%|█████████▎| 88/94 [01:22<00:06,  1.03s/it]"
     ]
    },
    {
     "name": "stdout",
     "output_type": "stream",
     "text": [
      "https://www.sec.gov/Archives/edgar/full-index/2022/QTR1/master.idx sec-data\\data\\2022_1\\source\n"
     ]
    },
    {
     "name": "stderr",
     "output_type": "stream",
     "text": [
      " 95%|█████████▍| 89/94 [01:24<00:05,  1.07s/it]"
     ]
    },
    {
     "name": "stdout",
     "output_type": "stream",
     "text": [
      "https://www.sec.gov/Archives/edgar/full-index/2022/QTR2/master.idx sec-data\\data\\2022_2\\source\n"
     ]
    },
    {
     "name": "stderr",
     "output_type": "stream",
     "text": [
      " 96%|█████████▌| 90/94 [01:24<00:04,  1.04s/it]"
     ]
    },
    {
     "name": "stdout",
     "output_type": "stream",
     "text": [
      "https://www.sec.gov/Archives/edgar/full-index/2022/QTR3/master.idx sec-data\\data\\2022_3\\source\n"
     ]
    },
    {
     "name": "stderr",
     "output_type": "stream",
     "text": [
      " 97%|█████████▋| 91/94 [01:25<00:02,  1.01it/s]"
     ]
    },
    {
     "name": "stdout",
     "output_type": "stream",
     "text": [
      "https://www.sec.gov/Archives/edgar/full-index/2022/QTR4/master.idx sec-data\\data\\2022_4\\source\n"
     ]
    },
    {
     "name": "stderr",
     "output_type": "stream",
     "text": [
      " 98%|█████████▊| 92/94 [01:26<00:01,  1.05it/s]"
     ]
    },
    {
     "name": "stdout",
     "output_type": "stream",
     "text": [
      "https://www.sec.gov/Archives/edgar/full-index/2023/QTR1/master.idx sec-data\\data\\2023_1\\source\n"
     ]
    },
    {
     "name": "stderr",
     "output_type": "stream",
     "text": [
      " 99%|█████████▉| 93/94 [01:27<00:00,  1.01it/s]"
     ]
    },
    {
     "name": "stdout",
     "output_type": "stream",
     "text": [
      "https://www.sec.gov/Archives/edgar/full-index/2023/QTR2/master.idx sec-data\\data\\2023_2\\source\n"
     ]
    },
    {
     "name": "stderr",
     "output_type": "stream",
     "text": [
      "100%|██████████| 94/94 [01:28<00:00,  1.06it/s]\n"
     ]
    }
   ],
   "source": [
    "import io \n",
    "import time\n",
    "\n",
    "for (yr, qr) in tqdm(filing_periods):\n",
    "    \n",
    "    path = sec_path / f'{yr}_{qr}' / 'source'\n",
    "    if not path.exists():\n",
    "        path.mkdir(parents=True)\n",
    "    \n",
    "    file = \"master.idx\"\n",
    "    src = f\"{sec_url}/Archives/edgar/full-index/{yr}/QTR{qr}/{file}\"\n",
    "    print(src,path)\n",
    "    \n",
    "    try:\n",
    "        local_file = path / 'master.txt'\n",
    "        #if local_file.exists():\n",
    "            #continue\n",
    "            \n",
    "        response = requests.get(src, headers=headers)\n",
    "        \n",
    "        if response.status_code == 200:\n",
    "            with local_file.open('wb') as output_file:\n",
    "                output_file.write(response.content)\n",
    "                \n",
    "        else:\n",
    "            print(f\"Failed to download the file. Status code: {response.status_code}\")\n",
    " \n",
    "        time.sleep(0.1)\n",
    "           \n",
    "    except Exception as e:\n",
    "        print(f\"Failed {e}\") \n",
    "    #response = requests.get(quarterly_files[0], headers=headers)\n",
    "    #masterlist = io.StringIO(response.content.decode(encoding=\"UTF-8\", errors='ignore' )).readlines()\n",
    "\n"
   ]
  },
  {
   "cell_type": "code",
   "execution_count": 21,
   "metadata": {},
   "outputs": [
    {
     "name": "stderr",
     "output_type": "stream",
     "text": [
      "  0%|          | 0/94 [00:00<?, ?it/s]"
     ]
    },
    {
     "name": "stdout",
     "output_type": "stream",
     "text": [
      "       CIK    Company Name Form Type  Date Filed  \\\n",
      "0  1000015  META GROUP INC      10-K  2000-03-30   \n",
      "1  1000015  META GROUP INC  SC 13G/A  2000-01-14   \n",
      "2  1000015  META GROUP INC  SC 13G/A  2000-01-25   \n",
      "3  1000015  META GROUP INC  SC 13G/A  2000-02-07   \n",
      "4  1000015  META GROUP INC  SC 13G/A  2000-02-10   \n",
      "\n",
      "                                      Filename  \n",
      "0  edgar/data/1000015/0000912057-00-014793.txt  \n",
      "1  edgar/data/1000015/0001010521-00-000038.txt  \n",
      "2  edgar/data/1000015/0000818063-00-000004.txt  \n",
      "3  edgar/data/1000015/0000080255-00-000186.txt  \n",
      "4  edgar/data/1000015/0000912938-00-000130.txt  \n"
     ]
    },
    {
     "name": "stderr",
     "output_type": "stream",
     "text": [
      "  1%|          | 1/94 [00:00<01:07,  1.38it/s]"
     ]
    },
    {
     "name": "stdout",
     "output_type": "stream",
     "text": [
      "       CIK            Company Name Form Type  Date Filed  \\\n",
      "0  1000015          META GROUP INC      10-Q  2000-05-15   \n",
      "1  1000015          META GROUP INC   DEF 14A  2000-04-14   \n",
      "2  1000045  NICHOLAS FINANCIAL INC     10KSB  2000-06-29   \n",
      "3  1000045  NICHOLAS FINANCIAL INC   DEF 14A  2000-06-29   \n",
      "4  1000045  NICHOLAS FINANCIAL INC   PRE 14A  2000-06-27   \n",
      "\n",
      "                                      Filename  \n",
      "0  edgar/data/1000015/0000912057-00-024565.txt  \n",
      "1  edgar/data/1000015/0000912057-00-018108.txt  \n",
      "2  edgar/data/1000045/0001000045-00-000006.txt  \n",
      "3  edgar/data/1000045/0001000045-00-000007.txt  \n",
      "4  edgar/data/1000045/0001000045-00-000003.txt  \n"
     ]
    },
    {
     "name": "stderr",
     "output_type": "stream",
     "text": [
      "  2%|▏         | 2/94 [00:01<01:04,  1.43it/s]"
     ]
    },
    {
     "name": "stdout",
     "output_type": "stream",
     "text": [
      "       CIK                         Company Name Form Type  Date Filed  \\\n",
      "0  1000015                       META GROUP INC      10-Q  2000-08-14   \n",
      "1  1000015                       META GROUP INC       S-3  2000-09-07   \n",
      "2  1000015                       META GROUP INC    SC 13G  2000-09-08   \n",
      "3  1000045               NICHOLAS FINANCIAL INC     10QSB  2000-08-14   \n",
      "4  1000048  TECHNOLOGY FLAVORS & FRAGRANCES INC     10QSB  2000-07-26   \n",
      "\n",
      "                                      Filename  \n",
      "0  edgar/data/1000015/0000912057-00-037300.txt  \n",
      "1  edgar/data/1000015/0000912057-00-040427.txt  \n",
      "2  edgar/data/1000015/0001068144-00-000134.txt  \n",
      "3  edgar/data/1000045/0001000045-00-000008.txt  \n",
      "4  edgar/data/1000048/0001104659-00-000351.txt  \n"
     ]
    },
    {
     "name": "stderr",
     "output_type": "stream",
     "text": [
      "  3%|▎         | 3/94 [00:01<00:54,  1.67it/s]"
     ]
    },
    {
     "name": "stdout",
     "output_type": "stream",
     "text": [
      "       CIK    Company Name Form Type  Date Filed  \\\n",
      "0  1000015  META GROUP INC      10-Q  2000-11-14   \n",
      "1  1000015  META GROUP INC       8-K  2000-10-03   \n",
      "2  1000015  META GROUP INC       8-K  2000-10-27   \n",
      "3  1000015  META GROUP INC       8-K  2000-11-07   \n",
      "4  1000015  META GROUP INC       8-K  2000-12-13   \n",
      "\n",
      "                                      Filename  \n",
      "0  edgar/data/1000015/0000912057-00-049913.txt  \n",
      "1  edgar/data/1000015/0000912057-00-043539.txt  \n",
      "2  edgar/data/1000015/0000912057-00-046122.txt  \n",
      "3  edgar/data/1000015/0000912057-00-047525.txt  \n",
      "4  edgar/data/1000015/0000912057-00-053292.txt  \n"
     ]
    },
    {
     "name": "stderr",
     "output_type": "stream",
     "text": [
      "  4%|▍         | 4/94 [00:02<00:47,  1.90it/s]"
     ]
    },
    {
     "name": "stdout",
     "output_type": "stream",
     "text": [
      "       CIK    Company Name Form Type  Date Filed  \\\n",
      "0  1000015  META GROUP INC       8-K  2001-03-09   \n",
      "1  1000015  META GROUP INC  SC 13G/A  2001-02-02   \n",
      "2  1000015  META GROUP INC  SC 13G/A  2001-02-08   \n",
      "3  1000015  META GROUP INC  SC 13G/A  2001-02-12   \n",
      "4  1000015  META GROUP INC  SC 13G/A  2001-02-12   \n",
      "\n",
      "                                      Filename  \n",
      "0  edgar/data/1000015/0000912057-01-007413.txt  \n",
      "1  edgar/data/1000015/0001068144-01-000032.txt  \n",
      "2  edgar/data/1000015/0000080255-01-000172.txt  \n",
      "3  edgar/data/1000015/0000912057-01-004618.txt  \n",
      "4  edgar/data/1000015/0000912057-01-004619.txt  \n"
     ]
    },
    {
     "name": "stderr",
     "output_type": "stream",
     "text": [
      "  5%|▌         | 5/94 [00:02<00:52,  1.71it/s]"
     ]
    },
    {
     "name": "stdout",
     "output_type": "stream",
     "text": [
      "       CIK    Company Name Form Type  Date Filed  \\\n",
      "0  1000015  META GROUP INC      10-K  2001-04-02   \n",
      "1  1000015  META GROUP INC      10-Q  2001-05-15   \n",
      "2  1000015  META GROUP INC       8-K  2001-04-10   \n",
      "3  1000015  META GROUP INC       8-K  2001-06-20   \n",
      "4  1000015  META GROUP INC   DEF 14A  2001-04-20   \n",
      "\n",
      "                                      Filename  \n",
      "0  edgar/data/1000015/0000912057-01-506445.txt  \n",
      "1  edgar/data/1000015/0000912057-01-516080.txt  \n",
      "2  edgar/data/1000015/0000912057-01-507870.txt  \n",
      "3  edgar/data/1000015/0000912057-01-520533.txt  \n",
      "4  edgar/data/1000015/0000912057-01-509727.txt  \n"
     ]
    },
    {
     "name": "stderr",
     "output_type": "stream",
     "text": [
      "  6%|▋         | 6/94 [00:03<00:51,  1.71it/s]"
     ]
    },
    {
     "name": "stdout",
     "output_type": "stream",
     "text": [
      "       CIK    Company Name  Form Type  Date Filed  \\\n",
      "0  1000015  META GROUP INC       10-Q  2001-08-14   \n",
      "1  1000015  META GROUP INC        8-K  2001-09-25   \n",
      "2  1000015  META GROUP INC   SC 13D/A  2001-07-06   \n",
      "3  1000015  META GROUP INC   SC 13D/A  2001-07-13   \n",
      "4  1000015  META GROUP INC  SC TO-I/A  2001-09-20   \n",
      "\n",
      "                                      Filename  \n",
      "0  edgar/data/1000015/0001104659-01-501962.txt  \n",
      "1  edgar/data/1000015/0000912057-01-533404.txt  \n",
      "2  edgar/data/1000015/0000912057-01-522809.txt  \n",
      "3  edgar/data/1000015/0000912057-01-523726.txt  \n",
      "4  edgar/data/1000015/0000912057-01-532929.txt  \n"
     ]
    },
    {
     "name": "stderr",
     "output_type": "stream",
     "text": [
      "  7%|▋         | 7/94 [00:04<00:47,  1.83it/s]"
     ]
    },
    {
     "name": "stdout",
     "output_type": "stream",
     "text": [
      "       CIK    Company Name  Form Type  Date Filed  \\\n",
      "0  1000015  META GROUP INC       10-Q  2001-11-14   \n",
      "1  1000015  META GROUP INC        S-3  2001-12-18   \n",
      "2  1000015  META GROUP INC  SC TO-I/A  2001-10-09   \n",
      "3  1000015  META GROUP INC  SC TO-I/A  2001-10-19   \n",
      "4  1000015  META GROUP INC  SC TO-I/A  2001-11-09   \n",
      "\n",
      "                                      Filename  \n",
      "0  edgar/data/1000015/0001104659-01-503356.txt  \n",
      "1  edgar/data/1000015/0000912057-01-543836.txt  \n",
      "2  edgar/data/1000015/0000912057-01-534811.txt  \n",
      "3  edgar/data/1000015/0000912057-01-536003.txt  \n",
      "4  edgar/data/1000015/0000912057-01-538508.txt  \n"
     ]
    },
    {
     "name": "stderr",
     "output_type": "stream",
     "text": [
      "  9%|▊         | 8/94 [00:04<00:43,  1.98it/s]"
     ]
    },
    {
     "name": "stdout",
     "output_type": "stream",
     "text": [
      "       CIK    Company Name Form Type  Date Filed  \\\n",
      "0  1000015  META GROUP INC       8-K  2002-02-12   \n",
      "1  1000015  META GROUP INC       8-K  2002-02-28   \n",
      "2  1000015  META GROUP INC     S-3/A  2002-02-08   \n",
      "3  1000015  META GROUP INC  SC 13G/A  2002-02-08   \n",
      "4  1000015  META GROUP INC  SC 13G/A  2002-02-11   \n",
      "\n",
      "                                      Filename  \n",
      "0  edgar/data/1000015/0001005477-02-000476.txt  \n",
      "1  edgar/data/1000015/0000912057-02-008138.txt  \n",
      "2  edgar/data/1000015/0000912057-02-004711.txt  \n",
      "3  edgar/data/1000015/0000940180-02-000289.txt  \n",
      "4  edgar/data/1000015/0000080255-02-000148.txt  \n"
     ]
    },
    {
     "name": "stderr",
     "output_type": "stream",
     "text": [
      " 10%|▉         | 9/94 [00:05<00:47,  1.78it/s]"
     ]
    },
    {
     "name": "stdout",
     "output_type": "stream",
     "text": [
      "       CIK            Company Name Form Type  Date Filed  \\\n",
      "0  1000015          META GROUP INC   10-K405  2002-04-01   \n",
      "1  1000015          META GROUP INC      10-Q  2002-05-15   \n",
      "2  1000015          META GROUP INC       8-K  2002-04-02   \n",
      "3  1000015          META GROUP INC   DEF 14A  2002-04-23   \n",
      "4  1000045  NICHOLAS FINANCIAL INC     10KSB  2002-06-25   \n",
      "\n",
      "                                      Filename  \n",
      "0  edgar/data/1000015/0000912057-02-012956.txt  \n",
      "1  edgar/data/1000015/0000912057-02-020650.txt  \n",
      "2  edgar/data/1000015/0000912057-02-013279.txt  \n",
      "3  edgar/data/1000015/0000912057-02-016154.txt  \n",
      "4  edgar/data/1000045/0001000045-02-000007.txt  \n"
     ]
    },
    {
     "name": "stderr",
     "output_type": "stream",
     "text": [
      " 11%|█         | 10/94 [00:05<00:48,  1.73it/s]"
     ]
    },
    {
     "name": "stdout",
     "output_type": "stream",
     "text": [
      "       CIK                         Company Name Form Type  Date Filed  \\\n",
      "0  1000015                       META GROUP INC      10-Q  2002-08-14   \n",
      "1  1000015                       META GROUP INC       8-K  2002-09-19   \n",
      "2  1000045               NICHOLAS FINANCIAL INC     10QSB  2002-08-13   \n",
      "3  1000045               NICHOLAS FINANCIAL INC       8-K  2002-07-02   \n",
      "4  1000048  TECHNOLOGY FLAVORS & FRAGRANCES INC   10QSB/A  2002-08-02   \n",
      "\n",
      "                                      Filename  \n",
      "0  edgar/data/1000015/0001104659-02-004149.txt  \n",
      "1  edgar/data/1000015/0000912057-02-036215.txt  \n",
      "2  edgar/data/1000045/0001000045-02-000016.txt  \n",
      "3  edgar/data/1000045/0001000045-02-000013.txt  \n",
      "4  edgar/data/1000048/0001104659-02-003179.txt  \n"
     ]
    },
    {
     "name": "stderr",
     "output_type": "stream",
     "text": [
      " 12%|█▏        | 11/94 [00:06<00:50,  1.64it/s]"
     ]
    },
    {
     "name": "stdout",
     "output_type": "stream",
     "text": [
      "       CIK            Company Name Form Type  Date Filed  \\\n",
      "0  1000015          META GROUP INC      10-Q  2002-11-14   \n",
      "1  1000015          META GROUP INC       8-K  2002-12-24   \n",
      "2  1000015          META GROUP INC       S-8  2002-12-20   \n",
      "3  1000045  NICHOLAS FINANCIAL INC     10QSB  2002-11-13   \n",
      "4  1000045  NICHOLAS FINANCIAL INC  SC 13G/A  2002-11-27   \n",
      "\n",
      "                                      Filename  \n",
      "0  edgar/data/1000015/0001104659-02-006330.txt  \n",
      "1  edgar/data/1000015/0001047469-02-008266.txt  \n",
      "2  edgar/data/1000015/0001047469-02-007734.txt  \n",
      "3  edgar/data/1000045/0001000045-02-000019.txt  \n",
      "4  edgar/data/1000045/0000897069-02-000937.txt  \n"
     ]
    },
    {
     "name": "stderr",
     "output_type": "stream",
     "text": [
      " 13%|█▎        | 12/94 [00:07<00:50,  1.62it/s]"
     ]
    },
    {
     "name": "stdout",
     "output_type": "stream",
     "text": [
      "       CIK                         Company Name Form Type  Date Filed  \\\n",
      "0  1000015                       META GROUP INC      10-K  2003-03-28   \n",
      "1  1000015                       META GROUP INC  SC 13G/A  2003-02-04   \n",
      "2  1000015                       META GROUP INC  SC 13G/A  2003-02-11   \n",
      "3  1000045               NICHOLAS FINANCIAL INC     10QSB  2003-02-14   \n",
      "4  1000048  TECHNOLOGY FLAVORS & FRAGRANCES INC     10KSB  2003-03-24   \n",
      "\n",
      "                                      Filename  \n",
      "0  edgar/data/1000015/0001047469-03-010821.txt  \n",
      "1  edgar/data/1000015/0000080255-03-000161.txt  \n",
      "2  edgar/data/1000015/0000919574-03-000244.txt  \n",
      "3  edgar/data/1000045/0001000045-03-000002.txt  \n",
      "4  edgar/data/1000048/0001157523-03-000737.txt  \n"
     ]
    },
    {
     "name": "stderr",
     "output_type": "stream",
     "text": [
      " 14%|█▍        | 13/94 [00:08<01:00,  1.35it/s]"
     ]
    },
    {
     "name": "stdout",
     "output_type": "stream",
     "text": [
      "       CIK    Company Name Form Type  Date Filed  \\\n",
      "0  1000015  META GROUP INC      10-Q  2003-05-15   \n",
      "1  1000015  META GROUP INC         4  2003-06-10   \n",
      "2  1000015  META GROUP INC         4  2003-06-11   \n",
      "3  1000015  META GROUP INC         4  2003-06-13   \n",
      "4  1000015  META GROUP INC         4  2003-06-16   \n",
      "\n",
      "                                      Filename  \n",
      "0  edgar/data/1000015/0001104659-03-010250.txt  \n",
      "1  edgar/data/1000015/0001233883-03-000002.txt  \n",
      "2  edgar/data/1000015/0001233883-03-000004.txt  \n",
      "3  edgar/data/1000015/0001233883-03-000006.txt  \n",
      "4  edgar/data/1000015/0001233883-03-000008.txt  \n"
     ]
    },
    {
     "name": "stderr",
     "output_type": "stream",
     "text": [
      " 15%|█▍        | 14/94 [00:09<01:07,  1.19it/s]"
     ]
    },
    {
     "name": "stdout",
     "output_type": "stream",
     "text": [
      "       CIK    Company Name Form Type  Date Filed  \\\n",
      "0  1000015  META GROUP INC      10-Q  2003-08-14   \n",
      "1  1000015  META GROUP INC         3  2003-08-14   \n",
      "2  1000015  META GROUP INC         3  2003-08-26   \n",
      "3  1000015  META GROUP INC         4  2003-07-14   \n",
      "4  1000015  META GROUP INC         4  2003-08-01   \n",
      "\n",
      "                                      Filename  \n",
      "0  edgar/data/1000015/0001104659-03-018571.txt  \n",
      "1  edgar/data/1000015/0001259692-03-000002.txt  \n",
      "2  edgar/data/1000015/0001259692-03-000004.txt  \n",
      "3  edgar/data/1000015/0001233709-03-000002.txt  \n",
      "4  edgar/data/1000015/0001200483-03-000002.txt  \n"
     ]
    },
    {
     "name": "stderr",
     "output_type": "stream",
     "text": [
      " 16%|█▌        | 15/94 [00:10<01:17,  1.02it/s]"
     ]
    },
    {
     "name": "stdout",
     "output_type": "stream",
     "text": [
      "       CIK    Company Name Form Type  Date Filed  \\\n",
      "0  1000015  META GROUP INC    10-K/A  2003-10-31   \n",
      "1  1000015  META GROUP INC      10-Q  2003-11-14   \n",
      "2  1000015  META GROUP INC         4  2003-11-04   \n",
      "3  1000015  META GROUP INC         4  2003-11-26   \n",
      "4  1000015  META GROUP INC         4  2003-11-26   \n",
      "\n",
      "                                      Filename  \n",
      "0  edgar/data/1000015/0001047469-03-035439.txt  \n",
      "1  edgar/data/1000015/0001104659-03-026504.txt  \n",
      "2  edgar/data/1000015/0001259692-03-000016.txt  \n",
      "3  edgar/data/1000015/0001259692-03-000019.txt  \n",
      "4  edgar/data/1000015/0001259692-03-000020.txt  \n"
     ]
    },
    {
     "name": "stderr",
     "output_type": "stream",
     "text": [
      " 17%|█▋        | 16/94 [00:11<01:28,  1.13s/it]"
     ]
    },
    {
     "name": "stdout",
     "output_type": "stream",
     "text": [
      "       CIK    Company Name Form Type  Date Filed  \\\n",
      "0  1000015  META GROUP INC      10-K  2004-03-30   \n",
      "1  1000015  META GROUP INC     424B3  2004-01-26   \n",
      "2  1000015  META GROUP INC         4  2004-01-06   \n",
      "3  1000015  META GROUP INC         4  2004-02-02   \n",
      "4  1000015  META GROUP INC         4  2004-02-24   \n",
      "\n",
      "                                      Filename  \n",
      "0  edgar/data/1000015/0001047469-04-010033.txt  \n",
      "1  edgar/data/1000015/0001047469-04-001808.txt  \n",
      "2  edgar/data/1000015/0001259692-04-000002.txt  \n",
      "3  edgar/data/1000015/0001259692-04-000004.txt  \n",
      "4  edgar/data/1000015/0001259692-04-000006.txt  \n"
     ]
    },
    {
     "name": "stderr",
     "output_type": "stream",
     "text": [
      " 18%|█▊        | 17/94 [00:13<01:42,  1.33s/it]"
     ]
    },
    {
     "name": "stdout",
     "output_type": "stream",
     "text": [
      "       CIK    Company Name Form Type  Date Filed  \\\n",
      "0  1000015  META GROUP INC      10-Q  2004-05-17   \n",
      "1  1000015  META GROUP INC         4  2004-05-03   \n",
      "2  1000015  META GROUP INC         4  2004-05-11   \n",
      "3  1000015  META GROUP INC         4  2004-05-13   \n",
      "4  1000015  META GROUP INC       8-K  2004-05-06   \n",
      "\n",
      "                                      Filename  \n",
      "0  edgar/data/1000015/0001104659-04-014871.txt  \n",
      "1  edgar/data/1000015/0001259692-04-000009.txt  \n",
      "2  edgar/data/1000015/0001259692-04-000011.txt  \n",
      "3  edgar/data/1000015/0001259692-04-000013.txt  \n",
      "4  edgar/data/1000015/0001104659-04-012994.txt  \n"
     ]
    },
    {
     "name": "stderr",
     "output_type": "stream",
     "text": [
      " 19%|█▉        | 18/94 [00:15<01:42,  1.35s/it]"
     ]
    },
    {
     "name": "stdout",
     "output_type": "stream",
     "text": [
      "       CIK    Company Name Form Type  Date Filed  \\\n",
      "0  1000015  META GROUP INC    10-K/A  2004-07-21   \n",
      "1  1000015  META GROUP INC    10-Q/A  2004-07-21   \n",
      "2  1000015  META GROUP INC      10-Q  2004-08-16   \n",
      "3  1000015  META GROUP INC         3  2004-07-13   \n",
      "4  1000015  META GROUP INC         4  2004-07-13   \n",
      "\n",
      "                                      Filename  \n",
      "0  edgar/data/1000015/0001047469-04-023821.txt  \n",
      "1  edgar/data/1000015/0001104659-04-020343.txt  \n",
      "2  edgar/data/1000015/0001104659-04-024680.txt  \n",
      "3  edgar/data/1000015/0001259692-04-000018.txt  \n",
      "4  edgar/data/1000015/0001259692-04-000014.txt  \n"
     ]
    },
    {
     "name": "stderr",
     "output_type": "stream",
     "text": [
      " 20%|██        | 19/94 [00:16<01:38,  1.32s/it]"
     ]
    },
    {
     "name": "stdout",
     "output_type": "stream",
     "text": [
      "       CIK    Company Name Form Type  Date Filed  \\\n",
      "0  1000015  META GROUP INC      10-Q  2004-11-15   \n",
      "1  1000015  META GROUP INC         3  2004-10-22   \n",
      "2  1000015  META GROUP INC         4  2004-11-09   \n",
      "3  1000015  META GROUP INC         4  2004-11-18   \n",
      "4  1000015  META GROUP INC         4  2004-12-22   \n",
      "\n",
      "                                      Filename  \n",
      "0  edgar/data/1000015/0001104659-04-036144.txt  \n",
      "1  edgar/data/1000015/0001259692-04-000027.txt  \n",
      "2  edgar/data/1000015/0001259692-04-000029.txt  \n",
      "3  edgar/data/1000015/0001259692-04-000031.txt  \n",
      "4  edgar/data/1000015/0001259692-04-000033.txt  \n"
     ]
    },
    {
     "name": "stderr",
     "output_type": "stream",
     "text": [
      " 21%|██▏       | 20/94 [00:17<01:40,  1.36s/it]"
     ]
    },
    {
     "name": "stdout",
     "output_type": "stream",
     "text": [
      "       CIK    Company Name Form Type  Date Filed  \\\n",
      "0  1000015  META GROUP INC      10-K  2005-03-31   \n",
      "1  1000015  META GROUP INC         4  2005-01-05   \n",
      "2  1000015  META GROUP INC         4  2005-03-01   \n",
      "3  1000015  META GROUP INC         4  2005-03-24   \n",
      "4  1000015  META GROUP INC       8-K  2005-02-15   \n",
      "\n",
      "                                      Filename  \n",
      "0  edgar/data/1000015/0001104659-05-014341.txt  \n",
      "1  edgar/data/1000015/0001259692-05-000002.txt  \n",
      "2  edgar/data/1000015/0001259692-05-000004.txt  \n",
      "3  edgar/data/1000015/0001259692-05-000006.txt  \n",
      "4  edgar/data/1000015/0001104659-05-006777.txt  \n"
     ]
    },
    {
     "name": "stderr",
     "output_type": "stream",
     "text": [
      " 22%|██▏       | 21/94 [00:19<01:48,  1.49s/it]"
     ]
    },
    {
     "name": "stdout",
     "output_type": "stream",
     "text": [
      "       CIK            Company Name Form Type  Date Filed  \\\n",
      "0  1000015          META GROUP INC    15-12G  2005-04-01   \n",
      "1  1000045  NICHOLAS FINANCIAL INC     10KSB  2005-06-29   \n",
      "2  1000045  NICHOLAS FINANCIAL INC         4  2005-04-04   \n",
      "3  1000045  NICHOLAS FINANCIAL INC         4  2005-05-25   \n",
      "4  1000045  NICHOLAS FINANCIAL INC         4  2005-05-26   \n",
      "\n",
      "                                      Filename  \n",
      "0  edgar/data/1000015/0000950123-05-003979.txt  \n",
      "1  edgar/data/1000045/0000950144-05-006982.txt  \n",
      "2  edgar/data/1000045/0001209191-05-018857.txt  \n",
      "3  edgar/data/1000045/0001209191-05-028110.txt  \n",
      "4  edgar/data/1000045/0001209191-05-028518.txt  \n"
     ]
    },
    {
     "name": "stderr",
     "output_type": "stream",
     "text": [
      " 23%|██▎       | 22/94 [00:21<01:49,  1.52s/it]"
     ]
    },
    {
     "name": "stdout",
     "output_type": "stream",
     "text": [
      "       CIK   Company Name Form Type  Date Filed  \\\n",
      "0  1000032  BINCH JAMES G         4  2005-07-29   \n",
      "1  1000032  BINCH JAMES G         4  2005-09-08   \n",
      "2  1000032  BINCH JAMES G         4  2005-09-12   \n",
      "3  1000032  BINCH JAMES G         4  2005-09-15   \n",
      "4  1000032  BINCH JAMES G         4  2005-09-20   \n",
      "\n",
      "                                      Filename  \n",
      "0  edgar/data/1000032/0000720896-05-000031.txt  \n",
      "1  edgar/data/1000032/0000720896-05-000036.txt  \n",
      "2  edgar/data/1000032/0000720896-05-000037.txt  \n",
      "3  edgar/data/1000032/0000720896-05-000038.txt  \n",
      "4  edgar/data/1000032/0000720896-05-000039.txt  \n"
     ]
    },
    {
     "name": "stderr",
     "output_type": "stream",
     "text": [
      " 24%|██▍       | 23/94 [00:22<01:41,  1.43s/it]"
     ]
    },
    {
     "name": "stdout",
     "output_type": "stream",
     "text": [
      "       CIK                   Company Name Form Type  Date Filed  \\\n",
      "0  1000032                  BINCH JAMES G         4  2005-12-13   \n",
      "1  1000045         NICHOLAS FINANCIAL INC      10-Q  2005-11-10   \n",
      "2  1000045         NICHOLAS FINANCIAL INC       8-K  2005-10-20   \n",
      "3  1000045         NICHOLAS FINANCIAL INC    SC 13G  2005-10-28   \n",
      "4  1000069  TEXAS CAPITAL VALUE FUNDS INC   24F-2NT  2005-12-30   \n",
      "\n",
      "                                      Filename  \n",
      "0  edgar/data/1000032/0000720896-05-000046.txt  \n",
      "1  edgar/data/1000045/0000950144-05-011577.txt  \n",
      "2  edgar/data/1000045/0000950144-05-010504.txt  \n",
      "3  edgar/data/1000045/0000950134-05-019959.txt  \n",
      "4  edgar/data/1000069/0001000069-05-000025.txt  \n"
     ]
    },
    {
     "name": "stderr",
     "output_type": "stream",
     "text": [
      " 26%|██▌       | 24/94 [00:23<01:35,  1.37s/it]"
     ]
    },
    {
     "name": "stdout",
     "output_type": "stream",
     "text": [
      "       CIK            Company Name Form Type  Date Filed  \\\n",
      "0  1000045  NICHOLAS FINANCIAL INC      10-Q  2006-02-14   \n",
      "1  1000045  NICHOLAS FINANCIAL INC         4  2006-02-15   \n",
      "2  1000045  NICHOLAS FINANCIAL INC         4  2006-02-22   \n",
      "3  1000045  NICHOLAS FINANCIAL INC       5/A  2006-01-25   \n",
      "4  1000045  NICHOLAS FINANCIAL INC       5/A  2006-01-25   \n",
      "\n",
      "                                      Filename  \n",
      "0  edgar/data/1000045/0001144204-06-005708.txt  \n",
      "1  edgar/data/1000045/0001144204-06-006463.txt  \n",
      "2  edgar/data/1000045/0001144204-06-007252.txt  \n",
      "3  edgar/data/1000045/0000897069-06-000169.txt  \n",
      "4  edgar/data/1000045/0000897069-06-000171.txt  \n"
     ]
    },
    {
     "name": "stderr",
     "output_type": "stream",
     "text": [
      " 27%|██▋       | 25/94 [00:25<01:49,  1.58s/it]"
     ]
    },
    {
     "name": "stdout",
     "output_type": "stream",
     "text": [
      "       CIK            Company Name Form Type  Date Filed  \\\n",
      "0  1000045  NICHOLAS FINANCIAL INC      10-K  2006-06-29   \n",
      "1  1000045  NICHOLAS FINANCIAL INC       4/A  2006-05-08   \n",
      "2  1000045  NICHOLAS FINANCIAL INC         4  2006-05-10   \n",
      "3  1000045  NICHOLAS FINANCIAL INC         4  2006-06-29   \n",
      "4  1000045  NICHOLAS FINANCIAL INC       8-K  2006-04-26   \n",
      "\n",
      "                                      Filename  \n",
      "0  edgar/data/1000045/0001193125-06-139517.txt  \n",
      "1  edgar/data/1000045/0001144204-06-018820.txt  \n",
      "2  edgar/data/1000045/0001144204-06-019166.txt  \n",
      "3  edgar/data/1000045/0001144204-06-026610.txt  \n",
      "4  edgar/data/1000045/0001144204-06-016833.txt  \n"
     ]
    },
    {
     "name": "stderr",
     "output_type": "stream",
     "text": [
      " 28%|██▊       | 26/94 [00:27<01:47,  1.58s/it]"
     ]
    },
    {
     "name": "stdout",
     "output_type": "stream",
     "text": [
      "       CIK                   Company Name Form Type  Date Filed  \\\n",
      "0  1000045         NICHOLAS FINANCIAL INC      10-Q  2006-08-14   \n",
      "1  1000045         NICHOLAS FINANCIAL INC       8-K  2006-07-27   \n",
      "2  1000069  TEXAS CAPITAL VALUE FUNDS INC       497  2006-09-12   \n",
      "3  1000069  TEXAS CAPITAL VALUE FUNDS INC      N-PX  2006-08-23   \n",
      "4  1000069  TEXAS CAPITAL VALUE FUNDS INC       N-Q  2006-08-29   \n",
      "\n",
      "                                      Filename  \n",
      "0  edgar/data/1000045/0001193125-06-172516.txt  \n",
      "1  edgar/data/1000045/0001193125-06-154794.txt  \n",
      "2  edgar/data/1000069/0001000069-06-000017.txt  \n",
      "3  edgar/data/1000069/0001000069-06-000013.txt  \n",
      "4  edgar/data/1000069/0001000069-06-000015.txt  \n"
     ]
    },
    {
     "name": "stderr",
     "output_type": "stream",
     "text": [
      " 29%|██▊       | 27/94 [00:28<01:44,  1.56s/it]"
     ]
    },
    {
     "name": "stdout",
     "output_type": "stream",
     "text": [
      "       CIK                   Company Name Form Type  Date Filed  \\\n",
      "0  1000045         NICHOLAS FINANCIAL INC      10-Q  2006-11-14   \n",
      "1  1000045         NICHOLAS FINANCIAL INC     8-K/A  2006-11-15   \n",
      "2  1000045         NICHOLAS FINANCIAL INC       8-K  2006-11-02   \n",
      "3  1000045         NICHOLAS FINANCIAL INC       8-K  2006-11-14   \n",
      "4  1000069  TEXAS CAPITAL VALUE FUNDS INC   24F-2NT  2006-12-19   \n",
      "\n",
      "                                      Filename  \n",
      "0  edgar/data/1000045/0001193125-06-234357.txt  \n",
      "1  edgar/data/1000045/0001193125-06-236324.txt  \n",
      "2  edgar/data/1000045/0001193125-06-222273.txt  \n",
      "3  edgar/data/1000045/0001193125-06-234337.txt  \n",
      "4  edgar/data/1000069/0000894189-06-003122.txt  \n"
     ]
    },
    {
     "name": "stderr",
     "output_type": "stream",
     "text": [
      " 30%|██▉       | 28/94 [00:30<01:36,  1.47s/it]"
     ]
    },
    {
     "name": "stdout",
     "output_type": "stream",
     "text": [
      "       CIK            Company Name Form Type  Date Filed  \\\n",
      "0  1000045  NICHOLAS FINANCIAL INC      10-Q  2007-02-14   \n",
      "1  1000045  NICHOLAS FINANCIAL INC         4  2007-01-18   \n",
      "2  1000045  NICHOLAS FINANCIAL INC       8-K  2007-01-29   \n",
      "3  1000045  NICHOLAS FINANCIAL INC  SC 13G/A  2007-02-14   \n",
      "4  1000045  NICHOLAS FINANCIAL INC    SC 13G  2007-02-14   \n",
      "\n",
      "                                      Filename  \n",
      "0  edgar/data/1000045/0001193125-07-031642.txt  \n",
      "1  edgar/data/1000045/0001144204-07-002274.txt  \n",
      "2  edgar/data/1000045/0001193125-07-015318.txt  \n",
      "3  edgar/data/1000045/0000950134-07-003261.txt  \n",
      "4  edgar/data/1000045/0000315066-07-002043.txt  \n"
     ]
    },
    {
     "name": "stderr",
     "output_type": "stream",
     "text": [
      " 31%|███       | 29/94 [00:31<01:37,  1.51s/it]"
     ]
    },
    {
     "name": "stdout",
     "output_type": "stream",
     "text": [
      "       CIK            Company Name Form Type  Date Filed  \\\n",
      "0  1000032           BINCH JAMES G         3  2007-05-25   \n",
      "1  1000045  NICHOLAS FINANCIAL INC      10-K  2007-06-14   \n",
      "2  1000045  NICHOLAS FINANCIAL INC       8-K  2007-05-07   \n",
      "3  1000045  NICHOLAS FINANCIAL INC       S-8  2007-05-24   \n",
      "4  1000069      EMPIRIC FUNDS, INC    N-CSRS  2007-06-04   \n",
      "\n",
      "                                      Filename  \n",
      "0  edgar/data/1000032/0001181431-07-035597.txt  \n",
      "1  edgar/data/1000045/0001193125-07-135810.txt  \n",
      "2  edgar/data/1000045/0001193125-07-104087.txt  \n",
      "3  edgar/data/1000045/0001193125-07-122712.txt  \n",
      "4  edgar/data/1000069/0000898531-07-000167.txt  \n"
     ]
    },
    {
     "name": "stderr",
     "output_type": "stream",
     "text": [
      " 32%|███▏      | 30/94 [00:33<01:44,  1.63s/it]"
     ]
    },
    {
     "name": "stdout",
     "output_type": "stream",
     "text": [
      "       CIK            Company Name Form Type  Date Filed  \\\n",
      "0  1000045  NICHOLAS FINANCIAL INC      10-Q  2007-08-09   \n",
      "1  1000045  NICHOLAS FINANCIAL INC         4  2007-08-07   \n",
      "2  1000045  NICHOLAS FINANCIAL INC         4  2007-08-07   \n",
      "3  1000045  NICHOLAS FINANCIAL INC         4  2007-08-07   \n",
      "4  1000045  NICHOLAS FINANCIAL INC         4  2007-08-08   \n",
      "\n",
      "                                      Filename  \n",
      "0  edgar/data/1000045/0001193125-07-177317.txt  \n",
      "1  edgar/data/1000045/0000897069-07-001583.txt  \n",
      "2  edgar/data/1000045/0000897069-07-001585.txt  \n",
      "3  edgar/data/1000045/0000897069-07-001587.txt  \n",
      "4  edgar/data/1000045/0000897069-07-001601.txt  \n"
     ]
    },
    {
     "name": "stderr",
     "output_type": "stream",
     "text": [
      " 33%|███▎      | 31/94 [00:34<01:35,  1.52s/it]"
     ]
    },
    {
     "name": "stdout",
     "output_type": "stream",
     "text": [
      "       CIK            Company Name Form Type  Date Filed  \\\n",
      "0  1000032           BINCH JAMES G         4  2007-12-31   \n",
      "1  1000045  NICHOLAS FINANCIAL INC      10-Q  2007-11-09   \n",
      "2  1000045  NICHOLAS FINANCIAL INC         4  2007-11-09   \n",
      "3  1000045  NICHOLAS FINANCIAL INC         4  2007-11-23   \n",
      "4  1000045  NICHOLAS FINANCIAL INC         4  2007-11-27   \n",
      "\n",
      "                                      Filename  \n",
      "0  edgar/data/1000032/0001181431-07-078219.txt  \n",
      "1  edgar/data/1000045/0001193125-07-241765.txt  \n",
      "2  edgar/data/1000045/0001000045-07-000003.txt  \n",
      "3  edgar/data/1000045/0001000045-07-000004.txt  \n",
      "4  edgar/data/1000045/0001000045-07-000005.txt  \n"
     ]
    },
    {
     "name": "stderr",
     "output_type": "stream",
     "text": [
      " 34%|███▍      | 32/94 [00:36<01:29,  1.44s/it]"
     ]
    },
    {
     "name": "stdout",
     "output_type": "stream",
     "text": [
      "       CIK            Company Name Form Type  Date Filed  \\\n",
      "0  1000045  NICHOLAS FINANCIAL INC      10-Q  2008-02-11   \n",
      "1  1000045  NICHOLAS FINANCIAL INC         4  2008-02-05   \n",
      "2  1000045  NICHOLAS FINANCIAL INC         4  2008-02-07   \n",
      "3  1000045  NICHOLAS FINANCIAL INC         4  2008-03-18   \n",
      "4  1000045  NICHOLAS FINANCIAL INC       8-K  2008-02-05   \n",
      "\n",
      "                                      Filename  \n",
      "0  edgar/data/1000045/0001193125-08-025292.txt  \n",
      "1  edgar/data/1000045/0001000045-08-000001.txt  \n",
      "2  edgar/data/1000045/0001000045-08-000002.txt  \n",
      "3  edgar/data/1000045/0001000045-08-000003.txt  \n",
      "4  edgar/data/1000045/0001193125-08-020320.txt  \n"
     ]
    },
    {
     "name": "stderr",
     "output_type": "stream",
     "text": [
      " 35%|███▌      | 33/94 [00:38<01:39,  1.63s/it]"
     ]
    },
    {
     "name": "stdout",
     "output_type": "stream",
     "text": [
      "       CIK            Company Name Form Type  Date Filed  \\\n",
      "0  1000045  NICHOLAS FINANCIAL INC      10-K  2008-06-16   \n",
      "1  1000045  NICHOLAS FINANCIAL INC         4  2008-06-06   \n",
      "2  1000045  NICHOLAS FINANCIAL INC       8-K  2008-05-08   \n",
      "3  1000045  NICHOLAS FINANCIAL INC  SC 13G/A  2008-05-02   \n",
      "4  1000069      EMPIRIC FUNDS, INC    40-17G  2008-06-17   \n",
      "\n",
      "                                      Filename  \n",
      "0  edgar/data/1000045/0001193125-08-134501.txt  \n",
      "1  edgar/data/1000045/0001000045-08-000004.txt  \n",
      "2  edgar/data/1000045/0001193125-08-108021.txt  \n",
      "3  edgar/data/1000045/0001362310-08-002368.txt  \n",
      "4  edgar/data/1000069/0000894189-08-001866.txt  \n"
     ]
    },
    {
     "name": "stderr",
     "output_type": "stream",
     "text": [
      " 36%|███▌      | 34/94 [00:39<01:40,  1.67s/it]"
     ]
    },
    {
     "name": "stdout",
     "output_type": "stream",
     "text": [
      "       CIK            Company Name Form Type  Date Filed  \\\n",
      "0  1000045  NICHOLAS FINANCIAL INC      10-Q  2008-08-11   \n",
      "1  1000045  NICHOLAS FINANCIAL INC         4  2008-08-27   \n",
      "2  1000045  NICHOLAS FINANCIAL INC       8-K  2008-07-31   \n",
      "3  1000045  NICHOLAS FINANCIAL INC   DEF 14A  2008-07-08   \n",
      "4  1000045  NICHOLAS FINANCIAL INC    SC 13G  2008-07-17   \n",
      "\n",
      "                                      Filename  \n",
      "0  edgar/data/1000045/0001193125-08-173103.txt  \n",
      "1  edgar/data/1000045/0001000045-08-000005.txt  \n",
      "2  edgar/data/1000045/0001193125-08-162523.txt  \n",
      "3  edgar/data/1000045/0001193125-08-147859.txt  \n",
      "4  edgar/data/1000045/0000950134-08-012879.txt  \n"
     ]
    },
    {
     "name": "stderr",
     "output_type": "stream",
     "text": [
      " 37%|███▋      | 35/94 [00:41<01:32,  1.57s/it]"
     ]
    },
    {
     "name": "stdout",
     "output_type": "stream",
     "text": [
      "       CIK            Company Name Form Type  Date Filed  \\\n",
      "0  1000045  NICHOLAS FINANCIAL INC      10-Q  2008-11-10   \n",
      "1  1000045  NICHOLAS FINANCIAL INC         4  2008-12-01   \n",
      "2  1000045  NICHOLAS FINANCIAL INC         4  2008-12-11   \n",
      "3  1000045  NICHOLAS FINANCIAL INC       8-K  2008-11-05   \n",
      "4  1000069      EMPIRIC FUNDS, INC   24F-2NT  2008-12-17   \n",
      "\n",
      "                                      Filename  \n",
      "0  edgar/data/1000045/0001193125-08-231247.txt  \n",
      "1  edgar/data/1000045/0001000045-08-000006.txt  \n",
      "2  edgar/data/1000045/0001000045-08-000007.txt  \n",
      "3  edgar/data/1000045/0001193125-08-225257.txt  \n",
      "4  edgar/data/1000069/0000894189-08-003938.txt  \n"
     ]
    },
    {
     "name": "stderr",
     "output_type": "stream",
     "text": [
      " 38%|███▊      | 36/94 [00:42<01:22,  1.42s/it]"
     ]
    },
    {
     "name": "stdout",
     "output_type": "stream",
     "text": [
      "       CIK            Company Name Form Type  Date Filed  \\\n",
      "0  1000032           BINCH JAMES G         4  2009-03-03   \n",
      "1  1000045  NICHOLAS FINANCIAL INC      10-Q  2009-02-09   \n",
      "2  1000045  NICHOLAS FINANCIAL INC       8-K  2009-01-29   \n",
      "3  1000045  NICHOLAS FINANCIAL INC  SC 13G/A  2009-02-04   \n",
      "4  1000045  NICHOLAS FINANCIAL INC  SC 13G/A  2009-02-12   \n",
      "\n",
      "                                      Filename  \n",
      "0  edgar/data/1000032/0001181431-09-013035.txt  \n",
      "1  edgar/data/1000045/0001193125-09-022162.txt  \n",
      "2  edgar/data/1000045/0001193125-09-013797.txt  \n",
      "3  edgar/data/1000045/0001144204-09-005244.txt  \n",
      "4  edgar/data/1000045/0001362310-09-001831.txt  \n"
     ]
    },
    {
     "name": "stderr",
     "output_type": "stream",
     "text": [
      " 39%|███▉      | 37/94 [00:44<01:31,  1.60s/it]"
     ]
    },
    {
     "name": "stdout",
     "output_type": "stream",
     "text": [
      "       CIK            Company Name Form Type  Date Filed  \\\n",
      "0  1000032           BINCH JAMES G         4  2009-05-06   \n",
      "1  1000032           BINCH JAMES G         4  2009-06-01   \n",
      "2  1000045  NICHOLAS FINANCIAL INC      10-K  2009-06-15   \n",
      "3  1000045  NICHOLAS FINANCIAL INC         4  2009-06-24   \n",
      "4  1000045  NICHOLAS FINANCIAL INC         4  2009-06-24   \n",
      "\n",
      "                                      Filename  \n",
      "0  edgar/data/1000032/0001181431-09-023155.txt  \n",
      "1  edgar/data/1000032/0001181431-09-027955.txt  \n",
      "2  edgar/data/1000045/0001193125-09-130987.txt  \n",
      "3  edgar/data/1000045/0001000045-09-000001.txt  \n",
      "4  edgar/data/1000045/0001000045-09-000002.txt  \n"
     ]
    },
    {
     "name": "stderr",
     "output_type": "stream",
     "text": [
      " 40%|████      | 38/94 [00:45<01:27,  1.56s/it]"
     ]
    },
    {
     "name": "stdout",
     "output_type": "stream",
     "text": [
      "       CIK            Company Name Form Type  Date Filed  \\\n",
      "0  1000032           BINCH JAMES G         3  2009-08-11   \n",
      "1  1000032           BINCH JAMES G         4  2009-09-02   \n",
      "2  1000045  NICHOLAS FINANCIAL INC      10-Q  2009-08-13   \n",
      "3  1000045  NICHOLAS FINANCIAL INC         4  2009-08-06   \n",
      "4  1000045  NICHOLAS FINANCIAL INC       8-K  2009-07-30   \n",
      "\n",
      "                                      Filename  \n",
      "0  edgar/data/1000032/0001209191-09-039983.txt  \n",
      "1  edgar/data/1000032/0001181431-09-042433.txt  \n",
      "2  edgar/data/1000045/0001193125-09-174080.txt  \n",
      "3  edgar/data/1000045/0001000045-09-000003.txt  \n",
      "4  edgar/data/1000045/0001193125-09-159138.txt  \n"
     ]
    },
    {
     "name": "stderr",
     "output_type": "stream",
     "text": [
      " 41%|████▏     | 39/94 [00:47<01:19,  1.44s/it]"
     ]
    },
    {
     "name": "stdout",
     "output_type": "stream",
     "text": [
      "       CIK            Company Name Form Type  Date Filed  \\\n",
      "0  1000032           BINCH JAMES G         4  2009-12-02   \n",
      "1  1000032           BINCH JAMES G         4  2009-12-03   \n",
      "2  1000045  NICHOLAS FINANCIAL INC      10-Q  2009-11-13   \n",
      "3  1000045  NICHOLAS FINANCIAL INC         4  2009-10-27   \n",
      "4  1000045  NICHOLAS FINANCIAL INC         4  2009-12-17   \n",
      "\n",
      "                                      Filename  \n",
      "0  edgar/data/1000032/0001181431-09-054572.txt  \n",
      "1  edgar/data/1000032/0001181431-09-054927.txt  \n",
      "2  edgar/data/1000045/0001193125-09-234178.txt  \n",
      "3  edgar/data/1000045/0001000045-09-000004.txt  \n",
      "4  edgar/data/1000045/0001000045-09-000005.txt  \n"
     ]
    },
    {
     "name": "stderr",
     "output_type": "stream",
     "text": [
      " 43%|████▎     | 40/94 [00:48<01:17,  1.44s/it]"
     ]
    },
    {
     "name": "stdout",
     "output_type": "stream",
     "text": [
      "       CIK            Company Name Form Type  Date Filed  \\\n",
      "0  1000032           BINCH JAMES G         4  2010-03-02   \n",
      "1  1000045  NICHOLAS FINANCIAL INC    10-Q/A  2010-03-23   \n",
      "2  1000045  NICHOLAS FINANCIAL INC      10-Q  2010-02-16   \n",
      "3  1000045  NICHOLAS FINANCIAL INC       8-K  2010-01-12   \n",
      "4  1000045  NICHOLAS FINANCIAL INC       8-K  2010-02-02   \n",
      "\n",
      "                                      Filename  \n",
      "0  edgar/data/1000032/0001181431-10-013095.txt  \n",
      "1  edgar/data/1000045/0001193125-10-064525.txt  \n",
      "2  edgar/data/1000045/0001193125-10-031666.txt  \n",
      "3  edgar/data/1000045/0001193125-10-005109.txt  \n",
      "4  edgar/data/1000045/0001193125-10-019005.txt  \n"
     ]
    },
    {
     "name": "stderr",
     "output_type": "stream",
     "text": [
      " 44%|████▎     | 41/94 [00:50<01:24,  1.59s/it]"
     ]
    },
    {
     "name": "stdout",
     "output_type": "stream",
     "text": [
      "       CIK            Company Name Form Type  Date Filed  \\\n",
      "0  1000032           BINCH JAMES G         4  2010-06-02   \n",
      "1  1000045  NICHOLAS FINANCIAL INC      10-K  2010-06-14   \n",
      "2  1000045  NICHOLAS FINANCIAL INC       8-K  2010-05-04   \n",
      "3  1000069      EMPIRIC FUNDS, INC    40-17G  2010-06-14   \n",
      "4  1000069      EMPIRIC FUNDS, INC    N-CSRS  2010-05-28   \n",
      "\n",
      "                                      Filename  \n",
      "0  edgar/data/1000032/0001181431-10-030826.txt  \n",
      "1  edgar/data/1000045/0001193125-10-138957.txt  \n",
      "2  edgar/data/1000045/0001193125-10-106422.txt  \n",
      "3  edgar/data/1000069/0000894189-10-002221.txt  \n",
      "4  edgar/data/1000069/0000898531-10-000425.txt  \n"
     ]
    },
    {
     "name": "stderr",
     "output_type": "stream",
     "text": [
      " 45%|████▍     | 42/94 [00:52<01:26,  1.67s/it]"
     ]
    },
    {
     "name": "stdout",
     "output_type": "stream",
     "text": [
      "       CIK            Company Name Form Type  Date Filed  \\\n",
      "0  1000032           BINCH JAMES G         4  2010-09-02   \n",
      "1  1000045  NICHOLAS FINANCIAL INC      10-Q  2010-08-16   \n",
      "2  1000045  NICHOLAS FINANCIAL INC         3  2010-07-14   \n",
      "3  1000045  NICHOLAS FINANCIAL INC         4  2010-07-14   \n",
      "4  1000045  NICHOLAS FINANCIAL INC         4  2010-07-14   \n",
      "\n",
      "                                      Filename  \n",
      "0  edgar/data/1000032/0001181431-10-045388.txt  \n",
      "1  edgar/data/1000045/0001193125-10-189507.txt  \n",
      "2  edgar/data/1000045/0001000045-10-000012.txt  \n",
      "3  edgar/data/1000045/0001000045-10-000002.txt  \n",
      "4  edgar/data/1000045/0001000045-10-000003.txt  \n"
     ]
    },
    {
     "name": "stderr",
     "output_type": "stream",
     "text": [
      " 46%|████▌     | 43/94 [00:53<01:15,  1.47s/it]"
     ]
    },
    {
     "name": "stdout",
     "output_type": "stream",
     "text": [
      "       CIK            Company Name Form Type  Date Filed  \\\n",
      "0  1000032           BINCH JAMES G         4  2010-12-02   \n",
      "1  1000045  NICHOLAS FINANCIAL INC      10-Q  2010-11-12   \n",
      "2  1000045  NICHOLAS FINANCIAL INC         4  2010-10-05   \n",
      "3  1000045  NICHOLAS FINANCIAL INC         4  2010-10-05   \n",
      "4  1000045  NICHOLAS FINANCIAL INC         4  2010-10-12   \n",
      "\n",
      "                                      Filename  \n",
      "0  edgar/data/1000032/0001181431-10-058842.txt  \n",
      "1  edgar/data/1000045/0001193125-10-257749.txt  \n",
      "2  edgar/data/1000045/0001000045-10-000015.txt  \n",
      "3  edgar/data/1000045/0001000045-10-000016.txt  \n",
      "4  edgar/data/1000045/0001000045-10-000017.txt  \n"
     ]
    },
    {
     "name": "stderr",
     "output_type": "stream",
     "text": [
      " 47%|████▋     | 44/94 [00:54<01:09,  1.39s/it]"
     ]
    },
    {
     "name": "stdout",
     "output_type": "stream",
     "text": [
      "       CIK            Company Name Form Type  Date Filed  \\\n",
      "0  1000032           BINCH JAMES G         4  2011-03-08   \n",
      "1  1000045  NICHOLAS FINANCIAL INC      10-Q  2011-02-11   \n",
      "2  1000045  NICHOLAS FINANCIAL INC       8-K  2011-01-11   \n",
      "3  1000045  NICHOLAS FINANCIAL INC       8-K  2011-01-27   \n",
      "4  1000045  NICHOLAS FINANCIAL INC  SC 13G/A  2011-02-14   \n",
      "\n",
      "                                      Filename  \n",
      "0  edgar/data/1000032/0001181431-11-016512.txt  \n",
      "1  edgar/data/1000045/0001193125-11-031933.txt  \n",
      "2  edgar/data/1000045/0001193125-11-005531.txt  \n",
      "3  edgar/data/1000045/0001193125-11-015631.txt  \n",
      "4  edgar/data/1000045/0000929638-11-000151.txt  \n"
     ]
    },
    {
     "name": "stderr",
     "output_type": "stream",
     "text": [
      " 48%|████▊     | 45/94 [00:56<01:16,  1.56s/it]"
     ]
    },
    {
     "name": "stdout",
     "output_type": "stream",
     "text": [
      "       CIK            Company Name Form Type  Date Filed  \\\n",
      "0  1000032           BINCH JAMES G         4  2011-06-02   \n",
      "1  1000045  NICHOLAS FINANCIAL INC      10-K  2011-06-14   \n",
      "2  1000045  NICHOLAS FINANCIAL INC         4  2011-06-08   \n",
      "3  1000045  NICHOLAS FINANCIAL INC         4  2011-06-09   \n",
      "4  1000045  NICHOLAS FINANCIAL INC         4  2011-06-14   \n",
      "\n",
      "                                      Filename  \n",
      "0  edgar/data/1000032/0001181431-11-034343.txt  \n",
      "1  edgar/data/1000045/0001193125-11-164700.txt  \n",
      "2  edgar/data/1000045/0001000045-11-000001.txt  \n",
      "3  edgar/data/1000045/0001000045-11-000002.txt  \n",
      "4  edgar/data/1000045/0001000045-11-000003.txt  \n"
     ]
    },
    {
     "name": "stderr",
     "output_type": "stream",
     "text": [
      " 49%|████▉     | 46/94 [00:58<01:18,  1.65s/it]"
     ]
    },
    {
     "name": "stdout",
     "output_type": "stream",
     "text": [
      "       CIK            Company Name Form Type  Date Filed  \\\n",
      "0  1000032           BINCH JAMES G         4  2011-09-02   \n",
      "1  1000045  NICHOLAS FINANCIAL INC      10-Q  2011-08-09   \n",
      "2  1000045  NICHOLAS FINANCIAL INC         4  2011-07-01   \n",
      "3  1000045  NICHOLAS FINANCIAL INC         4  2011-07-07   \n",
      "4  1000045  NICHOLAS FINANCIAL INC         4  2011-07-07   \n",
      "\n",
      "                                      Filename  \n",
      "0  edgar/data/1000032/0001181431-11-047922.txt  \n",
      "1  edgar/data/1000045/0001193125-11-216128.txt  \n",
      "2  edgar/data/1000045/0001000045-11-000005.txt  \n",
      "3  edgar/data/1000045/0001000045-11-000006.txt  \n",
      "4  edgar/data/1000045/0001000045-11-000007.txt  \n"
     ]
    },
    {
     "name": "stderr",
     "output_type": "stream",
     "text": [
      " 50%|█████     | 47/94 [00:59<01:10,  1.51s/it]"
     ]
    },
    {
     "name": "stdout",
     "output_type": "stream",
     "text": [
      "       CIK            Company Name Form Type  Date Filed  \\\n",
      "0  1000032           BINCH JAMES G         4  2011-12-02   \n",
      "1  1000045  NICHOLAS FINANCIAL INC      10-Q  2011-11-09   \n",
      "2  1000045  NICHOLAS FINANCIAL INC         4  2011-11-14   \n",
      "3  1000045  NICHOLAS FINANCIAL INC       8-K  2011-10-27   \n",
      "4  1000069      EMPIRIC FUNDS, INC   24F-2NT  2011-12-14   \n",
      "\n",
      "                                      Filename  \n",
      "0  edgar/data/1000032/0001181431-11-058482.txt  \n",
      "1  edgar/data/1000045/0001193125-11-303673.txt  \n",
      "2  edgar/data/1000045/0001000045-11-000011.txt  \n",
      "3  edgar/data/1000045/0001193125-11-283263.txt  \n",
      "4  edgar/data/1000069/0000894189-11-005614.txt  \n"
     ]
    },
    {
     "name": "stderr",
     "output_type": "stream",
     "text": [
      " 51%|█████     | 48/94 [01:00<01:03,  1.37s/it]"
     ]
    },
    {
     "name": "stdout",
     "output_type": "stream",
     "text": [
      "       CIK            Company Name Form Type  Date Filed  \\\n",
      "0  1000032           BINCH JAMES G         4  2012-02-02   \n",
      "1  1000032           BINCH JAMES G         4  2012-03-02   \n",
      "2  1000045  NICHOLAS FINANCIAL INC      10-Q  2012-02-09   \n",
      "3  1000045  NICHOLAS FINANCIAL INC         4  2012-02-23   \n",
      "4  1000045  NICHOLAS FINANCIAL INC       8-K  2012-02-02   \n",
      "\n",
      "                                      Filename  \n",
      "0  edgar/data/1000032/0001181431-12-005367.txt  \n",
      "1  edgar/data/1000032/0001181431-12-013915.txt  \n",
      "2  edgar/data/1000045/0001193125-12-047920.txt  \n",
      "3  edgar/data/1000045/0001000045-12-000001.txt  \n",
      "4  edgar/data/1000045/0001193125-12-035754.txt  \n"
     ]
    },
    {
     "name": "stderr",
     "output_type": "stream",
     "text": [
      " 52%|█████▏    | 49/94 [01:02<01:09,  1.54s/it]"
     ]
    },
    {
     "name": "stdout",
     "output_type": "stream",
     "text": [
      "       CIK            Company Name Form Type  Date Filed  \\\n",
      "0  1000032           BINCH JAMES G         4  2012-06-04   \n",
      "1  1000045  NICHOLAS FINANCIAL INC      10-K  2012-06-14   \n",
      "2  1000045  NICHOLAS FINANCIAL INC         4  2012-04-05   \n",
      "3  1000045  NICHOLAS FINANCIAL INC         4  2012-06-07   \n",
      "4  1000045  NICHOLAS FINANCIAL INC         4  2012-06-29   \n",
      "\n",
      "                                      Filename  \n",
      "0  edgar/data/1000032/0001181431-12-034328.txt  \n",
      "1  edgar/data/1000045/0001193125-12-270341.txt  \n",
      "2  edgar/data/1000045/0001000045-12-000002.txt  \n",
      "3  edgar/data/1000045/0001000045-12-000003.txt  \n",
      "4  edgar/data/1000045/0001000045-12-000004.txt  \n"
     ]
    },
    {
     "name": "stderr",
     "output_type": "stream",
     "text": [
      " 53%|█████▎    | 50/94 [01:03<01:07,  1.53s/it]"
     ]
    },
    {
     "name": "stdout",
     "output_type": "stream",
     "text": [
      "       CIK            Company Name Form Type  Date Filed  \\\n",
      "0  1000032           BINCH JAMES G         4  2012-08-28   \n",
      "1  1000032           BINCH JAMES G         4  2012-09-05   \n",
      "2  1000032           BINCH JAMES G         4  2012-09-11   \n",
      "3  1000045  NICHOLAS FINANCIAL INC      10-Q  2012-08-09   \n",
      "4  1000045  NICHOLAS FINANCIAL INC         4  2012-07-06   \n",
      "\n",
      "                                      Filename  \n",
      "0  edgar/data/1000032/0001181431-12-047732.txt  \n",
      "1  edgar/data/1000032/0001181431-12-048769.txt  \n",
      "2  edgar/data/1000032/0001181431-12-049839.txt  \n",
      "3  edgar/data/1000045/0001193125-12-347645.txt  \n",
      "4  edgar/data/1000045/0001000045-12-000006.txt  \n"
     ]
    },
    {
     "name": "stderr",
     "output_type": "stream",
     "text": [
      " 54%|█████▍    | 51/94 [01:05<01:00,  1.41s/it]"
     ]
    },
    {
     "name": "stdout",
     "output_type": "stream",
     "text": [
      "       CIK            Company Name Form Type  Date Filed  \\\n",
      "0  1000032           BINCH JAMES G         4  2012-11-13   \n",
      "1  1000032           BINCH JAMES G         4  2012-12-03   \n",
      "2  1000045  NICHOLAS FINANCIAL INC      10-Q  2012-11-09   \n",
      "3  1000045  NICHOLAS FINANCIAL INC         4  2012-10-17   \n",
      "4  1000045  NICHOLAS FINANCIAL INC       8-K  2012-10-31   \n",
      "\n",
      "                                      Filename  \n",
      "0  edgar/data/1000032/0001181431-12-058269.txt  \n",
      "1  edgar/data/1000032/0001181431-12-061825.txt  \n",
      "2  edgar/data/1000045/0001193125-12-462945.txt  \n",
      "3  edgar/data/1000045/0001000045-12-000014.txt  \n",
      "4  edgar/data/1000045/0001193125-12-442927.txt  \n"
     ]
    },
    {
     "name": "stderr",
     "output_type": "stream",
     "text": [
      " 55%|█████▌    | 52/94 [01:06<00:54,  1.30s/it]"
     ]
    },
    {
     "name": "stdout",
     "output_type": "stream",
     "text": [
      "       CIK            Company Name Form Type  Date Filed  \\\n",
      "0  1000032           BINCH JAMES G         4  2013-03-04   \n",
      "1  1000045  NICHOLAS FINANCIAL INC      10-Q  2013-02-08   \n",
      "2  1000045  NICHOLAS FINANCIAL INC         4  2013-01-09   \n",
      "3  1000045  NICHOLAS FINANCIAL INC       8-K  2013-01-30   \n",
      "4  1000045  NICHOLAS FINANCIAL INC       8-K  2013-02-19   \n",
      "\n",
      "                                      Filename  \n",
      "0  edgar/data/1000032/0001181431-13-014069.txt  \n",
      "1  edgar/data/1000045/0001193125-13-046001.txt  \n",
      "2  edgar/data/1000045/0001000045-13-000001.txt  \n",
      "3  edgar/data/1000045/0001193125-13-029629.txt  \n",
      "4  edgar/data/1000045/0001193125-13-064817.txt  \n"
     ]
    },
    {
     "name": "stderr",
     "output_type": "stream",
     "text": [
      " 56%|█████▋    | 53/94 [01:07<01:00,  1.47s/it]"
     ]
    },
    {
     "name": "stdout",
     "output_type": "stream",
     "text": [
      "       CIK            Company Name Form Type  Date Filed  \\\n",
      "0  1000032           BINCH JAMES G         4  2013-05-07   \n",
      "1  1000032           BINCH JAMES G         4  2013-06-04   \n",
      "2  1000045  NICHOLAS FINANCIAL INC      10-K  2013-06-14   \n",
      "3  1000045  NICHOLAS FINANCIAL INC         4  2013-06-11   \n",
      "4  1000045  NICHOLAS FINANCIAL INC         4  2013-06-11   \n",
      "\n",
      "                                      Filename  \n",
      "0  edgar/data/1000032/0001181431-13-025899.txt  \n",
      "1  edgar/data/1000032/0001181431-13-032457.txt  \n",
      "2  edgar/data/1000045/0001193125-13-259413.txt  \n",
      "3  edgar/data/1000045/0001000045-13-000002.txt  \n",
      "4  edgar/data/1000045/0001000045-13-000003.txt  \n"
     ]
    },
    {
     "name": "stderr",
     "output_type": "stream",
     "text": [
      " 57%|█████▋    | 54/94 [01:09<00:59,  1.49s/it]"
     ]
    },
    {
     "name": "stdout",
     "output_type": "stream",
     "text": [
      "       CIK            Company Name Form Type  Date Filed  \\\n",
      "0  1000032           BINCH JAMES G         4  2013-08-22   \n",
      "1  1000032           BINCH JAMES G         4  2013-09-04   \n",
      "2  1000045  NICHOLAS FINANCIAL INC      10-Q  2013-08-09   \n",
      "3  1000045  NICHOLAS FINANCIAL INC       4/A  2013-09-16   \n",
      "4  1000045  NICHOLAS FINANCIAL INC         4  2013-09-06   \n",
      "\n",
      "                                      Filename  \n",
      "0  edgar/data/1000032/0001181431-13-046141.txt  \n",
      "1  edgar/data/1000032/0001181431-13-047584.txt  \n",
      "2  edgar/data/1000045/0001193125-13-328101.txt  \n",
      "3  edgar/data/1000045/0001000045-13-000009.txt  \n",
      "4  edgar/data/1000045/0001000045-13-000006.txt  \n"
     ]
    },
    {
     "name": "stderr",
     "output_type": "stream",
     "text": [
      " 59%|█████▊    | 55/94 [01:10<00:53,  1.38s/it]"
     ]
    },
    {
     "name": "stdout",
     "output_type": "stream",
     "text": [
      "       CIK            Company Name Form Type  Date Filed  \\\n",
      "0  1000032           BINCH JAMES G         4  2013-12-02   \n",
      "1  1000045  NICHOLAS FINANCIAL INC      10-Q  2013-11-12   \n",
      "2  1000045  NICHOLAS FINANCIAL INC       425  2013-12-18   \n",
      "3  1000045  NICHOLAS FINANCIAL INC         4  2013-12-03   \n",
      "4  1000045  NICHOLAS FINANCIAL INC       8-K  2013-10-31   \n",
      "\n",
      "                                      Filename  \n",
      "0  edgar/data/1000032/0001181431-13-061075.txt  \n",
      "1  edgar/data/1000045/0001193125-13-438121.txt  \n",
      "2  edgar/data/1000045/0001193125-13-477025.txt  \n",
      "3  edgar/data/1000045/0001140361-13-044735.txt  \n",
      "4  edgar/data/1000045/0001193125-13-419892.txt  \n"
     ]
    },
    {
     "name": "stderr",
     "output_type": "stream",
     "text": [
      " 60%|█████▉    | 56/94 [01:11<00:51,  1.37s/it]"
     ]
    },
    {
     "name": "stdout",
     "output_type": "stream",
     "text": [
      "       CIK            Company Name Form Type  Date Filed  \\\n",
      "0  1000032           BINCH JAMES G         4  2014-03-03   \n",
      "1  1000045  NICHOLAS FINANCIAL INC      10-Q  2014-02-10   \n",
      "2  1000045  NICHOLAS FINANCIAL INC       8-K  2014-02-04   \n",
      "3  1000045  NICHOLAS FINANCIAL INC       8-K  2014-03-27   \n",
      "4  1000045  NICHOLAS FINANCIAL INC  SC 13G/A  2014-02-14   \n",
      "\n",
      "                                      Filename  \n",
      "0  edgar/data/1000032/0001181431-14-010250.txt  \n",
      "1  edgar/data/1000045/0001193125-14-042133.txt  \n",
      "2  edgar/data/1000045/0001193125-14-034732.txt  \n",
      "3  edgar/data/1000045/0001193125-14-118837.txt  \n",
      "4  edgar/data/1000045/0000846087-14-000059.txt  \n"
     ]
    },
    {
     "name": "stderr",
     "output_type": "stream",
     "text": [
      " 61%|██████    | 57/94 [01:13<00:52,  1.41s/it]"
     ]
    },
    {
     "name": "stdout",
     "output_type": "stream",
     "text": [
      "       CIK            Company Name Form Type  Date Filed  \\\n",
      "0  1000032           BINCH JAMES G         4  2014-06-03   \n",
      "1  1000045  NICHOLAS FINANCIAL INC      10-K  2014-06-16   \n",
      "2  1000045  NICHOLAS FINANCIAL INC         3  2014-06-03   \n",
      "3  1000045  NICHOLAS FINANCIAL INC         3  2014-06-03   \n",
      "4  1000045  NICHOLAS FINANCIAL INC         4  2014-06-25   \n",
      "\n",
      "                                      Filename  \n",
      "0  edgar/data/1000032/0001181431-14-022442.txt  \n",
      "1  edgar/data/1000045/0001193125-14-237425.txt  \n",
      "2  edgar/data/1000045/0001609567-14-000001.txt  \n",
      "3  edgar/data/1000045/0001609567-14-000002.txt  \n",
      "4  edgar/data/1000045/0001000045-14-000002.txt  \n"
     ]
    },
    {
     "name": "stderr",
     "output_type": "stream",
     "text": [
      " 62%|██████▏   | 58/94 [01:14<00:50,  1.40s/it]"
     ]
    },
    {
     "name": "stdout",
     "output_type": "stream",
     "text": [
      "       CIK            Company Name Form Type  Date Filed  \\\n",
      "0  1000032           BINCH JAMES G         4  2014-09-03   \n",
      "1  1000045  NICHOLAS FINANCIAL INC      10-Q  2014-08-11   \n",
      "2  1000045  NICHOLAS FINANCIAL INC         4  2014-07-03   \n",
      "3  1000045  NICHOLAS FINANCIAL INC         4  2014-08-13   \n",
      "4  1000045  NICHOLAS FINANCIAL INC       8-K  2014-07-01   \n",
      "\n",
      "                                      Filename  \n",
      "0  edgar/data/1000032/0001181431-14-030779.txt  \n",
      "1  edgar/data/1000045/0001193125-14-304053.txt  \n",
      "2  edgar/data/1000045/0001000045-14-000005.txt  \n",
      "3  edgar/data/1000045/0001000045-14-000006.txt  \n",
      "4  edgar/data/1000045/0001193125-14-257879.txt  \n"
     ]
    },
    {
     "name": "stderr",
     "output_type": "stream",
     "text": [
      " 63%|██████▎   | 59/94 [01:16<00:48,  1.38s/it]"
     ]
    },
    {
     "name": "stdout",
     "output_type": "stream",
     "text": [
      "       CIK            Company Name Form Type  Date Filed  \\\n",
      "0  1000032           BINCH JAMES G         4  2014-12-02   \n",
      "1  1000045  NICHOLAS FINANCIAL INC      10-Q  2014-11-10   \n",
      "2  1000045  NICHOLAS FINANCIAL INC       4/A  2014-10-02   \n",
      "3  1000045  NICHOLAS FINANCIAL INC         4  2014-10-01   \n",
      "4  1000045  NICHOLAS FINANCIAL INC         4  2014-10-03   \n",
      "\n",
      "                                      Filename  \n",
      "0  edgar/data/1000032/0001181431-14-037642.txt  \n",
      "1  edgar/data/1000045/0001193125-14-405616.txt  \n",
      "2  edgar/data/1000045/0001200876-14-000149.txt  \n",
      "3  edgar/data/1000045/0001200876-14-000148.txt  \n",
      "4  edgar/data/1000045/0001000045-14-000007.txt  \n"
     ]
    },
    {
     "name": "stderr",
     "output_type": "stream",
     "text": [
      " 64%|██████▍   | 60/94 [01:17<00:46,  1.37s/it]"
     ]
    },
    {
     "name": "stdout",
     "output_type": "stream",
     "text": [
      "       CIK            Company Name Form Type  Date Filed  \\\n",
      "0  1000032           BINCH JAMES G         4  2015-03-03   \n",
      "1  1000045  NICHOLAS FINANCIAL INC      10-Q  2015-02-09   \n",
      "2  1000045  NICHOLAS FINANCIAL INC       8-K  2015-02-04   \n",
      "3  1000045  NICHOLAS FINANCIAL INC   CORRESP  2015-02-18   \n",
      "4  1000045  NICHOLAS FINANCIAL INC   CORRESP  2015-02-27   \n",
      "\n",
      "                                      Filename  \n",
      "0  edgar/data/1000032/0001209191-15-021425.txt  \n",
      "1  edgar/data/1000045/0001193125-15-038970.txt  \n",
      "2  edgar/data/1000045/0001193125-15-033076.txt  \n",
      "3  edgar/data/1000045/0001193125-15-052939.txt  \n",
      "4  edgar/data/1000045/0001193125-15-070110.txt  \n"
     ]
    },
    {
     "name": "stderr",
     "output_type": "stream",
     "text": [
      " 65%|██████▍   | 61/94 [01:19<00:50,  1.55s/it]"
     ]
    },
    {
     "name": "stdout",
     "output_type": "stream",
     "text": [
      "       CIK            Company Name Form Type  Date Filed  \\\n",
      "0  1000032           BINCH JAMES G         4  2015-06-02   \n",
      "1  1000045  NICHOLAS FINANCIAL INC      10-K  2015-06-15   \n",
      "2  1000045  NICHOLAS FINANCIAL INC       4/A  2015-05-14   \n",
      "3  1000045  NICHOLAS FINANCIAL INC         4  2015-04-22   \n",
      "4  1000045  NICHOLAS FINANCIAL INC         4  2015-04-22   \n",
      "\n",
      "                                      Filename  \n",
      "0  edgar/data/1000032/0001209191-15-049043.txt  \n",
      "1  edgar/data/1000045/0001193125-15-223218.txt  \n",
      "2  edgar/data/1000045/0001140361-15-019826.txt  \n",
      "3  edgar/data/1000045/0001140361-15-016100.txt  \n",
      "4  edgar/data/1000045/0001140361-15-016102.txt  \n"
     ]
    },
    {
     "name": "stderr",
     "output_type": "stream",
     "text": [
      " 66%|██████▌   | 62/94 [01:21<00:52,  1.64s/it]"
     ]
    },
    {
     "name": "stdout",
     "output_type": "stream",
     "text": [
      "       CIK            Company Name Form Type  Date Filed  \\\n",
      "0  1000032           BINCH JAMES G         4  2015-09-02   \n",
      "1  1000045  NICHOLAS FINANCIAL INC      10-Q  2015-08-10   \n",
      "2  1000045  NICHOLAS FINANCIAL INC         3  2015-09-29   \n",
      "3  1000045  NICHOLAS FINANCIAL INC         4  2015-09-29   \n",
      "4  1000045  NICHOLAS FINANCIAL INC         4  2015-09-29   \n",
      "\n",
      "                                      Filename  \n",
      "0  edgar/data/1000032/0001209191-15-069119.txt  \n",
      "1  edgar/data/1000045/0001193125-15-283986.txt  \n",
      "2  edgar/data/1000045/0001654216-15-000002.txt  \n",
      "3  edgar/data/1000045/0001000045-15-000002.txt  \n",
      "4  edgar/data/1000045/0001654216-15-000003.txt  \n"
     ]
    },
    {
     "name": "stderr",
     "output_type": "stream",
     "text": [
      " 67%|██████▋   | 63/94 [01:22<00:49,  1.61s/it]"
     ]
    },
    {
     "name": "stdout",
     "output_type": "stream",
     "text": [
      "       CIK            Company Name Form Type  Date Filed  \\\n",
      "0  1000028       AIM SAFETY CO INC   REVOKED  2015-12-21   \n",
      "1  1000032           BINCH JAMES G         4  2015-12-02   \n",
      "2  1000032           BINCH JAMES G         4  2015-12-11   \n",
      "3  1000045  NICHOLAS FINANCIAL INC      10-Q  2015-11-09   \n",
      "4  1000045  NICHOLAS FINANCIAL INC       8-K  2015-10-29   \n",
      "\n",
      "                                      Filename  \n",
      "0  edgar/data/1000028/9999999997-15-015914.txt  \n",
      "1  edgar/data/1000032/0001209191-15-082911.txt  \n",
      "2  edgar/data/1000032/0001209191-15-084690.txt  \n",
      "3  edgar/data/1000045/0001193125-15-371499.txt  \n",
      "4  edgar/data/1000045/0001193125-15-357258.txt  \n"
     ]
    },
    {
     "name": "stderr",
     "output_type": "stream",
     "text": [
      " 68%|██████▊   | 64/94 [01:23<00:43,  1.44s/it]"
     ]
    },
    {
     "name": "stdout",
     "output_type": "stream",
     "text": [
      "       CIK            Company Name Form Type  Date Filed  \\\n",
      "0  1000032           BINCH JAMES G         4  2016-03-02   \n",
      "1  1000032           BINCH JAMES G         4  2016-03-11   \n",
      "2  1000045  NICHOLAS FINANCIAL INC      10-Q  2016-02-09   \n",
      "3  1000045  NICHOLAS FINANCIAL INC     8-K/A  2016-02-01   \n",
      "4  1000045  NICHOLAS FINANCIAL INC       8-K  2016-01-28   \n",
      "\n",
      "                                      Filename  \n",
      "0  edgar/data/1000032/0001209191-16-104477.txt  \n",
      "1  edgar/data/1000032/0001209191-16-107917.txt  \n",
      "2  edgar/data/1000045/0001193125-16-454777.txt  \n",
      "3  edgar/data/1000045/0001193125-16-445158.txt  \n",
      "4  edgar/data/1000045/0001193125-16-440817.txt  \n"
     ]
    },
    {
     "name": "stderr",
     "output_type": "stream",
     "text": [
      " 69%|██████▉   | 65/94 [01:26<00:47,  1.64s/it]"
     ]
    },
    {
     "name": "stdout",
     "output_type": "stream",
     "text": [
      "       CIK            Company Name Form Type  Date Filed  \\\n",
      "0  1000032           BINCH JAMES G         4  2016-05-09   \n",
      "1  1000032           BINCH JAMES G         4  2016-06-02   \n",
      "2  1000032           BINCH JAMES G         4  2016-06-06   \n",
      "3  1000045  NICHOLAS FINANCIAL INC      10-K  2016-06-14   \n",
      "4  1000045  NICHOLAS FINANCIAL INC       8-K  2016-05-09   \n",
      "\n",
      "                                      Filename  \n",
      "0  edgar/data/1000032/0001209191-16-118467.txt  \n",
      "1  edgar/data/1000032/0001209191-16-125154.txt  \n",
      "2  edgar/data/1000032/0001209191-16-125990.txt  \n",
      "3  edgar/data/1000045/0001193125-16-620952.txt  \n",
      "4  edgar/data/1000045/0001193125-16-583445.txt  \n"
     ]
    },
    {
     "name": "stderr",
     "output_type": "stream",
     "text": [
      " 70%|███████   | 66/94 [01:27<00:46,  1.65s/it]"
     ]
    },
    {
     "name": "stdout",
     "output_type": "stream",
     "text": [
      "       CIK            Company Name Form Type  Date Filed  \\\n",
      "0  1000032           BINCH JAMES G         4  2016-09-06   \n",
      "1  1000045  NICHOLAS FINANCIAL INC      10-Q  2016-08-09   \n",
      "2  1000045  NICHOLAS FINANCIAL INC         3  2016-07-06   \n",
      "3  1000045  NICHOLAS FINANCIAL INC         4  2016-07-20   \n",
      "4  1000045  NICHOLAS FINANCIAL INC         4  2016-07-20   \n",
      "\n",
      "                                      Filename  \n",
      "0  edgar/data/1000032/0001209191-16-140125.txt  \n",
      "1  edgar/data/1000045/0001193125-16-676314.txt  \n",
      "2  edgar/data/1000045/0001678638-16-000001.txt  \n",
      "3  edgar/data/1000045/0001000045-16-000003.txt  \n",
      "4  edgar/data/1000045/0001000045-16-000004.txt  \n"
     ]
    },
    {
     "name": "stderr",
     "output_type": "stream",
     "text": [
      " 71%|███████▏  | 67/94 [01:29<00:44,  1.63s/it]"
     ]
    },
    {
     "name": "stdout",
     "output_type": "stream",
     "text": [
      "       CIK            Company Name Form Type  Date Filed  \\\n",
      "0  1000032           BINCH JAMES G         4  2016-11-07   \n",
      "1  1000032           BINCH JAMES G         4  2016-12-02   \n",
      "2  1000045  NICHOLAS FINANCIAL INC      10-Q  2016-11-09   \n",
      "3  1000045  NICHOLAS FINANCIAL INC         4  2016-10-04   \n",
      "4  1000045  NICHOLAS FINANCIAL INC         4  2016-10-04   \n",
      "\n",
      "                                      Filename  \n",
      "0  edgar/data/1000032/0001209191-16-148633.txt  \n",
      "1  edgar/data/1000032/0001209191-16-153119.txt  \n",
      "2  edgar/data/1000045/0001193125-16-763849.txt  \n",
      "3  edgar/data/1000045/0001000045-16-000006.txt  \n",
      "4  edgar/data/1000045/0001000045-16-000007.txt  \n"
     ]
    },
    {
     "name": "stderr",
     "output_type": "stream",
     "text": [
      " 72%|███████▏  | 68/94 [01:30<00:39,  1.53s/it]"
     ]
    },
    {
     "name": "stdout",
     "output_type": "stream",
     "text": [
      "       CIK            Company Name Form Type  Date Filed  \\\n",
      "0  1000032           BINCH JAMES G         4  2017-03-02   \n",
      "1  1000032           BINCH JAMES G         4  2017-03-10   \n",
      "2  1000032           BINCH JAMES G         4  2017-03-10   \n",
      "3  1000045  NICHOLAS FINANCIAL INC      10-Q  2017-02-09   \n",
      "4  1000045  NICHOLAS FINANCIAL INC         3  2017-01-05   \n",
      "\n",
      "                                      Filename  \n",
      "0  edgar/data/1000032/0001209191-17-016798.txt  \n",
      "1  edgar/data/1000032/0001209191-17-019745.txt  \n",
      "2  edgar/data/1000032/0001209191-17-019846.txt  \n",
      "3  edgar/data/1000045/0001193125-17-035551.txt  \n",
      "4  edgar/data/1000045/0001398344-17-000151.txt  \n"
     ]
    },
    {
     "name": "stderr",
     "output_type": "stream",
     "text": [
      " 73%|███████▎  | 69/94 [01:32<00:40,  1.63s/it]"
     ]
    },
    {
     "name": "stdout",
     "output_type": "stream",
     "text": [
      "       CIK            Company Name Form Type  Date Filed  \\\n",
      "0  1000032           BINCH JAMES G         4  2017-06-01   \n",
      "1  1000045  NICHOLAS FINANCIAL INC      10-K  2017-06-14   \n",
      "2  1000045  NICHOLAS FINANCIAL INC         4  2017-05-24   \n",
      "3  1000045  NICHOLAS FINANCIAL INC         4  2017-05-30   \n",
      "4  1000045  NICHOLAS FINANCIAL INC         4  2017-05-30   \n",
      "\n",
      "                                      Filename  \n",
      "0  edgar/data/1000032/0001209191-17-036901.txt  \n",
      "1  edgar/data/1000045/0001193125-17-203193.txt  \n",
      "2  edgar/data/1000045/0001398344-17-006781.txt  \n",
      "3  edgar/data/1000045/0001000045-17-000001.txt  \n",
      "4  edgar/data/1000045/0001000045-17-000002.txt  \n"
     ]
    },
    {
     "name": "stderr",
     "output_type": "stream",
     "text": [
      " 74%|███████▍  | 70/94 [01:35<00:46,  1.93s/it]"
     ]
    },
    {
     "name": "stdout",
     "output_type": "stream",
     "text": [
      "       CIK            Company Name Form Type  Date Filed  \\\n",
      "0  1000032           BINCH JAMES G         4  2017-08-08   \n",
      "1  1000032           BINCH JAMES G         4  2017-09-05   \n",
      "2  1000045  NICHOLAS FINANCIAL INC      10-Q  2017-08-09   \n",
      "3  1000045  NICHOLAS FINANCIAL INC       4/A  2017-07-11   \n",
      "4  1000045  NICHOLAS FINANCIAL INC         4  2017-07-11   \n",
      "\n",
      "                                      Filename  \n",
      "0  edgar/data/1000032/0000913165-17-000021.txt  \n",
      "1  edgar/data/1000032/0000913165-17-000032.txt  \n",
      "2  edgar/data/1000045/0001193125-17-252199.txt  \n",
      "3  edgar/data/1000045/0001000045-17-000006.txt  \n",
      "4  edgar/data/1000045/0001000045-17-000004.txt  \n"
     ]
    },
    {
     "name": "stderr",
     "output_type": "stream",
     "text": [
      " 76%|███████▌  | 71/94 [01:36<00:37,  1.65s/it]"
     ]
    },
    {
     "name": "stdout",
     "output_type": "stream",
     "text": [
      "       CIK            Company Name Form Type  Date Filed  \\\n",
      "0  1000032           BINCH JAMES G         4  2017-12-04   \n",
      "1  1000045  NICHOLAS FINANCIAL INC      10-Q  2017-11-09   \n",
      "2  1000045  NICHOLAS FINANCIAL INC         3  2017-10-20   \n",
      "3  1000045  NICHOLAS FINANCIAL INC         3  2017-12-13   \n",
      "4  1000045  NICHOLAS FINANCIAL INC         4  2017-10-04   \n",
      "\n",
      "                                      Filename  \n",
      "0  edgar/data/1000032/0000913165-17-000048.txt  \n",
      "1  edgar/data/1000045/0001193125-17-338757.txt  \n",
      "2  edgar/data/1000045/0001000045-17-000015.txt  \n",
      "3  edgar/data/1000045/0001496701-17-000001.txt  \n",
      "4  edgar/data/1000045/0001000045-17-000013.txt  \n"
     ]
    },
    {
     "name": "stderr",
     "output_type": "stream",
     "text": [
      " 77%|███████▋  | 72/94 [01:37<00:34,  1.55s/it]"
     ]
    },
    {
     "name": "stdout",
     "output_type": "stream",
     "text": [
      "       CIK            Company Name Form Type  Date Filed  \\\n",
      "0  1000032           BINCH JAMES G         4  2018-02-16   \n",
      "1  1000045  NICHOLAS FINANCIAL INC      10-Q  2018-02-09   \n",
      "2  1000045  NICHOLAS FINANCIAL INC         4  2018-02-15   \n",
      "3  1000045  NICHOLAS FINANCIAL INC         4  2018-03-08   \n",
      "4  1000045  NICHOLAS FINANCIAL INC         4  2018-03-20   \n",
      "\n",
      "                                      Filename  \n",
      "0  edgar/data/1000032/0000913165-18-000034.txt  \n",
      "1  edgar/data/1000045/0001193125-18-037381.txt  \n",
      "2  edgar/data/1000045/0001000045-18-000004.txt  \n",
      "3  edgar/data/1000045/0001000045-18-000005.txt  \n",
      "4  edgar/data/1000045/0001609591-18-000001.txt  \n"
     ]
    },
    {
     "name": "stderr",
     "output_type": "stream",
     "text": [
      " 78%|███████▊  | 73/94 [01:38<00:32,  1.52s/it]"
     ]
    },
    {
     "name": "stdout",
     "output_type": "stream",
     "text": [
      "       CIK            Company Name Form Type  Date Filed  \\\n",
      "0  1000045  NICHOLAS FINANCIAL INC      10-K  2018-06-27   \n",
      "1  1000045  NICHOLAS FINANCIAL INC         3  2018-04-02   \n",
      "2  1000045  NICHOLAS FINANCIAL INC         3  2018-06-27   \n",
      "3  1000045  NICHOLAS FINANCIAL INC         4  2018-04-27   \n",
      "4  1000045  NICHOLAS FINANCIAL INC       8-K  2018-04-04   \n",
      "\n",
      "                                      Filename  \n",
      "0  edgar/data/1000045/0001193125-18-205637.txt  \n",
      "1  edgar/data/1000045/0001736213-18-000001.txt  \n",
      "2  edgar/data/1000045/0001357521-18-000003.txt  \n",
      "3  edgar/data/1000045/0001609591-18-000002.txt  \n",
      "4  edgar/data/1000045/0001193125-18-106701.txt  \n"
     ]
    },
    {
     "name": "stderr",
     "output_type": "stream",
     "text": [
      " 79%|███████▊  | 74/94 [01:40<00:29,  1.46s/it]"
     ]
    },
    {
     "name": "stdout",
     "output_type": "stream",
     "text": [
      "       CIK            Company Name Form Type  Date Filed  \\\n",
      "0  1000045  NICHOLAS FINANCIAL INC      10-Q  2018-08-14   \n",
      "1  1000045  NICHOLAS FINANCIAL INC         4  2018-07-02   \n",
      "2  1000045  NICHOLAS FINANCIAL INC         4  2018-07-02   \n",
      "3  1000045  NICHOLAS FINANCIAL INC         4  2018-07-10   \n",
      "4  1000045  NICHOLAS FINANCIAL INC         4  2018-08-09   \n",
      "\n",
      "                                      Filename  \n",
      "0  edgar/data/1000045/0001193125-18-248315.txt  \n",
      "1  edgar/data/1000045/0001496701-18-000001.txt  \n",
      "2  edgar/data/1000045/0001667769-18-000001.txt  \n",
      "3  edgar/data/1000045/0001398344-18-009971.txt  \n",
      "4  edgar/data/1000045/0001398344-18-011529.txt  \n"
     ]
    },
    {
     "name": "stderr",
     "output_type": "stream",
     "text": [
      " 80%|███████▉  | 75/94 [01:41<00:26,  1.39s/it]"
     ]
    },
    {
     "name": "stdout",
     "output_type": "stream",
     "text": [
      "       CIK            Company Name Form Type  Date Filed  \\\n",
      "0  1000045  NICHOLAS FINANCIAL INC      10-Q  2018-11-14   \n",
      "1  1000045  NICHOLAS FINANCIAL INC         4  2018-10-15   \n",
      "2  1000045  NICHOLAS FINANCIAL INC         4  2018-11-15   \n",
      "3  1000045  NICHOLAS FINANCIAL INC         4  2018-12-14   \n",
      "4  1000045  NICHOLAS FINANCIAL INC       8-K  2018-11-01   \n",
      "\n",
      "                                      Filename  \n",
      "0  edgar/data/1000045/0001193125-18-326090.txt  \n",
      "1  edgar/data/1000045/0001357521-18-000008.txt  \n",
      "2  edgar/data/1000045/0001357521-18-000009.txt  \n",
      "3  edgar/data/1000045/0001357521-18-000010.txt  \n",
      "4  edgar/data/1000045/0001193125-18-314942.txt  \n"
     ]
    },
    {
     "name": "stderr",
     "output_type": "stream",
     "text": [
      " 81%|████████  | 76/94 [01:42<00:25,  1.41s/it]"
     ]
    },
    {
     "name": "stdout",
     "output_type": "stream",
     "text": [
      "       CIK            Company Name Form Type  Date Filed  \\\n",
      "0  1000045  NICHOLAS FINANCIAL INC      10-Q  2019-02-14   \n",
      "1  1000045  NICHOLAS FINANCIAL INC         4  2019-01-15   \n",
      "2  1000045  NICHOLAS FINANCIAL INC         4  2019-02-19   \n",
      "3  1000045  NICHOLAS FINANCIAL INC         4  2019-03-15   \n",
      "4  1000045  NICHOLAS FINANCIAL INC       8-K  2019-02-01   \n",
      "\n",
      "                                      Filename  \n",
      "0  edgar/data/1000045/0001193125-19-039489.txt  \n",
      "1  edgar/data/1000045/0001357521-19-000001.txt  \n",
      "2  edgar/data/1000045/0001357521-19-000002.txt  \n",
      "3  edgar/data/1000045/0001357521-19-000003.txt  \n",
      "4  edgar/data/1000045/0001193125-19-024617.txt  \n"
     ]
    },
    {
     "name": "stderr",
     "output_type": "stream",
     "text": [
      " 82%|████████▏ | 77/94 [01:44<00:24,  1.45s/it]"
     ]
    },
    {
     "name": "stdout",
     "output_type": "stream",
     "text": [
      "       CIK            Company Name Form Type  Date Filed  \\\n",
      "0  1000045  NICHOLAS FINANCIAL INC      10-K  2019-06-28   \n",
      "1  1000045  NICHOLAS FINANCIAL INC       4/A  2019-04-16   \n",
      "2  1000045  NICHOLAS FINANCIAL INC         4  2019-04-15   \n",
      "3  1000045  NICHOLAS FINANCIAL INC         4  2019-05-16   \n",
      "4  1000045  NICHOLAS FINANCIAL INC         4  2019-05-31   \n",
      "\n",
      "                                      Filename  \n",
      "0  edgar/data/1000045/0001564590-19-023956.txt  \n",
      "1  edgar/data/1000045/0001357521-19-000005.txt  \n",
      "2  edgar/data/1000045/0001357521-19-000004.txt  \n",
      "3  edgar/data/1000045/0001357521-19-000006.txt  \n",
      "4  edgar/data/1000045/0001357521-19-000007.txt  \n"
     ]
    },
    {
     "name": "stderr",
     "output_type": "stream",
     "text": [
      " 83%|████████▎ | 78/94 [01:46<00:24,  1.51s/it]"
     ]
    },
    {
     "name": "stdout",
     "output_type": "stream",
     "text": [
      "       CIK            Company Name Form Type  Date Filed  \\\n",
      "0  1000045  NICHOLAS FINANCIAL INC      10-Q  2019-08-14   \n",
      "1  1000045  NICHOLAS FINANCIAL INC         4  2019-08-14   \n",
      "2  1000045  NICHOLAS FINANCIAL INC         4  2019-08-15   \n",
      "3  1000045  NICHOLAS FINANCIAL INC         4  2019-08-20   \n",
      "4  1000045  NICHOLAS FINANCIAL INC         4  2019-08-21   \n",
      "\n",
      "                                      Filename  \n",
      "0  edgar/data/1000045/0001564590-19-031992.txt  \n",
      "1  edgar/data/1000045/0001357521-19-000014.txt  \n",
      "2  edgar/data/1000045/0001398344-19-014522.txt  \n",
      "3  edgar/data/1000045/0001398344-19-014703.txt  \n",
      "4  edgar/data/1000045/0001000045-19-000004.txt  \n"
     ]
    },
    {
     "name": "stderr",
     "output_type": "stream",
     "text": [
      " 84%|████████▍ | 79/94 [01:47<00:20,  1.37s/it]"
     ]
    },
    {
     "name": "stdout",
     "output_type": "stream",
     "text": [
      "       CIK            Company Name Form Type  Date Filed  \\\n",
      "0  1000045  NICHOLAS FINANCIAL INC      10-Q  2019-11-14   \n",
      "1  1000045  NICHOLAS FINANCIAL INC         3  2019-11-25   \n",
      "2  1000045  NICHOLAS FINANCIAL INC         4  2019-10-31   \n",
      "3  1000045  NICHOLAS FINANCIAL INC         4  2019-11-14   \n",
      "4  1000045  NICHOLAS FINANCIAL INC         4  2019-11-14   \n",
      "\n",
      "                                      Filename  \n",
      "0  edgar/data/1000045/0001564590-19-043374.txt  \n",
      "1  edgar/data/1000045/0001794162-19-000001.txt  \n",
      "2  edgar/data/1000045/0001357521-19-000017.txt  \n",
      "3  edgar/data/1000045/0001398344-19-020395.txt  \n",
      "4  edgar/data/1000045/0001720104-19-000001.txt  \n"
     ]
    },
    {
     "name": "stderr",
     "output_type": "stream",
     "text": [
      " 85%|████████▌ | 80/94 [01:48<00:18,  1.31s/it]"
     ]
    },
    {
     "name": "stdout",
     "output_type": "stream",
     "text": [
      "       CIK            Company Name Form Type  Date Filed  \\\n",
      "0  1000045  NICHOLAS FINANCIAL INC      10-Q  2020-02-14   \n",
      "1  1000045  NICHOLAS FINANCIAL INC         4  2020-02-11   \n",
      "2  1000045  NICHOLAS FINANCIAL INC         4  2020-03-02   \n",
      "3  1000045  NICHOLAS FINANCIAL INC         4  2020-03-03   \n",
      "4  1000045  NICHOLAS FINANCIAL INC         4  2020-03-06   \n",
      "\n",
      "                                      Filename  \n",
      "0  edgar/data/1000045/0001564590-20-004703.txt  \n",
      "1  edgar/data/1000045/0001794162-20-000001.txt  \n",
      "2  edgar/data/1000045/0001794162-20-000002.txt  \n",
      "3  edgar/data/1000045/0001398344-20-005055.txt  \n",
      "4  edgar/data/1000045/0001398344-20-005566.txt  \n"
     ]
    },
    {
     "name": "stderr",
     "output_type": "stream",
     "text": [
      " 86%|████████▌ | 81/94 [01:49<00:18,  1.39s/it]"
     ]
    },
    {
     "name": "stdout",
     "output_type": "stream",
     "text": [
      "       CIK            Company Name Form Type  Date Filed  \\\n",
      "0  1000045  NICHOLAS FINANCIAL INC      10-K  2020-06-22   \n",
      "1  1000045  NICHOLAS FINANCIAL INC       4/A  2020-06-09   \n",
      "2  1000045  NICHOLAS FINANCIAL INC         4  2020-06-09   \n",
      "3  1000045  NICHOLAS FINANCIAL INC         4  2020-06-10   \n",
      "4  1000045  NICHOLAS FINANCIAL INC         4  2020-06-29   \n",
      "\n",
      "                                      Filename  \n",
      "0  edgar/data/1000045/0001564590-20-030033.txt  \n",
      "1  edgar/data/1000045/0001496701-20-000002.txt  \n",
      "2  edgar/data/1000045/0001496701-20-000001.txt  \n",
      "3  edgar/data/1000045/0001398344-20-012371.txt  \n",
      "4  edgar/data/1000045/0001720104-20-000001.txt  \n"
     ]
    },
    {
     "name": "stderr",
     "output_type": "stream",
     "text": [
      " 87%|████████▋ | 82/94 [01:51<00:16,  1.37s/it]"
     ]
    },
    {
     "name": "stdout",
     "output_type": "stream",
     "text": [
      "       CIK            Company Name Form Type  Date Filed  \\\n",
      "0  1000045  NICHOLAS FINANCIAL INC      10-Q  2020-08-07   \n",
      "1  1000045  NICHOLAS FINANCIAL INC       4/A  2020-08-28   \n",
      "2  1000045  NICHOLAS FINANCIAL INC         4  2020-08-04   \n",
      "3  1000045  NICHOLAS FINANCIAL INC         4  2020-08-11   \n",
      "4  1000045  NICHOLAS FINANCIAL INC         4  2020-08-27   \n",
      "\n",
      "                                      Filename  \n",
      "0  edgar/data/1000045/0001564590-20-038089.txt  \n",
      "1  edgar/data/1000045/0001720104-20-000003.txt  \n",
      "2  edgar/data/1000045/0001496701-20-000003.txt  \n",
      "3  edgar/data/1000045/0001398344-20-015534.txt  \n",
      "4  edgar/data/1000045/0001398344-20-017478.txt  \n"
     ]
    },
    {
     "name": "stderr",
     "output_type": "stream",
     "text": [
      " 88%|████████▊ | 83/94 [01:52<00:14,  1.30s/it]"
     ]
    },
    {
     "name": "stdout",
     "output_type": "stream",
     "text": [
      "       CIK            Company Name Form Type  Date Filed  \\\n",
      "0  1000045  NICHOLAS FINANCIAL INC      10-Q  2020-11-12   \n",
      "1  1000045  NICHOLAS FINANCIAL INC         4  2020-11-04   \n",
      "2  1000045  NICHOLAS FINANCIAL INC         4  2020-11-06   \n",
      "3  1000045  NICHOLAS FINANCIAL INC         4  2020-11-06   \n",
      "4  1000045  NICHOLAS FINANCIAL INC         4  2020-11-09   \n",
      "\n",
      "                                      Filename  \n",
      "0  edgar/data/1000045/0001564590-20-053323.txt  \n",
      "1  edgar/data/1000045/0001720104-20-000006.txt  \n",
      "2  edgar/data/1000045/0001654216-20-000002.txt  \n",
      "3  edgar/data/1000045/0001720104-20-000007.txt  \n",
      "4  edgar/data/1000045/0001720104-20-000008.txt  \n"
     ]
    },
    {
     "name": "stderr",
     "output_type": "stream",
     "text": [
      " 89%|████████▉ | 84/94 [01:53<00:12,  1.29s/it]"
     ]
    },
    {
     "name": "stdout",
     "output_type": "stream",
     "text": [
      "       CIK            Company Name Form Type  Date Filed  \\\n",
      "0  1000045  NICHOLAS FINANCIAL INC      10-Q  2021-02-11   \n",
      "1  1000045  NICHOLAS FINANCIAL INC       4/A  2021-02-12   \n",
      "2  1000045  NICHOLAS FINANCIAL INC         4  2021-02-08   \n",
      "3  1000045  NICHOLAS FINANCIAL INC         4  2021-02-09   \n",
      "4  1000045  NICHOLAS FINANCIAL INC       8-K  2021-01-25   \n",
      "\n",
      "                                      Filename  \n",
      "0  edgar/data/1000045/0001564590-21-005399.txt  \n",
      "1  edgar/data/1000045/0001398344-21-003309.txt  \n",
      "2  edgar/data/1000045/0001496701-21-000001.txt  \n",
      "3  edgar/data/1000045/0001398344-21-002769.txt  \n",
      "4  edgar/data/1000045/0001564590-21-002004.txt  \n"
     ]
    },
    {
     "name": "stderr",
     "output_type": "stream",
     "text": [
      " 90%|█████████ | 85/94 [01:55<00:13,  1.47s/it]"
     ]
    },
    {
     "name": "stdout",
     "output_type": "stream",
     "text": [
      "       CIK            Company Name Form Type  Date Filed  \\\n",
      "0  1000045  NICHOLAS FINANCIAL INC      10-K  2021-06-22   \n",
      "1  1000045  NICHOLAS FINANCIAL INC         4  2021-06-07   \n",
      "2  1000045  NICHOLAS FINANCIAL INC         4  2021-06-10   \n",
      "3  1000045  NICHOLAS FINANCIAL INC         4  2021-06-10   \n",
      "4  1000045  NICHOLAS FINANCIAL INC         4  2021-06-28   \n",
      "\n",
      "                                      Filename  \n",
      "0  edgar/data/1000045/0001564590-21-033737.txt  \n",
      "1  edgar/data/1000045/0001398344-21-012753.txt  \n",
      "2  edgar/data/1000045/0001000045-21-000001.txt  \n",
      "3  edgar/data/1000045/0001398344-21-012995.txt  \n",
      "4  edgar/data/1000045/0001398344-21-013447.txt  \n"
     ]
    },
    {
     "name": "stderr",
     "output_type": "stream",
     "text": [
      " 91%|█████████▏| 86/94 [01:57<00:12,  1.51s/it]"
     ]
    },
    {
     "name": "stdout",
     "output_type": "stream",
     "text": [
      "       CIK            Company Name Form Type  Date Filed  \\\n",
      "0  1000045  NICHOLAS FINANCIAL INC      10-Q  2021-08-12   \n",
      "1  1000045  NICHOLAS FINANCIAL INC         4  2021-07-06   \n",
      "2  1000045  NICHOLAS FINANCIAL INC         4  2021-08-03   \n",
      "3  1000045  NICHOLAS FINANCIAL INC         4  2021-08-05   \n",
      "4  1000045  NICHOLAS FINANCIAL INC         4  2021-08-10   \n",
      "\n",
      "                                      Filename  \n",
      "0  edgar/data/1000045/0001564590-21-043733.txt  \n",
      "1  edgar/data/1000045/0001000045-21-000002.txt  \n",
      "2  edgar/data/1000045/0001000045-21-000003.txt  \n",
      "3  edgar/data/1000045/0001398344-21-015583.txt  \n",
      "4  edgar/data/1000045/0001398344-21-015867.txt  \n"
     ]
    },
    {
     "name": "stderr",
     "output_type": "stream",
     "text": [
      " 93%|█████████▎| 87/94 [01:58<00:10,  1.50s/it]"
     ]
    },
    {
     "name": "stdout",
     "output_type": "stream",
     "text": [
      "       CIK            Company Name Form Type  Date Filed  \\\n",
      "0  1000045  NICHOLAS FINANCIAL INC      10-Q  2021-11-12   \n",
      "1  1000045  NICHOLAS FINANCIAL INC         3  2021-10-12   \n",
      "2  1000045  NICHOLAS FINANCIAL INC         3  2021-10-12   \n",
      "3  1000045  NICHOLAS FINANCIAL INC         4  2021-10-12   \n",
      "4  1000045  NICHOLAS FINANCIAL INC         4  2021-10-12   \n",
      "\n",
      "                                      Filename  \n",
      "0  edgar/data/1000045/0000950170-21-004287.txt  \n",
      "1  edgar/data/1000045/0001689627-21-000008.txt  \n",
      "2  edgar/data/1000045/0001689627-21-000009.txt  \n",
      "3  edgar/data/1000045/0001398344-21-019860.txt  \n",
      "4  edgar/data/1000045/0001689627-21-000003.txt  \n"
     ]
    },
    {
     "name": "stderr",
     "output_type": "stream",
     "text": [
      " 94%|█████████▎| 88/94 [02:00<00:09,  1.51s/it]"
     ]
    },
    {
     "name": "stdout",
     "output_type": "stream",
     "text": [
      "       CIK            Company Name Form Type  Date Filed  \\\n",
      "0  1000045  NICHOLAS FINANCIAL INC      10-Q  2022-02-09   \n",
      "1  1000045  NICHOLAS FINANCIAL INC         4  2022-02-03   \n",
      "2  1000045  NICHOLAS FINANCIAL INC         4  2022-02-03   \n",
      "3  1000045  NICHOLAS FINANCIAL INC         4  2022-02-11   \n",
      "4  1000045  NICHOLAS FINANCIAL INC         4  2022-02-18   \n",
      "\n",
      "                                      Filename  \n",
      "0  edgar/data/1000045/0000950170-22-000940.txt  \n",
      "1  edgar/data/1000045/0001000045-22-000001.txt  \n",
      "2  edgar/data/1000045/0001000045-22-000002.txt  \n",
      "3  edgar/data/1000045/0001398344-22-002841.txt  \n",
      "4  edgar/data/1000045/0001398344-22-003655.txt  \n"
     ]
    },
    {
     "name": "stderr",
     "output_type": "stream",
     "text": [
      " 95%|█████████▍| 89/94 [02:02<00:08,  1.69s/it]"
     ]
    },
    {
     "name": "stdout",
     "output_type": "stream",
     "text": [
      "       CIK            Company Name Form Type  Date Filed  \\\n",
      "0  1000045  NICHOLAS FINANCIAL INC      10-K  2022-06-24   \n",
      "1  1000045  NICHOLAS FINANCIAL INC         3  2022-05-19   \n",
      "2  1000045  NICHOLAS FINANCIAL INC         4  2022-05-11   \n",
      "3  1000045  NICHOLAS FINANCIAL INC         4  2022-06-01   \n",
      "4  1000045  NICHOLAS FINANCIAL INC     8-K/A  2022-05-17   \n",
      "\n",
      "                                      Filename  \n",
      "0  edgar/data/1000045/0000950170-22-012061.txt  \n",
      "1  edgar/data/1000045/0001929257-22-000001.txt  \n",
      "2  edgar/data/1000045/0001000045-22-000003.txt  \n",
      "3  edgar/data/1000045/0001398344-22-011349.txt  \n",
      "4  edgar/data/1000045/0000950170-22-010155.txt  \n"
     ]
    },
    {
     "name": "stderr",
     "output_type": "stream",
     "text": [
      " 96%|█████████▌| 90/94 [02:03<00:06,  1.63s/it]"
     ]
    },
    {
     "name": "stdout",
     "output_type": "stream",
     "text": [
      "       CIK            Company Name Form Type  Date Filed  \\\n",
      "0  1000045  NICHOLAS FINANCIAL INC      10-Q  2022-08-10   \n",
      "1  1000045  NICHOLAS FINANCIAL INC         4  2022-09-01   \n",
      "2  1000045  NICHOLAS FINANCIAL INC         4  2022-09-01   \n",
      "3  1000045  NICHOLAS FINANCIAL INC         4  2022-09-01   \n",
      "4  1000045  NICHOLAS FINANCIAL INC         4  2022-09-01   \n",
      "\n",
      "                                      Filename  \n",
      "0  edgar/data/1000045/0000950170-22-016293.txt  \n",
      "1  edgar/data/1000045/0001000045-22-000004.txt  \n",
      "2  edgar/data/1000045/0001000045-22-000005.txt  \n",
      "3  edgar/data/1000045/0001000045-22-000006.txt  \n",
      "4  edgar/data/1000045/0001000045-22-000007.txt  \n"
     ]
    },
    {
     "name": "stderr",
     "output_type": "stream",
     "text": [
      " 97%|█████████▋| 91/94 [02:05<00:04,  1.60s/it]"
     ]
    },
    {
     "name": "stdout",
     "output_type": "stream",
     "text": [
      "       CIK            Company Name Form Type  Date Filed  \\\n",
      "0  1000045  NICHOLAS FINANCIAL INC      10-Q  2022-11-14   \n",
      "1  1000045  NICHOLAS FINANCIAL INC         4  2022-11-18   \n",
      "2  1000045  NICHOLAS FINANCIAL INC         4  2022-11-21   \n",
      "3  1000045  NICHOLAS FINANCIAL INC       8-K  2022-10-27   \n",
      "4  1000045  NICHOLAS FINANCIAL INC       8-K  2022-11-03   \n",
      "\n",
      "                                      Filename  \n",
      "0  edgar/data/1000045/0000950170-22-024756.txt  \n",
      "1  edgar/data/1000045/0001000045-22-000008.txt  \n",
      "2  edgar/data/1000045/0001000045-22-000009.txt  \n",
      "3  edgar/data/1000045/0000950170-22-020230.txt  \n",
      "4  edgar/data/1000045/0000950170-22-021926.txt  \n"
     ]
    },
    {
     "name": "stderr",
     "output_type": "stream",
     "text": [
      " 98%|█████████▊| 92/94 [02:06<00:02,  1.50s/it]"
     ]
    },
    {
     "name": "stdout",
     "output_type": "stream",
     "text": [
      "       CIK            Company Name Form Type  Date Filed  \\\n",
      "0  1000045  NICHOLAS FINANCIAL INC      10-Q  2023-02-14   \n",
      "1  1000045  NICHOLAS FINANCIAL INC         4  2023-02-24   \n",
      "2  1000045  NICHOLAS FINANCIAL INC         4  2023-02-28   \n",
      "3  1000045  NICHOLAS FINANCIAL INC         4  2023-03-09   \n",
      "4  1000045  NICHOLAS FINANCIAL INC       8-K  2023-01-24   \n",
      "\n",
      "                                      Filename  \n",
      "0  edgar/data/1000045/0000950170-23-002704.txt  \n",
      "1  edgar/data/1000045/0001000045-23-000001.txt  \n",
      "2  edgar/data/1000045/0001000045-23-000002.txt  \n",
      "3  edgar/data/1000045/0001398344-23-005935.txt  \n",
      "4  edgar/data/1000045/0000950170-23-001040.txt  \n"
     ]
    },
    {
     "name": "stderr",
     "output_type": "stream",
     "text": [
      " 99%|█████████▉| 93/94 [02:08<00:01,  1.72s/it]"
     ]
    },
    {
     "name": "stdout",
     "output_type": "stream",
     "text": [
      "       CIK                        Company Name Form Type  Date Filed  \\\n",
      "0  1000045              NICHOLAS FINANCIAL INC      10-K  2023-06-27   \n",
      "1  1000045              NICHOLAS FINANCIAL INC       8-K  2023-06-21   \n",
      "2  1000045              NICHOLAS FINANCIAL INC       8-K  2023-06-29   \n",
      "3  1000097  KINGDON CAPITAL MANAGEMENT, L.L.C.    13F-HR  2023-05-15   \n",
      "4  1000097  KINGDON CAPITAL MANAGEMENT, L.L.C.    SC 13G  2023-04-13   \n",
      "\n",
      "                                      Filename  \n",
      "0  edgar/data/1000045/0000950170-23-030037.txt  \n",
      "1  edgar/data/1000045/0000950170-23-029127.txt  \n",
      "2  edgar/data/1000045/0000950170-23-030797.txt  \n",
      "3  edgar/data/1000097/0001000097-23-000006.txt  \n",
      "4  edgar/data/1000097/0000919574-23-002565.txt  \n"
     ]
    },
    {
     "name": "stderr",
     "output_type": "stream",
     "text": [
      "100%|██████████| 94/94 [02:10<00:00,  1.39s/it]\n"
     ]
    }
   ],
   "source": [
    "\n",
    "import pandas as pd\n",
    "import io\n",
    "import re\n",
    "\n",
    "for (yr, qr) in tqdm(filing_periods):\n",
    "    path = sec_path / f'{yr}_{qr}' / 'source'\n",
    "    if not path.exists():\n",
    "        continue\n",
    "\n",
    "\n",
    "    file = \"master.idx\"    \n",
    "    local_file = path / 'master.txt'\n",
    "    output_file = path / 'master.csv'\n",
    "\n",
    "    with open(local_file, 'r', encoding='UTF-8', errors='ignore') as file:\n",
    "        content = file.read()\n",
    "\n",
    "    with open(local_file, 'rU', encoding='UTF-8', errors='ignore') as file:\n",
    "        lines = file.readlines()[11:]\n",
    "\n",
    "    # Define a regular expression pattern to extract the relevant information\n",
    "    pattern = re.compile(r'(\\d+)\\|([^|]+)\\|([^|]+)\\|(\\d{4}-\\d{2}-\\d{2})\\|([^|\\n]+)')\n",
    "\n",
    "    matches = []\n",
    "    non_matches = []\n",
    "\n",
    "    # Iterate through each line\n",
    "    for line in lines:\n",
    "        match = pattern.match(line)\n",
    "        if match:\n",
    "            matches.append(match.groups())\n",
    "        if not match:\n",
    "            non_matches.append(line)\n",
    "    \n",
    "    # Find all matches in the content\n",
    "    #matches = pattern.findall(content)\n",
    "\n",
    "    # Create a DataFrame from the matches\n",
    "    df = pd.DataFrame(matches, columns=['CIK', 'Company Name', 'Form Type', 'Date Filed', 'Filename'])\n",
    "\n",
    "    # Display the DataFrame\n",
    "    print(df.head())\n",
    "    df.to_csv(output_file, index=False)\n",
    "    "
   ]
  },
  {
   "cell_type": "code",
   "execution_count": 44,
   "metadata": {},
   "outputs": [
    {
     "name": "stderr",
     "output_type": "stream",
     "text": [
      "  0%|          | 0/1 [00:00<?, ?it/s]"
     ]
    },
    {
     "name": "stdout",
     "output_type": "stream",
     "text": [
      "        CIK                    Company Name Form Type  Date Filed  \\\n",
      "0   1000015                  META GROUP INC      10-K  2000-03-30   \n",
      "42  1000112  CC MASTER CREDIT CARD TRUST II      10-K  2000-03-27   \n",
      "68  1000181    FREMONT FUND LTD PARTNERSHIP      10-K  2000-03-31   \n",
      "87  1000227                   TB WOODS CORP      10-K  2000-03-28   \n",
      "95  1000228                SCHEIN HENRY INC      10-K  2000-03-24   \n",
      "\n",
      "                                       Filename  \n",
      "0   edgar/data/1000015/0000912057-00-014793.txt  \n",
      "42  edgar/data/1000112/0000930661-00-000704.txt  \n",
      "68  edgar/data/1000181/0001000181-00-000001.txt  \n",
      "87  edgar/data/1000227/0000950116-00-000643.txt  \n",
      "95  edgar/data/1000228/0000889812-00-001326.txt  \n",
      "TOTAL 10-K Filings in 2000q1: 4540\n"
     ]
    },
    {
     "name": "stderr",
     "output_type": "stream",
     "text": [
      "100%|██████████| 30/30 [00:06<00:00,  4.96it/s]\n",
      "100%|██████████| 1/1 [00:06<00:00,  6.30s/it]\n"
     ]
    }
   ],
   "source": [
    "for (yr, qr) in tqdm(filing_periods[0:1]):\n",
    "    path = sec_path / f'{yr}_{qr}' / 'source'\n",
    "    if not path.exists():\n",
    "        continue\n",
    "\n",
    "    csv_file_path = path / 'master.csv'\n",
    "    df = pd.read_csv(csv_file_path)\n",
    "    ten_k = df[df['Form Type'] == '10-K']\n",
    "    print(ten_k.head())\n",
    "    print(f\"TOTAL 10-K Filings in {yr}q{qr}: {len(ten_k)}\")\n",
    "    ten_k = df['Filename'].tolist()\n",
    "\n",
    "    path = sec_path / f'{yr}_{qr}' / '10-K'\n",
    "    if not path.exists():\n",
    "        path.mkdir(parents=True)\n",
    "\n",
    "    for file in tqdm(ten_k[0:30]):\n",
    "        file_url = \"https://www.sec.gov/Archives/\" + file\n",
    "        local_file = path / file.split('/')[-1]\n",
    "        response = requests.get(file_url, headers=headers)\n",
    "        if response.status_code == 200:\n",
    "            with open(local_file, 'wb') as file:\n",
    "                file.write(response.content)\n",
    "\n"
   ]
  }
 ],
 "metadata": {
  "kernelspec": {
   "display_name": "Python 3",
   "language": "python",
   "name": "python3"
  },
  "language_info": {
   "codemirror_mode": {
    "name": "ipython",
    "version": 3
   },
   "file_extension": ".py",
   "mimetype": "text/x-python",
   "name": "python",
   "nbconvert_exporter": "python",
   "pygments_lexer": "ipython3",
   "version": "3.10.1"
  }
 },
 "nbformat": 4,
 "nbformat_minor": 2
}
